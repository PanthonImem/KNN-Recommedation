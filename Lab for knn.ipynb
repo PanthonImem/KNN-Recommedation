{
 "cells": [
  {
   "cell_type": "markdown",
   "metadata": {},
   "source": [
    "# Collaborative Filtering"
   ]
  },
  {
   "cell_type": "markdown",
   "metadata": {},
   "source": [
    "Concept of collaborative Filtering, predictions (filtering) about the interests of a user by collecting preferences or taste information from many users (collaborating).\n",
    "\n",
    "![alt text](https://upload.wikimedia.org/wikipedia/commons/thumb/5/52/Collaborative_filtering.gif/300px-Collaborative_filtering.gif)\n",
    "\n",
    "In this lab, we'll implement __knn__ for finding the nearest neighbors and predict rating for each project and user by using \"sklern\". We separate this lab to 3 parts\n",
    "- Data Preparation\n",
    "- Fiting Model\n",
    "- Prediction to recommend next projects"
   ]
  },
  {
   "cell_type": "code",
   "execution_count": 1,
   "metadata": {
    "collapsed": true
   },
   "outputs": [],
   "source": [
    "# basic library\n",
    "import pandas as pd\n",
    "import numpy as np\n",
    "import matplotlib.pyplot as plt\n",
    "import datetime"
   ]
  },
  {
   "cell_type": "code",
   "execution_count": 2,
   "metadata": {},
   "outputs": [
    {
     "data": {
      "text/html": [
       "<div>\n",
       "<style>\n",
       "    .dataframe thead tr:only-child th {\n",
       "        text-align: right;\n",
       "    }\n",
       "\n",
       "    .dataframe thead th {\n",
       "        text-align: left;\n",
       "    }\n",
       "\n",
       "    .dataframe tbody tr th {\n",
       "        vertical-align: top;\n",
       "    }\n",
       "</style>\n",
       "<table border=\"1\" class=\"dataframe\">\n",
       "  <thead>\n",
       "    <tr style=\"text-align: right;\">\n",
       "      <th></th>\n",
       "      <th>userCode</th>\n",
       "      <th>project_id</th>\n",
       "      <th>requestedDevice</th>\n",
       "      <th>userAgent</th>\n",
       "      <th>pageReferrer</th>\n",
       "      <th>year</th>\n",
       "      <th>month</th>\n",
       "      <th>day</th>\n",
       "      <th>hour</th>\n",
       "    </tr>\n",
       "  </thead>\n",
       "  <tbody>\n",
       "    <tr>\n",
       "      <th>0</th>\n",
       "      <td>7717bdc2-ea3e-e8ad-5d6b-178bd71c38b2</td>\n",
       "      <td>7956</td>\n",
       "      <td>Mobile</td>\n",
       "      <td>Android</td>\n",
       "      <td>HomeWebsite</td>\n",
       "      <td>2018</td>\n",
       "      <td>1</td>\n",
       "      <td>1</td>\n",
       "      <td>0</td>\n",
       "    </tr>\n",
       "    <tr>\n",
       "      <th>1</th>\n",
       "      <td>7717bdc2-ea3e-e8ad-5d6b-178bd71c38b2</td>\n",
       "      <td>7956</td>\n",
       "      <td>Mobile</td>\n",
       "      <td>Android</td>\n",
       "      <td>HomeWebsite</td>\n",
       "      <td>2018</td>\n",
       "      <td>1</td>\n",
       "      <td>1</td>\n",
       "      <td>0</td>\n",
       "    </tr>\n",
       "    <tr>\n",
       "      <th>2</th>\n",
       "      <td>cb5b4b68-cc01-6db6-f54b-4a0f881301c5</td>\n",
       "      <td>5067</td>\n",
       "      <td>Mobile</td>\n",
       "      <td>iPhone</td>\n",
       "      <td>HomeWebsite</td>\n",
       "      <td>2018</td>\n",
       "      <td>1</td>\n",
       "      <td>1</td>\n",
       "      <td>0</td>\n",
       "    </tr>\n",
       "  </tbody>\n",
       "</table>\n",
       "</div>"
      ],
      "text/plain": [
       "                               userCode  project_id requestedDevice userAgent  \\\n",
       "0  7717bdc2-ea3e-e8ad-5d6b-178bd71c38b2        7956          Mobile   Android   \n",
       "1  7717bdc2-ea3e-e8ad-5d6b-178bd71c38b2        7956          Mobile   Android   \n",
       "2  cb5b4b68-cc01-6db6-f54b-4a0f881301c5        5067          Mobile    iPhone   \n",
       "\n",
       "  pageReferrer  year  month  day  hour  \n",
       "0  HomeWebsite  2018      1    1     0  \n",
       "1  HomeWebsite  2018      1    1     0  \n",
       "2  HomeWebsite  2018      1    1     0  "
      ]
     },
     "execution_count": 2,
     "metadata": {},
     "output_type": "execute_result"
    }
   ],
   "source": [
    "path = 'C:/Users/ing/Dropbox/00 Thesis/coding/data/'\n",
    "df = pd.read_csv(path+'userLog_201801_201802_for_participants.csv', delimiter = ';', error_bad_lines = False, low_memory = False)\n",
    "df.head(3)"
   ]
  },
  {
   "cell_type": "code",
   "execution_count": 3,
   "metadata": {},
   "outputs": [
    {
     "data": {
      "text/html": [
       "<div>\n",
       "<style>\n",
       "    .dataframe thead tr:only-child th {\n",
       "        text-align: right;\n",
       "    }\n",
       "\n",
       "    .dataframe thead th {\n",
       "        text-align: left;\n",
       "    }\n",
       "\n",
       "    .dataframe tbody tr th {\n",
       "        vertical-align: top;\n",
       "    }\n",
       "</style>\n",
       "<table border=\"1\" class=\"dataframe\">\n",
       "  <thead>\n",
       "    <tr style=\"text-align: right;\">\n",
       "      <th></th>\n",
       "      <th>userCode</th>\n",
       "      <th>project_id</th>\n",
       "      <th>requestedDevice</th>\n",
       "      <th>userAgent</th>\n",
       "      <th>pageReferrer</th>\n",
       "      <th>year</th>\n",
       "      <th>month</th>\n",
       "      <th>day</th>\n",
       "      <th>hour</th>\n",
       "    </tr>\n",
       "  </thead>\n",
       "  <tbody>\n",
       "    <tr>\n",
       "      <th>77</th>\n",
       "      <td>3f0b3f64-468d-8411-efee-debb3facd532</td>\n",
       "      <td>8771</td>\n",
       "      <td>Desktop</td>\n",
       "      <td>Other_OS</td>\n",
       "      <td>Google</td>\n",
       "      <td>2018</td>\n",
       "      <td>1</td>\n",
       "      <td>1</td>\n",
       "      <td>0</td>\n",
       "    </tr>\n",
       "    <tr>\n",
       "      <th>101</th>\n",
       "      <td>6ca88f4c-0f1b-7b96-4c5b-ad3966dff12f</td>\n",
       "      <td>8439</td>\n",
       "      <td>Mobile</td>\n",
       "      <td>Android</td>\n",
       "      <td>HomeWebsite</td>\n",
       "      <td>2018</td>\n",
       "      <td>1</td>\n",
       "      <td>1</td>\n",
       "      <td>0</td>\n",
       "    </tr>\n",
       "    <tr>\n",
       "      <th>105</th>\n",
       "      <td>6ca88f4c-0f1b-7b96-4c5b-ad3966dff12f</td>\n",
       "      <td>8439</td>\n",
       "      <td>Mobile</td>\n",
       "      <td>Android</td>\n",
       "      <td>HomeWebsite</td>\n",
       "      <td>2018</td>\n",
       "      <td>1</td>\n",
       "      <td>1</td>\n",
       "      <td>0</td>\n",
       "    </tr>\n",
       "  </tbody>\n",
       "</table>\n",
       "</div>"
      ],
      "text/plain": [
       "                                 userCode  project_id requestedDevice  \\\n",
       "77   3f0b3f64-468d-8411-efee-debb3facd532        8771         Desktop   \n",
       "101  6ca88f4c-0f1b-7b96-4c5b-ad3966dff12f        8439          Mobile   \n",
       "105  6ca88f4c-0f1b-7b96-4c5b-ad3966dff12f        8439          Mobile   \n",
       "\n",
       "    userAgent pageReferrer  year  month  day  hour  \n",
       "77   Other_OS       Google  2018      1    1     0  \n",
       "101   Android  HomeWebsite  2018      1    1     0  \n",
       "105   Android  HomeWebsite  2018      1    1     0  "
      ]
     },
     "execution_count": 3,
     "metadata": {},
     "output_type": "execute_result"
    }
   ],
   "source": [
    "random_state = 100\n",
    "sample_users = set(df['userCode'].sample(n=10000, random_state=random_state))\n",
    "sample_data = df[df['userCode'].isin(sample_users)]\n",
    "sample_data.head(3)"
   ]
  },
  {
   "cell_type": "code",
   "execution_count": 4,
   "metadata": {},
   "outputs": [
    {
     "data": {
      "text/plain": [
       "136697"
      ]
     },
     "execution_count": 4,
     "metadata": {},
     "output_type": "execute_result"
    }
   ],
   "source": [
    "len(sample_data)"
   ]
  },
  {
   "cell_type": "markdown",
   "metadata": {},
   "source": [
    "### - Data Cleaning and Transformation"
   ]
  },
  {
   "cell_type": "markdown",
   "metadata": {},
   "source": [
    "create visited datetime"
   ]
  },
  {
   "cell_type": "code",
   "execution_count": 5,
   "metadata": {},
   "outputs": [
    {
     "name": "stderr",
     "output_type": "stream",
     "text": [
      "C:\\ProgramData\\Anaconda3\\lib\\site-packages\\ipykernel_launcher.py:1: SettingWithCopyWarning: \n",
      "A value is trying to be set on a copy of a slice from a DataFrame.\n",
      "Try using .loc[row_indexer,col_indexer] = value instead\n",
      "\n",
      "See the caveats in the documentation: http://pandas.pydata.org/pandas-docs/stable/indexing.html#indexing-view-versus-copy\n",
      "  \"\"\"Entry point for launching an IPython kernel.\n",
      "C:\\ProgramData\\Anaconda3\\lib\\site-packages\\ipykernel_launcher.py:2: SettingWithCopyWarning: \n",
      "A value is trying to be set on a copy of a slice from a DataFrame.\n",
      "Try using .loc[row_indexer,col_indexer] = value instead\n",
      "\n",
      "See the caveats in the documentation: http://pandas.pydata.org/pandas-docs/stable/indexing.html#indexing-view-versus-copy\n",
      "  \n",
      "C:\\ProgramData\\Anaconda3\\lib\\site-packages\\ipykernel_launcher.py:3: SettingWithCopyWarning: \n",
      "A value is trying to be set on a copy of a slice from a DataFrame.\n",
      "Try using .loc[row_indexer,col_indexer] = value instead\n",
      "\n",
      "See the caveats in the documentation: http://pandas.pydata.org/pandas-docs/stable/indexing.html#indexing-view-versus-copy\n",
      "  This is separate from the ipykernel package so we can avoid doing imports until\n"
     ]
    },
    {
     "data": {
      "text/html": [
       "<div>\n",
       "<style>\n",
       "    .dataframe thead tr:only-child th {\n",
       "        text-align: right;\n",
       "    }\n",
       "\n",
       "    .dataframe thead th {\n",
       "        text-align: left;\n",
       "    }\n",
       "\n",
       "    .dataframe tbody tr th {\n",
       "        vertical-align: top;\n",
       "    }\n",
       "</style>\n",
       "<table border=\"1\" class=\"dataframe\">\n",
       "  <thead>\n",
       "    <tr style=\"text-align: right;\">\n",
       "      <th></th>\n",
       "      <th>userCode</th>\n",
       "      <th>project_id</th>\n",
       "      <th>requestedDevice</th>\n",
       "      <th>userAgent</th>\n",
       "      <th>pageReferrer</th>\n",
       "      <th>year</th>\n",
       "      <th>month</th>\n",
       "      <th>day</th>\n",
       "      <th>hour</th>\n",
       "      <th>datetime</th>\n",
       "      <th>date</th>\n",
       "      <th>yearmonth</th>\n",
       "    </tr>\n",
       "  </thead>\n",
       "  <tbody>\n",
       "    <tr>\n",
       "      <th>77</th>\n",
       "      <td>3f0b3f64-468d-8411-efee-debb3facd532</td>\n",
       "      <td>8771</td>\n",
       "      <td>Desktop</td>\n",
       "      <td>Other_OS</td>\n",
       "      <td>Google</td>\n",
       "      <td>2018</td>\n",
       "      <td>1</td>\n",
       "      <td>1</td>\n",
       "      <td>0</td>\n",
       "      <td>2018-01-01</td>\n",
       "      <td>2018-01-01</td>\n",
       "      <td>2018-01</td>\n",
       "    </tr>\n",
       "    <tr>\n",
       "      <th>101</th>\n",
       "      <td>6ca88f4c-0f1b-7b96-4c5b-ad3966dff12f</td>\n",
       "      <td>8439</td>\n",
       "      <td>Mobile</td>\n",
       "      <td>Android</td>\n",
       "      <td>HomeWebsite</td>\n",
       "      <td>2018</td>\n",
       "      <td>1</td>\n",
       "      <td>1</td>\n",
       "      <td>0</td>\n",
       "      <td>2018-01-01</td>\n",
       "      <td>2018-01-01</td>\n",
       "      <td>2018-01</td>\n",
       "    </tr>\n",
       "    <tr>\n",
       "      <th>105</th>\n",
       "      <td>6ca88f4c-0f1b-7b96-4c5b-ad3966dff12f</td>\n",
       "      <td>8439</td>\n",
       "      <td>Mobile</td>\n",
       "      <td>Android</td>\n",
       "      <td>HomeWebsite</td>\n",
       "      <td>2018</td>\n",
       "      <td>1</td>\n",
       "      <td>1</td>\n",
       "      <td>0</td>\n",
       "      <td>2018-01-01</td>\n",
       "      <td>2018-01-01</td>\n",
       "      <td>2018-01</td>\n",
       "    </tr>\n",
       "  </tbody>\n",
       "</table>\n",
       "</div>"
      ],
      "text/plain": [
       "                                 userCode  project_id requestedDevice  \\\n",
       "77   3f0b3f64-468d-8411-efee-debb3facd532        8771         Desktop   \n",
       "101  6ca88f4c-0f1b-7b96-4c5b-ad3966dff12f        8439          Mobile   \n",
       "105  6ca88f4c-0f1b-7b96-4c5b-ad3966dff12f        8439          Mobile   \n",
       "\n",
       "    userAgent pageReferrer  year  month  day  hour   datetime        date  \\\n",
       "77   Other_OS       Google  2018      1    1     0 2018-01-01  2018-01-01   \n",
       "101   Android  HomeWebsite  2018      1    1     0 2018-01-01  2018-01-01   \n",
       "105   Android  HomeWebsite  2018      1    1     0 2018-01-01  2018-01-01   \n",
       "\n",
       "    yearmonth  \n",
       "77    2018-01  \n",
       "101   2018-01  \n",
       "105   2018-01  "
      ]
     },
     "execution_count": 5,
     "metadata": {},
     "output_type": "execute_result"
    }
   ],
   "source": [
    "sample_data['datetime'] = sample_data.apply(lambda row : datetime.datetime(row['year'], row['month'], row['day'], row['hour']), axis=1)\n",
    "sample_data['date'] = sample_data['datetime'].map(lambda x : x.date())\n",
    "sample_data['yearmonth'] = sample_data['date'].map(lambda x: str(x.year) +'-'+ str(x.month).zfill(2))\n",
    "sample_data.head(3)"
   ]
  },
  {
   "cell_type": "markdown",
   "metadata": {},
   "source": [
    "**clean data ex. cut outllier, filter users & projects which have less transaction"
   ]
  },
  {
   "cell_type": "code",
   "execution_count": 6,
   "metadata": {},
   "outputs": [
    {
     "name": "stdout",
     "output_type": "stream",
     "text": [
      "1288\n"
     ]
    }
   ],
   "source": [
    "min_interacted = 30\n",
    "project_count = sample_data.groupby(['project_id']).size()\n",
    "ignore_project = set(project_count[project_count > min_interacted].index)\n",
    "print(len(ignore_project))"
   ]
  },
  {
   "cell_type": "code",
   "execution_count": 7,
   "metadata": {},
   "outputs": [
    {
     "data": {
      "text/html": [
       "<div>\n",
       "<style>\n",
       "    .dataframe thead tr:only-child th {\n",
       "        text-align: right;\n",
       "    }\n",
       "\n",
       "    .dataframe thead th {\n",
       "        text-align: left;\n",
       "    }\n",
       "\n",
       "    .dataframe tbody tr th {\n",
       "        vertical-align: top;\n",
       "    }\n",
       "</style>\n",
       "<table border=\"1\" class=\"dataframe\">\n",
       "  <thead>\n",
       "    <tr style=\"text-align: right;\">\n",
       "      <th></th>\n",
       "      <th>userCode</th>\n",
       "      <th>project_id</th>\n",
       "      <th>requestedDevice</th>\n",
       "      <th>userAgent</th>\n",
       "      <th>pageReferrer</th>\n",
       "      <th>year</th>\n",
       "      <th>month</th>\n",
       "      <th>day</th>\n",
       "      <th>hour</th>\n",
       "      <th>datetime</th>\n",
       "      <th>date</th>\n",
       "      <th>yearmonth</th>\n",
       "    </tr>\n",
       "  </thead>\n",
       "  <tbody>\n",
       "    <tr>\n",
       "      <th>77</th>\n",
       "      <td>3f0b3f64-468d-8411-efee-debb3facd532</td>\n",
       "      <td>8771</td>\n",
       "      <td>Desktop</td>\n",
       "      <td>Other_OS</td>\n",
       "      <td>Google</td>\n",
       "      <td>2018</td>\n",
       "      <td>1</td>\n",
       "      <td>1</td>\n",
       "      <td>0</td>\n",
       "      <td>2018-01-01 00:00:00</td>\n",
       "      <td>2018-01-01</td>\n",
       "      <td>2018-01</td>\n",
       "    </tr>\n",
       "    <tr>\n",
       "      <th>334</th>\n",
       "      <td>16cde5e8-98ff-6be6-5f60-82bb6681673d</td>\n",
       "      <td>2096</td>\n",
       "      <td>Mobile</td>\n",
       "      <td>Android</td>\n",
       "      <td>HomeWebsite</td>\n",
       "      <td>2018</td>\n",
       "      <td>1</td>\n",
       "      <td>1</td>\n",
       "      <td>1</td>\n",
       "      <td>2018-01-01 01:00:00</td>\n",
       "      <td>2018-01-01</td>\n",
       "      <td>2018-01</td>\n",
       "    </tr>\n",
       "    <tr>\n",
       "      <th>338</th>\n",
       "      <td>16cde5e8-98ff-6be6-5f60-82bb6681673d</td>\n",
       "      <td>2096</td>\n",
       "      <td>Mobile</td>\n",
       "      <td>Android</td>\n",
       "      <td>HomeWebsite</td>\n",
       "      <td>2018</td>\n",
       "      <td>1</td>\n",
       "      <td>1</td>\n",
       "      <td>1</td>\n",
       "      <td>2018-01-01 01:00:00</td>\n",
       "      <td>2018-01-01</td>\n",
       "      <td>2018-01</td>\n",
       "    </tr>\n",
       "  </tbody>\n",
       "</table>\n",
       "</div>"
      ],
      "text/plain": [
       "                                 userCode  project_id requestedDevice  \\\n",
       "77   3f0b3f64-468d-8411-efee-debb3facd532        8771         Desktop   \n",
       "334  16cde5e8-98ff-6be6-5f60-82bb6681673d        2096          Mobile   \n",
       "338  16cde5e8-98ff-6be6-5f60-82bb6681673d        2096          Mobile   \n",
       "\n",
       "    userAgent pageReferrer  year  month  day  hour            datetime  \\\n",
       "77   Other_OS       Google  2018      1    1     0 2018-01-01 00:00:00   \n",
       "334   Android  HomeWebsite  2018      1    1     1 2018-01-01 01:00:00   \n",
       "338   Android  HomeWebsite  2018      1    1     1 2018-01-01 01:00:00   \n",
       "\n",
       "           date yearmonth  \n",
       "77   2018-01-01   2018-01  \n",
       "334  2018-01-01   2018-01  \n",
       "338  2018-01-01   2018-01  "
      ]
     },
     "execution_count": 7,
     "metadata": {},
     "output_type": "execute_result"
    }
   ],
   "source": [
    "df_filter = sample_data[~sample_data['project_id'].isin(ignore_project)]\n",
    "df_filter.head(3)"
   ]
  },
  {
   "cell_type": "code",
   "execution_count": null,
   "metadata": {
    "collapsed": true
   },
   "outputs": [],
   "source": [
    "# optional, you can clean data by yourself\n",
    "df_filter = <FILL IN>"
   ]
  },
  {
   "cell_type": "markdown",
   "metadata": {},
   "source": [
    "### - Split training-testing dataset"
   ]
  },
  {
   "cell_type": "code",
   "execution_count": 8,
   "metadata": {
    "collapsed": true
   },
   "outputs": [],
   "source": [
    "def SplitTrainTest(df, date):\n",
    "    \n",
    "    df['interacted'] = 1\n",
    "    df_train = df[df.date <  date]\n",
    "    df_test = df[df.date >=  date].sort_values(by = ['userCode', 'datetime'])\n",
    "    \n",
    "    # projects which are in training datasets\n",
    "    project_train = set(df_train['project_id'].values)\n",
    "    df_test = df_test[df_test['project_id'].isin(project_train)]\n",
    "    \n",
    "    # users which are in training datasets\n",
    "    user_train = set(df_train['userCode'].values)\n",
    "    df_test = df_test[df_test['userCode'].isin(user_train)]\n",
    "    \n",
    "    print('# of train dataset:', len(df_train))\n",
    "    print('# of test dataset:', len(df_test))\n",
    "\n",
    "    return df_train, df_test"
   ]
  },
  {
   "cell_type": "code",
   "execution_count": 9,
   "metadata": {},
   "outputs": [
    {
     "name": "stdout",
     "output_type": "stream",
     "text": [
      "# of train dataset: 39970\n",
      "# of test dataset: 2461\n"
     ]
    },
    {
     "name": "stderr",
     "output_type": "stream",
     "text": [
      "C:\\ProgramData\\Anaconda3\\lib\\site-packages\\ipykernel_launcher.py:3: SettingWithCopyWarning: \n",
      "A value is trying to be set on a copy of a slice from a DataFrame.\n",
      "Try using .loc[row_indexer,col_indexer] = value instead\n",
      "\n",
      "See the caveats in the documentation: http://pandas.pydata.org/pandas-docs/stable/indexing.html#indexing-view-versus-copy\n",
      "  This is separate from the ipykernel package so we can avoid doing imports until\n"
     ]
    }
   ],
   "source": [
    "date_ = datetime.date(2018, 2, 20)\n",
    "df_train, df_test_full = SplitTrainTest(df_filter, date = date_)"
   ]
  },
  {
   "cell_type": "code",
   "execution_count": 10,
   "metadata": {
    "scrolled": true
   },
   "outputs": [
    {
     "data": {
      "text/html": [
       "<div>\n",
       "<style>\n",
       "    .dataframe thead tr:only-child th {\n",
       "        text-align: right;\n",
       "    }\n",
       "\n",
       "    .dataframe thead th {\n",
       "        text-align: left;\n",
       "    }\n",
       "\n",
       "    .dataframe tbody tr th {\n",
       "        vertical-align: top;\n",
       "    }\n",
       "</style>\n",
       "<table border=\"1\" class=\"dataframe\">\n",
       "  <thead>\n",
       "    <tr style=\"text-align: right;\">\n",
       "      <th></th>\n",
       "      <th>project_id</th>\n",
       "      <th>interacted</th>\n",
       "    </tr>\n",
       "    <tr>\n",
       "      <th>userCode</th>\n",
       "      <th></th>\n",
       "      <th></th>\n",
       "    </tr>\n",
       "  </thead>\n",
       "  <tbody>\n",
       "    <tr>\n",
       "      <th>01609e98-4aa1-40a6-cb62-5cfa8478f7e4</th>\n",
       "      <td>5883</td>\n",
       "      <td>1</td>\n",
       "    </tr>\n",
       "    <tr>\n",
       "      <th>02cae1e4-f73f-958e-03cd-3ca3b04b451d</th>\n",
       "      <td>7409</td>\n",
       "      <td>1</td>\n",
       "    </tr>\n",
       "    <tr>\n",
       "      <th>0383072a-6827-1246-6490-39fc4d46bcdd</th>\n",
       "      <td>6824</td>\n",
       "      <td>1</td>\n",
       "    </tr>\n",
       "  </tbody>\n",
       "</table>\n",
       "</div>"
      ],
      "text/plain": [
       "                                      project_id  interacted\n",
       "userCode                                                    \n",
       "01609e98-4aa1-40a6-cb62-5cfa8478f7e4        5883           1\n",
       "02cae1e4-f73f-958e-03cd-3ca3b04b451d        7409           1\n",
       "0383072a-6827-1246-6490-39fc4d46bcdd        6824           1"
      ]
     },
     "execution_count": 10,
     "metadata": {},
     "output_type": "execute_result"
    }
   ],
   "source": [
    "df_test_indexed = df_test_full[['userCode', 'project_id', 'interacted']].drop_duplicates().set_index('userCode')\n",
    "df_test_indexed.head(3)"
   ]
  },
  {
   "cell_type": "markdown",
   "metadata": {},
   "source": [
    "## Data Preparation\n",
    "In this part, we'll create users-items matrix for calculating similarity between users. Users-items matrix can be created by many format, in this lab, we'll create 3 matrix :\n",
    "- 0/1 matrix\n",
    "- rating matrix\n",
    "- rating + user profile matrix"
   ]
  },
  {
   "cell_type": "markdown",
   "metadata": {},
   "source": [
    "### - Case 1: 0/1 matrix\n",
    "This part we'll prepare interacted data to identify interacted projects for each users. We need data like below format.\n",
    "```\n",
    "|------------+---+---+---+----+---|\n",
    "| project_id | 1 | 2 | 3 | .. | j |\n",
    "| userCode   |   |   |   |    |   |\n",
    "|------------+---+---+---+----+---|\n",
    "| user A     | 1 | 0 | 0 | .. | 1 |\n",
    "| user B     | 0 | 1 | 0 | .. | 1 |\n",
    "| user C     | 0 | 0 | 1 | .. | 0 |\n",
    "|  ..        | . | . | . | .. | . |\n",
    "|------------+---+---+---+----+---|\n",
    "\n",
    "```\n",
    "\n",
    "- 1 means user interacted that project\n",
    "- 0 means user didn't interact that project"
   ]
  },
  {
   "cell_type": "code",
   "execution_count": 11,
   "metadata": {},
   "outputs": [
    {
     "data": {
      "text/html": [
       "<div>\n",
       "<style>\n",
       "    .dataframe thead tr:only-child th {\n",
       "        text-align: right;\n",
       "    }\n",
       "\n",
       "    .dataframe thead th {\n",
       "        text-align: left;\n",
       "    }\n",
       "\n",
       "    .dataframe tbody tr th {\n",
       "        vertical-align: top;\n",
       "    }\n",
       "</style>\n",
       "<table border=\"1\" class=\"dataframe\">\n",
       "  <thead>\n",
       "    <tr style=\"text-align: right;\">\n",
       "      <th>project_id</th>\n",
       "      <th>24</th>\n",
       "      <th>29</th>\n",
       "      <th>41</th>\n",
       "      <th>45</th>\n",
       "      <th>133</th>\n",
       "      <th>141</th>\n",
       "      <th>156</th>\n",
       "      <th>157</th>\n",
       "      <th>161</th>\n",
       "      <th>189</th>\n",
       "      <th>...</th>\n",
       "      <th>9458</th>\n",
       "      <th>9459</th>\n",
       "      <th>9460</th>\n",
       "      <th>9461</th>\n",
       "      <th>9469</th>\n",
       "      <th>9471</th>\n",
       "      <th>9474</th>\n",
       "      <th>9477</th>\n",
       "      <th>9478</th>\n",
       "      <th>9484</th>\n",
       "    </tr>\n",
       "    <tr>\n",
       "      <th>userCode</th>\n",
       "      <th></th>\n",
       "      <th></th>\n",
       "      <th></th>\n",
       "      <th></th>\n",
       "      <th></th>\n",
       "      <th></th>\n",
       "      <th></th>\n",
       "      <th></th>\n",
       "      <th></th>\n",
       "      <th></th>\n",
       "      <th></th>\n",
       "      <th></th>\n",
       "      <th></th>\n",
       "      <th></th>\n",
       "      <th></th>\n",
       "      <th></th>\n",
       "      <th></th>\n",
       "      <th></th>\n",
       "      <th></th>\n",
       "      <th></th>\n",
       "      <th></th>\n",
       "    </tr>\n",
       "  </thead>\n",
       "  <tbody>\n",
       "    <tr>\n",
       "      <th>00051896-b6d5-27b2-1590-6445018f084b</th>\n",
       "      <td>0.0</td>\n",
       "      <td>0.0</td>\n",
       "      <td>0.0</td>\n",
       "      <td>0.0</td>\n",
       "      <td>0.0</td>\n",
       "      <td>0.0</td>\n",
       "      <td>0.0</td>\n",
       "      <td>0.0</td>\n",
       "      <td>0.0</td>\n",
       "      <td>0.0</td>\n",
       "      <td>...</td>\n",
       "      <td>0.0</td>\n",
       "      <td>0.0</td>\n",
       "      <td>0.0</td>\n",
       "      <td>0.0</td>\n",
       "      <td>0.0</td>\n",
       "      <td>0.0</td>\n",
       "      <td>0.0</td>\n",
       "      <td>0.0</td>\n",
       "      <td>0.0</td>\n",
       "      <td>0.0</td>\n",
       "    </tr>\n",
       "    <tr>\n",
       "      <th>0009bd21-7539-62ff-f653-a6f6bac25380</th>\n",
       "      <td>0.0</td>\n",
       "      <td>0.0</td>\n",
       "      <td>0.0</td>\n",
       "      <td>0.0</td>\n",
       "      <td>0.0</td>\n",
       "      <td>0.0</td>\n",
       "      <td>0.0</td>\n",
       "      <td>0.0</td>\n",
       "      <td>0.0</td>\n",
       "      <td>0.0</td>\n",
       "      <td>...</td>\n",
       "      <td>0.0</td>\n",
       "      <td>0.0</td>\n",
       "      <td>0.0</td>\n",
       "      <td>0.0</td>\n",
       "      <td>0.0</td>\n",
       "      <td>0.0</td>\n",
       "      <td>0.0</td>\n",
       "      <td>0.0</td>\n",
       "      <td>0.0</td>\n",
       "      <td>0.0</td>\n",
       "    </tr>\n",
       "    <tr>\n",
       "      <th>0014f96a-b816-5b96-af31-e7268b46061d</th>\n",
       "      <td>0.0</td>\n",
       "      <td>0.0</td>\n",
       "      <td>0.0</td>\n",
       "      <td>0.0</td>\n",
       "      <td>0.0</td>\n",
       "      <td>0.0</td>\n",
       "      <td>0.0</td>\n",
       "      <td>0.0</td>\n",
       "      <td>0.0</td>\n",
       "      <td>0.0</td>\n",
       "      <td>...</td>\n",
       "      <td>0.0</td>\n",
       "      <td>0.0</td>\n",
       "      <td>0.0</td>\n",
       "      <td>0.0</td>\n",
       "      <td>0.0</td>\n",
       "      <td>0.0</td>\n",
       "      <td>0.0</td>\n",
       "      <td>0.0</td>\n",
       "      <td>0.0</td>\n",
       "      <td>0.0</td>\n",
       "    </tr>\n",
       "  </tbody>\n",
       "</table>\n",
       "<p>3 rows × 3853 columns</p>\n",
       "</div>"
      ],
      "text/plain": [
       "project_id                            24    29    41    45    133   141   \\\n",
       "userCode                                                                   \n",
       "00051896-b6d5-27b2-1590-6445018f084b   0.0   0.0   0.0   0.0   0.0   0.0   \n",
       "0009bd21-7539-62ff-f653-a6f6bac25380   0.0   0.0   0.0   0.0   0.0   0.0   \n",
       "0014f96a-b816-5b96-af31-e7268b46061d   0.0   0.0   0.0   0.0   0.0   0.0   \n",
       "\n",
       "project_id                            156   157   161   189   ...   9458  \\\n",
       "userCode                                                      ...          \n",
       "00051896-b6d5-27b2-1590-6445018f084b   0.0   0.0   0.0   0.0  ...    0.0   \n",
       "0009bd21-7539-62ff-f653-a6f6bac25380   0.0   0.0   0.0   0.0  ...    0.0   \n",
       "0014f96a-b816-5b96-af31-e7268b46061d   0.0   0.0   0.0   0.0  ...    0.0   \n",
       "\n",
       "project_id                            9459  9460  9461  9469  9471  9474  \\\n",
       "userCode                                                                   \n",
       "00051896-b6d5-27b2-1590-6445018f084b   0.0   0.0   0.0   0.0   0.0   0.0   \n",
       "0009bd21-7539-62ff-f653-a6f6bac25380   0.0   0.0   0.0   0.0   0.0   0.0   \n",
       "0014f96a-b816-5b96-af31-e7268b46061d   0.0   0.0   0.0   0.0   0.0   0.0   \n",
       "\n",
       "project_id                            9477  9478  9484  \n",
       "userCode                                                \n",
       "00051896-b6d5-27b2-1590-6445018f084b   0.0   0.0   0.0  \n",
       "0009bd21-7539-62ff-f653-a6f6bac25380   0.0   0.0   0.0  \n",
       "0014f96a-b816-5b96-af31-e7268b46061d   0.0   0.0   0.0  \n",
       "\n",
       "[3 rows x 3853 columns]"
      ]
     },
     "execution_count": 11,
     "metadata": {},
     "output_type": "execute_result"
    }
   ],
   "source": [
    "df_train_indexed = df_train[['userCode', 'project_id', 'interacted']].drop_duplicates()\n",
    "df_train_pivot = (df_train_indexed.pivot(index = 'userCode', columns = 'project_id', values = 'interacted')\n",
    "                                  .fillna(0))\n",
    "df_train_pivot.head(3)"
   ]
  },
  {
   "cell_type": "markdown",
   "metadata": {},
   "source": [
    "Transform users-items to matrix for model and set index of df_train for fast search"
   ]
  },
  {
   "cell_type": "code",
   "execution_count": 12,
   "metadata": {},
   "outputs": [
    {
     "data": {
      "text/plain": [
       "(4566, 3853)"
      ]
     },
     "execution_count": 12,
     "metadata": {},
     "output_type": "execute_result"
    }
   ],
   "source": [
    "df_train_matrix = df_train_pivot.values\n",
    "df_train_matrix.shape"
   ]
  },
  {
   "cell_type": "code",
   "execution_count": 13,
   "metadata": {},
   "outputs": [
    {
     "data": {
      "text/html": [
       "<div>\n",
       "<style>\n",
       "    .dataframe thead tr:only-child th {\n",
       "        text-align: right;\n",
       "    }\n",
       "\n",
       "    .dataframe thead th {\n",
       "        text-align: left;\n",
       "    }\n",
       "\n",
       "    .dataframe tbody tr th {\n",
       "        vertical-align: top;\n",
       "    }\n",
       "</style>\n",
       "<table border=\"1\" class=\"dataframe\">\n",
       "  <thead>\n",
       "    <tr style=\"text-align: right;\">\n",
       "      <th></th>\n",
       "      <th>project_id</th>\n",
       "      <th>interacted</th>\n",
       "    </tr>\n",
       "    <tr>\n",
       "      <th>userCode</th>\n",
       "      <th></th>\n",
       "      <th></th>\n",
       "    </tr>\n",
       "  </thead>\n",
       "  <tbody>\n",
       "    <tr>\n",
       "      <th>3f0b3f64-468d-8411-efee-debb3facd532</th>\n",
       "      <td>8771</td>\n",
       "      <td>1</td>\n",
       "    </tr>\n",
       "    <tr>\n",
       "      <th>16cde5e8-98ff-6be6-5f60-82bb6681673d</th>\n",
       "      <td>2096</td>\n",
       "      <td>1</td>\n",
       "    </tr>\n",
       "    <tr>\n",
       "      <th>9d96b60e-0d17-2db4-4146-bb334c92e8ab</th>\n",
       "      <td>4449</td>\n",
       "      <td>1</td>\n",
       "    </tr>\n",
       "  </tbody>\n",
       "</table>\n",
       "</div>"
      ],
      "text/plain": [
       "                                      project_id  interacted\n",
       "userCode                                                    \n",
       "3f0b3f64-468d-8411-efee-debb3facd532        8771           1\n",
       "16cde5e8-98ff-6be6-5f60-82bb6681673d        2096           1\n",
       "9d96b60e-0d17-2db4-4146-bb334c92e8ab        4449           1"
      ]
     },
     "execution_count": 13,
     "metadata": {},
     "output_type": "execute_result"
    }
   ],
   "source": [
    "df_train_indexed = df_train_indexed.set_index('userCode')\n",
    "df_train_indexed.head(3)"
   ]
  },
  {
   "cell_type": "markdown",
   "metadata": {},
   "source": [
    "## Implementing KNN for recommender system\n",
    "In this part, we'll use sklearn for knn algorithm. For more infomation, http://scikit-learn.org/stable/modules/generated/sklearn.neighbors.KNeighborsClassifier.html"
   ]
  },
  {
   "cell_type": "markdown",
   "metadata": {},
   "source": [
    "### - Fitting model"
   ]
  },
  {
   "cell_type": "code",
   "execution_count": 14,
   "metadata": {
    "collapsed": true
   },
   "outputs": [],
   "source": [
    "# library for knn\n",
    "from sklearn.neighbors import NearestNeighbors"
   ]
  },
  {
   "cell_type": "markdown",
   "metadata": {},
   "source": [
    "------------------------------------------------------------------------------------------\n",
    "#### ! TO DO: Using NearestNeighbors in sklearn to fit our data **\n",
    "\n",
    "For more infomation, http://scikit-learn.org/stable/modules/generated/sklearn.neighbors.KNeighborsClassifier.html\n",
    "\n",
    "------------------------------------------------------------------------------------------"
   ]
  },
  {
   "cell_type": "code",
   "execution_count": 15,
   "metadata": {
    "collapsed": true
   },
   "outputs": [],
   "source": [
    "n_neighbors = 30 # can define number of neighbors\n",
    "metric = 'cosine' # can change to other metric for calculate similarity"
   ]
  },
  {
   "cell_type": "code",
   "execution_count": 16,
   "metadata": {
    "collapsed": true
   },
   "outputs": [],
   "source": [
    "knn = NearestNeighbors(metric = metric\n",
    "                        , algorithm = 'brute'\n",
    "                        ,  n_neighbors = n_neighbors)"
   ]
  },
  {
   "cell_type": "code",
   "execution_count": 17,
   "metadata": {},
   "outputs": [
    {
     "data": {
      "text/plain": [
       "NearestNeighbors(algorithm='brute', leaf_size=30, metric='cosine',\n",
       "         metric_params=None, n_jobs=1, n_neighbors=30, p=2, radius=1.0)"
      ]
     },
     "execution_count": 17,
     "metadata": {},
     "output_type": "execute_result"
    }
   ],
   "source": [
    "knn.fit(df_train_matrix)"
   ]
  },
  {
   "cell_type": "markdown",
   "metadata": {},
   "source": [
    "### - Finding k nearest neighbors by index and get their rating of each project\n",
    "- __Input:__ user_id\n",
    "- __Output:__ distance and indices of k nearest neighbors"
   ]
  },
  {
   "cell_type": "code",
   "execution_count": 18,
   "metadata": {
    "collapsed": true
   },
   "outputs": [],
   "source": [
    "user_id = '435f1a34-21ca-d605-0968-cb1b5b3f9aeb'"
   ]
  },
  {
   "cell_type": "code",
   "execution_count": 20,
   "metadata": {
    "scrolled": true
   },
   "outputs": [
    {
     "name": "stdout",
     "output_type": "stream",
     "text": [
      "distance: [[ 0.          0.          0.29289322  0.29289322  0.42264973  0.5527864\n",
      "   0.59175171  0.64644661  0.78178211  0.91967807  0.96031621  1.          1.\n",
      "   1.          1.          1.          1.          1.          1.          1.\n",
      "   1.          1.          1.          1.          1.          1.          1.\n",
      "   1.          1.          1.        ]]\n",
      "indices: [[3441 1220 3405 2620 4472  997 1663 2175 2402  858 2759 3047 3060 3045\n",
      "  3044 3064 3055 3056 3057 3041 3042 3053 3040 3039 3065 3038 3048 3046\n",
      "  3043 3058]]\n"
     ]
    }
   ],
   "source": [
    "distances, indices = knn.kneighbors(df_train_pivot[df_train_pivot.index == user_id].iloc[0].values.reshape(1, -1)\n",
    "                                     , n_neighbors = n_neighbors)\n",
    "print('distance:', distances)\n",
    "print('indices:', indices)"
   ]
  },
  {
   "cell_type": "markdown",
   "metadata": {},
   "source": [
    "** get interacted values of k nearest neighbors by indices and calculate rating for each project."
   ]
  },
  {
   "cell_type": "code",
   "execution_count": 21,
   "metadata": {},
   "outputs": [
    {
     "data": {
      "text/plain": [
       "(1, 30, 3853)"
      ]
     },
     "execution_count": 21,
     "metadata": {},
     "output_type": "execute_result"
    }
   ],
   "source": [
    "k_rating_matrix = df_train_matrix[indices,]\n",
    "k_rating_matrix.shape "
   ]
  },
  {
   "cell_type": "code",
   "execution_count": 22,
   "metadata": {},
   "outputs": [
    {
     "name": "stdout",
     "output_type": "stream",
     "text": [
      "[ 0.  0.  0. ...,  0.  0.  0.]\n",
      "(3853,)\n"
     ]
    }
   ],
   "source": [
    "k_rating = sum(k_rating_matrix)\n",
    "k_weight_rating = sum(k_rating)/n_neighbors\n",
    "print(k_weight_rating)\n",
    "print(k_weight_rating.shape)"
   ]
  },
  {
   "cell_type": "markdown",
   "metadata": {},
   "source": [
    "------------------------------------------------------------------------------------------\n",
    "__! TO DO: Calculate \"k_weight_rating\" by using distance to weight rating **__\n",
    "\n",
    "k_weight_rating = sum(k_rating*(1/distance))/sum(1/distance)\n",
    "\n",
    "------------------------------------------------------------------------------------------"
   ]
  },
  {
   "cell_type": "code",
   "execution_count": null,
   "metadata": {
    "collapsed": true
   },
   "outputs": [],
   "source": [
    "# optional, you can create k_weight_rating\n",
    "k_weight_rating = <FILL IN>"
   ]
  },
  {
   "cell_type": "markdown",
   "metadata": {},
   "source": [
    "transform to dataframe with columns 'project_id' and 'k_weight_rating'\n",
    "\n",
    "__! TO DO: Create dataframe \"recommend_df\" which sort values by 'k_weight_rating' and show only topn projects. **__"
   ]
  },
  {
   "cell_type": "code",
   "execution_count": null,
   "metadata": {
    "scrolled": true
   },
   "outputs": [],
   "source": [
    "# topn = <FILL IN>\n",
    "recommend_df = (pd.DataFrame({\"project_id\": df_train_pivot.columns\n",
    "                             ,\"k_weight_rating\": <FILL IN>})\n",
    "                             .<FILL IN>\n",
    "                             .<FILL IN>)"
   ]
  },
  {
   "cell_type": "code",
   "execution_count": null,
   "metadata": {
    "collapsed": true
   },
   "outputs": [],
   "source": [
    "recommend_df"
   ]
  },
  {
   "cell_type": "markdown",
   "metadata": {},
   "source": [
    "**Recommend items before ignore interacted items: [8644, 8325, 9080, 4167, 1967, 4927, 7606]"
   ]
  },
  {
   "cell_type": "markdown",
   "metadata": {},
   "source": [
    "### - Items to ignore\n",
    "We'll recommend new items so we need to ignore interacted items before recommend"
   ]
  },
  {
   "cell_type": "markdown",
   "metadata": {},
   "source": [
    "------------------------------------------------------------------------------------------\n",
    "__! TO DO: create \"get_item_interacted\" function which return set of interacted items of each user and ignore them in recommend_df**__\n",
    "\n",
    "------------------------------------------------------------------------------------------"
   ]
  },
  {
   "cell_type": "code",
   "execution_count": null,
   "metadata": {},
   "outputs": [],
   "source": [
    "def get_item_interacted(df, user_id):\n",
    "    \"\"\"\n",
    "    Args:\n",
    "    - df = dataframe which collect interacted projects of users\n",
    "    - userId = user id\n",
    "    \n",
    "    Return:\n",
    "    - set of interacted itemsets\n",
    "    \"\"\"\n",
    "    interacted_projects = df[df.index == user_id][['project_id']] #<FILL IN>\n",
    "    return set(interacted_projects['project_id'])"
   ]
  },
  {
   "cell_type": "code",
   "execution_count": null,
   "metadata": {
    "collapsed": true
   },
   "outputs": [],
   "source": [
    "items_to_ignore = get_item_interacted(df_train_indexed, user_id)#get_item_interacted(<FILL IN>)\n",
    "items_to_ignore"
   ]
  },
  {
   "cell_type": "code",
   "execution_count": null,
   "metadata": {},
   "outputs": [],
   "source": [
    "# topn = <FILL IN>\n",
    "recommend_df = pd.DataFrame({\"project_id\": df_train_pivot.columns\n",
    "                            ,\"k_weight_rating\": <FILL IN>})\n",
    "\n",
    "recommend_df =  (recommend_df[~recommend_df['project_id'].isin(items_to_ignore)]\n",
    "                .<FILL IN>\n",
    "                .<FILL IN>)     "
   ]
  },
  {
   "cell_type": "code",
   "execution_count": null,
   "metadata": {
    "collapsed": true
   },
   "outputs": [],
   "source": [
    "recommend_df"
   ]
  },
  {
   "cell_type": "markdown",
   "metadata": {},
   "source": [
    "** Recommend items after ignore interacted items: [8325, 9080, 4167, 1967, 9186, 8406, 2729]"
   ]
  },
  {
   "cell_type": "markdown",
   "metadata": {},
   "source": [
    "### Evaluation\n",
    "We'll use metric __MAP@k__ for evaluate result.\n",
    "\n",
    "Example of calculating MAP@5\n",
    "\n",
    "```\n",
    "|                                        |                   |        Precision       |          Average         |\n",
    "|----------------------------------------+-------------------+------------------------+--------------------------|\n",
    "| Actual rank: [2, 4, 1, 5]              |  [1, 0, 0, 1, 1]  | [1/1, 0, 0, 2/4, 3/5]  | (1 + 2/4 + 3/5)/4 = 0.53 |\n",
    "| Recommended rank: [5, 9, 3, 1, 2]      |                   |                        |                          |\n",
    "|----------------------------------------+-------------------+------------------------+--------------------------|\n",
    "| Actual rank: [9, 6, 1]                 |  [1, 0, 0, 0, 0]  | [1/1, 0, 0, 2/4, 3/5]  | (1/1)/3 = 0.33           |\n",
    "| Recommended rank: [9, 2, 5, 0, 4]      |                   |                        |                          |\n",
    "|----------------------------------------+-------------------+------------------------+--------------------------|\n",
    "| Actual rank: [6, 0, 4]                 |  [0, 0, 0, 1, 1]  | [0, 0, 0, 1/4, 2/5]    | (1/4 + 2/5)/3 = 0.22     |\n",
    "| Recommended rank: [1, 10, 11, 4, 6]    |                   |                        |                          |\n",
    "|----------------------------------------+-------------------+------------------------+--------------------------|\n",
    "```\n",
    "Mean Average Precision @ 5 = (0.53 + 0.33 + 0.22)/3 = 0.36\n",
    "\n",
    "** It's ap for only 1 user. If you would like to evaluate all users, pls. submit file on kaggle :)"
   ]
  },
  {
   "cell_type": "code",
   "execution_count": null,
   "metadata": {
    "collapsed": true
   },
   "outputs": [],
   "source": [
    "def ap_func(actual_list, recommend_list, k=7):\n",
    "    \n",
    "    m = len(actual_list)\n",
    "    recoms = []\n",
    "    precision = 0\n",
    "    for i, item_ in enumerate(recommend_list):\n",
    "        if item_ in actual_list:\n",
    "            recoms.append(1)\n",
    "            precision += round(sum(recoms[:i+1])/(i+1), 2)\n",
    "        else:\n",
    "            recoms.append(0)\n",
    "          \n",
    "    ap = round(precision/min(m, k), 2)\n",
    "    return ap"
   ]
  },
  {
   "cell_type": "code",
   "execution_count": null,
   "metadata": {},
   "outputs": [],
   "source": [
    "actual_list = list(df_test_indexed[df_test_indexed.index == user_id]['project_id'].values)\n",
    "recommend_list = list(recommend_df['project_id'].values)\n",
    "ap = ap_func(actual_list, recommend_list, 7)"
   ]
  },
  {
   "cell_type": "code",
   "execution_count": null,
   "metadata": {},
   "outputs": [],
   "source": [
    "print(ap)"
   ]
  },
  {
   "cell_type": "markdown",
   "metadata": {},
   "source": [
    "** ap = 0.25"
   ]
  },
  {
   "cell_type": "markdown",
   "metadata": {},
   "source": [
    "#### For user_id = '435f1a34-21ca-d605-0968-cb1b5b3f9aeb'\n",
    "if you follow the default values of this lab, you'll get the result like below\n",
    "- recommend items before ignore interacted items: [8644, 8325, 9080, 4167, 1967, 4927, 7606]\n",
    "- recommend items after ignore interacted items: [8325, 9080, 4167, 1967, 9186, 8406, 2729]\n",
    "- ap = 0.25\n"
   ]
  },
  {
   "cell_type": "markdown",
   "metadata": {},
   "source": [
    "# Create your own data prepation for fitting model"
   ]
  },
  {
   "cell_type": "markdown",
   "metadata": {},
   "source": [
    "In addition to 0/1 matrix, we can using other data for user-item matrix to caculate similarity ex. rating matrix or add user profile."
   ]
  },
  {
   "cell_type": "markdown",
   "metadata": {},
   "source": [
    "### - Case 2: Rating matrix\n",
    "Define rating by number of interactions with each project and scale them by bining (look at the distribution of data and define boundary)\n",
    "\n",
    "ex. (0-1]   ==> rating = 1\n",
    "\n",
    "    (1-2]   ==> rating = 2\n",
    "    \n",
    "    (2-4]   ==> rating = 3\n",
    "    \n",
    "    (4-7]   ==> rating = 4\n",
    "    \n",
    "    (7-inf] ==> rating = 5\n",
    "\n",
    "```\n",
    "|------------+---+---+---+----+---|\n",
    "| project_id | 1 | 2 | 3 | .. | j |\n",
    "| userCode   |   |   |   |    |   |\n",
    "|------------+---+---+---+----+---|\n",
    "| user A     | 4 | 0 | 0 | .. | 2 |\n",
    "| user B     | 0 | 3 | 0 | .. | 1 |\n",
    "| user C     | 0 | 0 | 5 | .. | 0 |\n",
    "|  ..        | . | . | . | .. | . |\n",
    "|------------+---+---+---+----+---|\n",
    "\n",
    "\n",
    "```\n",
    "\n",
    "------------------------------------------------------------------------------------------\n",
    "\n",
    "#### ! TO DO: prepare rating user-item matrix like above *************************************\n",
    "------------------------------------------------------------------------------------------"
   ]
  },
  {
   "cell_type": "code",
   "execution_count": null,
   "metadata": {
    "collapsed": true
   },
   "outputs": [],
   "source": [
    "# count number of interaction groupby userCode and project_id\n",
    "df_train_rating = <FILL IN>"
   ]
  },
  {
   "cell_type": "code",
   "execution_count": null,
   "metadata": {
    "collapsed": true
   },
   "outputs": [],
   "source": [
    "# distribution of number of interactions\n",
    "df_train_rating.groupby(['userCode', 'project_id']).size().reset_index()[[0]].boxplot()\n",
    "plt.show()"
   ]
  },
  {
   "cell_type": "code",
   "execution_count": null,
   "metadata": {
    "collapsed": true
   },
   "outputs": [],
   "source": [
    "df_train_rating['rating'] = <FILL IN>"
   ]
  },
  {
   "cell_type": "code",
   "execution_count": null,
   "metadata": {
    "collapsed": true
   },
   "outputs": [],
   "source": [
    "df_train_rating_pivot = (df_train_rating.pivot(index = <FILL IN>\n",
    "                                             ,columns = <FILL IN>\n",
    "                                             ,values = <FILL IN>)\n",
    "                                       .fillna(0))\n",
    "df_train_rating_pivot.head(3)"
   ]
  },
  {
   "cell_type": "code",
   "execution_count": null,
   "metadata": {
    "collapsed": true
   },
   "outputs": [],
   "source": [
    "df_train_rating_matrix = <FILL IN>\n",
    "print(df_train_rating_matrix.shape)"
   ]
  },
  {
   "cell_type": "code",
   "execution_count": null,
   "metadata": {
    "collapsed": true
   },
   "outputs": [],
   "source": [
    "df_train_rating_index = df_train_rating.<FILL IN>"
   ]
  },
  {
   "cell_type": "markdown",
   "metadata": {},
   "source": [
    "### - Case 3: Rating + user profile matrix\n",
    "Using above rating matrix and concat with user profile ex. weekday etc.\n",
    "\n",
    "```\n",
    "|------------+---+---+---+----+---+-----+-----+-----+-----+-----+-----+-----|\n",
    "| project_id | 1 | 2 | 3 | .. | j | Mon | Tue | Wed | Thu | Fri | Sat | Sun |\n",
    "| userCode   |   |   |   |    |   |     |     |     |     |     |     |     |\n",
    "|------------+---+---+---+----+---|-----+-----+-----+-----+-----+-----+-----+\n",
    "| user A     | 4 | 0 | 0 | .. | 2 | 0.1 | 0.3 | 0.2 | 0.0 | 0.0 | 0.1 | 0.3 |\n",
    "| user B     | 0 | 3 | 0 | .. | 1 | 0.2 | 0.2 | 0.1 | 0.1 | 0.1 | 0.3 | 0.0 |\n",
    "| user C     | 0 | 0 | 5 | .. | 0 | 0.0 | 0.1 | 0.1 | 0.0 | 0.0 | 0.5 | 0.3 |\n",
    "|  ..        | . | . | . | .. | . | ... | ... | ... | ... | ... | ... | ... |\n",
    "|------------+---+---+---+----+--------+-----+-----+-----+-----+-----+------|\n",
    "```\n"
   ]
  },
  {
   "cell_type": "code",
   "execution_count": null,
   "metadata": {
    "collapsed": true
   },
   "outputs": [],
   "source": [
    "df_train['weekday'] = df_train['datetime'].dt.dayofweek"
   ]
  },
  {
   "cell_type": "code",
   "execution_count": null,
   "metadata": {
    "collapsed": true
   },
   "outputs": [],
   "source": [
    "# proportion of #interactions by time interval\n",
    "weekday = df_train.groupby(['userCode', 'weekday']).size()\n",
    "weekday = weekday.groupby(level = 0).apply(lambda x: round(x/float(x.sum()), 2)).reset_index()\n",
    "weekday.columns.values[2] = 0\n",
    "user_weekday = weekday.pivot(index = 'userCode', columns = 'weekday', values = 0).fillna(0).reset_index()\n",
    "user_weekday.columns =  list(user_weekday.columns.values[:1]) + ['day' + str(col) for col in user_weekday.columns.values[1:]]\n",
    "user_weekday.head(3)"
   ]
  },
  {
   "cell_type": "markdown",
   "metadata": {},
   "source": [
    "------------------------------------------------------------------------------------------\n",
    "\n",
    "#### ! TO DO: **\n",
    "- create other user profile\n",
    "- merge user profile and user rating\n",
    "- create matrix \n",
    "\n",
    "------------------------------------------------------------------------------------------"
   ]
  },
  {
   "cell_type": "code",
   "execution_count": null,
   "metadata": {
    "collapsed": true
   },
   "outputs": [],
   "source": [
    "<FILL IN: CREATE USER PROFILE>"
   ]
  },
  {
   "cell_type": "code",
   "execution_count": null,
   "metadata": {
    "collapsed": true
   },
   "outputs": [],
   "source": [
    "df_train_userprofile = pd.merge(df_train_pivot.reset_index()\n",
    "                                , user_weekday\n",
    "                                , how='left'\n",
    "                                , on=['userCode'])\n",
    "df_train_userprofile.head(3)"
   ]
  },
  {
   "cell_type": "markdown",
   "metadata": {},
   "source": [
    "set \"userCode\" to be index for fast search and create matrix user-item matrix"
   ]
  },
  {
   "cell_type": "code",
   "execution_count": null,
   "metadata": {
    "collapsed": true
   },
   "outputs": [],
   "source": [
    "df_train_userprofile_indexed = <FILL IN>\n",
    "df_train_userprofile_matrix = <FILL IN>"
   ]
  },
  {
   "cell_type": "markdown",
   "metadata": {},
   "source": [
    "### Create function for items recommendation"
   ]
  },
  {
   "cell_type": "code",
   "execution_count": null,
   "metadata": {
    "collapsed": true
   },
   "outputs": [],
   "source": [
    "model = <FILL IN>\n",
    "model.fit(<FILL IN: user_item_matrix>)"
   ]
  },
  {
   "cell_type": "code",
   "execution_count": null,
   "metadata": {
    "collapsed": true
   },
   "outputs": [],
   "source": [
    "prodect_cols = df_train_pivot.columns\n",
    "\n",
    "def recommend_items(user_id, model, df_users, df_rating, items_to_ignore=[], prodect_cols=prodect_cols):\n",
    "    \n",
    "    distances, indices = <TO DO>\n",
    "    k_weight_rating = <TO DO>\n",
    "    \n",
    "    recommend_df = pd.DataFrame({\"project_id\":prodect_cols, \"k_weight_rating\": k_weight_rating})\n",
    "    recommend_df = recommend_df.<TO DO>\n",
    "    recommend_items = recommend_df['project_id'].values\n",
    "    recommendation_df = pd.DataFrame({\"userCode\": user_id, \"project_id\": recommend_items})\n",
    "    return recommendation_df, recommend_items"
   ]
  },
  {
   "cell_type": "code",
   "execution_count": null,
   "metadata": {
    "collapsed": true
   },
   "outputs": [],
   "source": [
    "user_id = '086cdc16-4635-50c1-8198-51e29d09798e'\n",
    "model = knn\n",
    "df_users = <TO DO> # dataframe to select user_id to calculate similarity\n",
    "df_rating = <TO DO> # matrix to calculate weight\n",
    "items_to_ignore = <TO DO>\n",
    "recommend_df, items = recommend_items(<TO DO>)"
   ]
  },
  {
   "cell_type": "markdown",
   "metadata": {},
   "source": [
    "### Transform data for submit to kaggle\n",
    "\n",
    "Format of dataframe for 'transform_to_kaggle' function, consist of 2 columns\n",
    "- userCode\n",
    "- project_id : order by sequence of recommendation (7 sequences)\n",
    "\n",
    "```\n",
    "|------------+--------------|\n",
    "|  userCode  |  project_id  |\n",
    "|------------+--------------|\n",
    "| user A     |      4       |\n",
    "| user A     |     21       |\n",
    "| user A     |     34       |\n",
    "|  ..        |     ..       |\n",
    "```"
   ]
  },
  {
   "cell_type": "code",
   "execution_count": null,
   "metadata": {
    "collapsed": true
   },
   "outputs": [],
   "source": [
    "def transform_to_kaggle(recommed_df):\n",
    "    \n",
    "    \"\"\"\n",
    "    Input:\n",
    "        - recommed_df: userCode and project_id\n",
    "    \n",
    "    Returns:\n",
    "        - recommed_df: \n",
    "    \"\"\"\n",
    "    testing_dataset = []\n",
    "    recommed_df_indexed = recommed_df.set_index('userCode')\n",
    "    \n",
    "    for idx, user_id in enumerate(list(recommed_df_indexed.index.unique().values)):\n",
    "        \n",
    "        interacted_testset = recommed_df_indexed[recommed_df_indexed.index == user_id]\n",
    "        rank_actual = list(interacted_testset['project_id'].values)\n",
    "\n",
    "        if len(rank_actual) > 0:\n",
    "            rank_actual_str = ' '.join(str(r) for r in rank_actual)\n",
    "            testing_dataset.append({\"userCode\": user_id\n",
    "                                   ,\"project_id\": rank_actual_str})\n",
    "            \n",
    "    testing_df = pd.DataFrame(testing_dataset)\n",
    "    testing_df = testing_df[['userCode', 'project_id']]\n",
    "    return testing_df"
   ]
  },
  {
   "cell_type": "code",
   "execution_count": null,
   "metadata": {
    "collapsed": true
   },
   "outputs": [],
   "source": [
    "submit_file = transform_to_kaggle(recommend_df)"
   ]
  }
 ],
 "metadata": {
  "kernelspec": {
   "display_name": "Python 3",
   "language": "python",
   "name": "python3"
  },
  "language_info": {
   "codemirror_mode": {
    "name": "ipython",
    "version": 3
   },
   "file_extension": ".py",
   "mimetype": "text/x-python",
   "name": "python",
   "nbconvert_exporter": "python",
   "pygments_lexer": "ipython3",
   "version": "3.6.3"
  }
 },
 "nbformat": 4,
 "nbformat_minor": 2
}
