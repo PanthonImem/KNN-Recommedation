{
 "cells": [
  {
   "cell_type": "markdown",
   "metadata": {},
   "source": [
    "# Collaborative Filtering"
   ]
  },
  {
   "cell_type": "markdown",
   "metadata": {},
   "source": [
    "Concept of collaborative Filtering, predictions (filtering) about the interests of a user by collecting preferences or taste information from many users (collaborating).\n",
    "\n",
    "![alt text](https://upload.wikimedia.org/wikipedia/commons/thumb/5/52/Collaborative_filtering.gif/300px-Collaborative_filtering.gif)\n",
    "\n",
    "In this lab, we'll implement __knn__ for finding the nearest neighbors and predict rating for each project and user by using \"sklern\". We separate this lab to 3 parts\n",
    "- Data Preparation\n",
    "- Fiting Model\n",
    "- Prediction to recommend next projects\n",
    "\n",
    "Ref. https://en.wikipedia.org/wiki/Collaborative_filtering"
   ]
  },
  {
   "cell_type": "code",
   "execution_count": null,
   "metadata": {
    "collapsed": true
   },
   "outputs": [],
   "source": [
    "# required library\n",
    "import pandas as pd\n",
    "import numpy as np\n",
    "import matplotlib.pyplot as plt\n",
    "import datetime"
   ]
  },
  {
   "cell_type": "code",
   "execution_count": null,
   "metadata": {
    "collapsed": true
   },
   "outputs": [],
   "source": [
    "path = <path to your data>\n",
    "df = pd.read_csv(path+'userLog_201801_201802_for_participants.csv', delimiter = ';', error_bad_lines = False, low_memory = False)\n",
    "df.head(3)"
   ]
  },
  {
   "cell_type": "code",
   "execution_count": null,
   "metadata": {
    "collapsed": true
   },
   "outputs": [],
   "source": [
    "# Creat a small dataset for this workshop by randomly selecting n users.\n",
    "random_state = 100\n",
    "sample_users = set(df['userCode'].sample(n=10000, random_state=random_state))\n",
    "sample_data = df[df['userCode'].isin(sample_users)]\n",
    "sample_data.head(3)"
   ]
  },
  {
   "cell_type": "markdown",
   "metadata": {},
   "source": [
    "### - Data Cleaning and Transformation"
   ]
  },
  {
   "cell_type": "markdown",
   "metadata": {},
   "source": [
    "Create visited datetime ?"
   ]
  },
  {
   "cell_type": "code",
   "execution_count": null,
   "metadata": {
    "collapsed": true
   },
   "outputs": [],
   "source": [
    "sample_data['datetime'] = sample_data.apply(lambda row : datetime.datetime(row['year'], row['month'], row['day'], row['hour']), axis=1)\n",
    "sample_data['date'] = sample_data['datetime'].map(lambda x : x.date())\n",
    "sample_data['yearmonth'] = sample_data['date'].map(lambda x: str(x.year) +'-'+ str(x.month).zfill(2))\n",
    "sample_data.head(3)"
   ]
  },
  {
   "cell_type": "markdown",
   "metadata": {},
   "source": [
    "Clean data: \n",
    "- remove the projects that have less than 30 users.\n",
    "There are other methods to clean the data, sometimes depending on your model."
   ]
  },
  {
   "cell_type": "code",
   "execution_count": null,
   "metadata": {
    "collapsed": true
   },
   "outputs": [],
   "source": [
    "min_interacted = 30\n",
    "project_count = sample_data.groupby(['project_id']).size()\n",
    "ignore_project = set(project_count[project_count > min_interacted].index)\n",
    "print(len(ignore_project))\n",
    "\n",
    "df_filter = sample_data[~sample_data['project_id'].isin(ignore_project)]\n",
    "df_filter.head(3)"
   ]
  },
  {
   "cell_type": "code",
   "execution_count": null,
   "metadata": {
    "collapsed": true
   },
   "outputs": [],
   "source": [
    "# optional, you can clean data by yourself. For example, you can remove users who have viewed less than x projects here.\n",
    "df_filter = <FILL IN>"
   ]
  },
  {
   "cell_type": "markdown",
   "metadata": {},
   "source": [
    "### - Split training-testing dataset\n",
    "In this example, we use a date to split the data into train and test set."
   ]
  },
  {
   "cell_type": "code",
   "execution_count": null,
   "metadata": {
    "collapsed": true
   },
   "outputs": [],
   "source": [
    "def SplitTrainTest(df, date):\n",
    "    \n",
    "    df['interacted'] = 1\n",
    "    df_train = df[df.date <  date]\n",
    "    df_test = df[df.date >=  date].sort_values(by = ['userCode', 'datetime'])\n",
    "    \n",
    "    # projects which are in training datasets\n",
    "    project_train = set(df_train['project_id'].values)\n",
    "    df_test = df_test[df_test['project_id'].isin(project_train)]\n",
    "    \n",
    "    # users which are in training datasets\n",
    "    user_train = set(df_train['userCode'].values)\n",
    "    df_test = df_test[df_test['userCode'].isin(user_train)]\n",
    "    \n",
    "    print('# of train dataset:', len(df_train))\n",
    "    print('# of test dataset:', len(df_test))\n",
    "\n",
    "    return df_train, df_test"
   ]
  },
  {
   "cell_type": "code",
   "execution_count": null,
   "metadata": {
    "collapsed": true
   },
   "outputs": [],
   "source": [
    "date_ = datetime.date(2018, 2, 20)\n",
    "df_train, df_test_full = SplitTrainTest(df_filter, date = date_)"
   ]
  },
  {
   "cell_type": "code",
   "execution_count": null,
   "metadata": {
    "collapsed": true,
    "scrolled": true
   },
   "outputs": [],
   "source": [
    "# Set 'userCode' as an index for convinience.\n",
    "df_test_indexed = df_test_full[['userCode', 'project_id', 'interacted']].drop_duplicates().set_index('userCode')\n",
    "df_test_indexed.head(3)"
   ]
  },
  {
   "cell_type": "markdown",
   "metadata": {},
   "source": [
    "## Data Preparation\n",
    "In this part, we'll create user-item matrix for calculating similarity between each pair of users. \n",
    "As a simple case, let's create a binary user-item matrix where 1 indicates there is an interaction (view) and 0 otherwise.\n",
    "You can define the interaction values differently. Here are some examples:\n",
    "- rating (no. of views) matrix\n",
    "- rating (no. of views) + user profile matrix.\n",
    "You can try the above options later in the workshop."
   ]
  },
  {
   "cell_type": "markdown",
   "metadata": {},
   "source": [
    "### - Case 1: 0/1 matrix\n",
    "This part we'll prepare interacted data to identify interacted projects for each users. We need data like below format.\n",
    "```\n",
    "|------------+---+---+---+----+---|\n",
    "| project_id | 1 | 2 | 3 | .. | j |\n",
    "| userCode   |   |   |   |    |   |\n",
    "|------------+---+---+---+----+---|\n",
    "| user A     | 1 | 0 | 0 | .. | 1 |\n",
    "| user B     | 0 | 1 | 0 | .. | 1 |\n",
    "| user C     | 0 | 0 | 1 | .. | 0 |\n",
    "|  ..        | . | . | . | .. | . |\n",
    "|------------+---+---+---+----+---|\n",
    "\n",
    "```\n",
    "\n",
    "- 1 means that user interacted that project\n",
    "- 0 means that user didn't interact that project"
   ]
  },
  {
   "cell_type": "code",
   "execution_count": null,
   "metadata": {
    "collapsed": true
   },
   "outputs": [],
   "source": [
    "# Convert the dataframe into a matrix using pivot() and set index of df_train for fast search \n",
    "df_train_indexed = df_train[['userCode', 'project_id', 'interacted']].drop_duplicates()\n",
    "df_train_pivot = (df_train_indexed.pivot(index = 'userCode', columns = 'project_id', values = 'interacted')\n",
    "                                  .fillna(0))\n",
    "df_train_pivot.head(3)"
   ]
  },
  {
   "cell_type": "code",
   "execution_count": null,
   "metadata": {
    "collapsed": true
   },
   "outputs": [],
   "source": [
    "df_train_matrix = df_train_pivot.values\n",
    "df_train_matrix.shape"
   ]
  },
  {
   "cell_type": "code",
   "execution_count": null,
   "metadata": {
    "collapsed": true
   },
   "outputs": [],
   "source": [
    "df_train_indexed = df_train_indexed.set_index('userCode')\n",
    "df_train_indexed.head(3)"
   ]
  },
  {
   "cell_type": "markdown",
   "metadata": {},
   "source": [
    "## Implementing KNN for recommender system\n",
    "In this part, we use sklearn for running a knn algorithm. For more infomation, http://scikit-learn.org/stable/modules/generated/sklearn.neighbors.KNeighborsClassifier.html"
   ]
  },
  {
   "cell_type": "markdown",
   "metadata": {},
   "source": [
    "### - Fitting model"
   ]
  },
  {
   "cell_type": "code",
   "execution_count": null,
   "metadata": {
    "collapsed": true
   },
   "outputs": [],
   "source": [
    "# import the library for building a knn model\n",
    "from sklearn.neighbors import NearestNeighbors"
   ]
  },
  {
   "cell_type": "markdown",
   "metadata": {},
   "source": [
    "------------------------------------------------------------------------------------------\n",
    "#### Now let's use NearestNeighbor based models in sklearn to fit our data **\n",
    "\n",
    "For more infomation, http://scikit-learn.org/stable/modules/generated/sklearn.neighbors.KNeighborsClassifier.html\n",
    "\n",
    "------------------------------------------------------------------------------------------"
   ]
  },
  {
   "cell_type": "code",
   "execution_count": null,
   "metadata": {
    "collapsed": true
   },
   "outputs": [],
   "source": [
    "n_neighbors = 30 # you can define number of neighbors here.\n",
    "metric = 'cosine' # you can change to other metric for calculate similarity here."
   ]
  },
  {
   "cell_type": "code",
   "execution_count": null,
   "metadata": {
    "collapsed": true
   },
   "outputs": [],
   "source": [
    "# Build the model\n",
    "knn = NearestNeighbors(metric = metric\n",
    "                        , algorithm = 'brute'\n",
    "                        ,  n_neighbors = n_neighbors)"
   ]
  },
  {
   "cell_type": "code",
   "execution_count": null,
   "metadata": {
    "collapsed": true
   },
   "outputs": [],
   "source": [
    "knn.fit(df_train_matrix)"
   ]
  },
  {
   "cell_type": "markdown",
   "metadata": {},
   "source": [
    "### - Finding k nearest neighbors and get their ratings of each project\n",
    "- __Input:__ user_id\n",
    "- __Output:__ distance and indices of k nearest neighbors"
   ]
  },
  {
   "cell_type": "code",
   "execution_count": null,
   "metadata": {
    "collapsed": true
   },
   "outputs": [],
   "source": [
    "user_id = '435f1a34-21ca-d605-0968-cb1b5b3f9aeb'"
   ]
  },
  {
   "cell_type": "code",
   "execution_count": null,
   "metadata": {
    "collapsed": true,
    "scrolled": true
   },
   "outputs": [],
   "source": [
    "distances, indices = knn.kneighbors(df_train_pivot[df_train_pivot.index == user_id].iloc[0].values.reshape(1, -1)\n",
    "                                     , n_neighbors = n_neighbors)\n",
    "print('distance:', distances)\n",
    "print('indices:', indices)"
   ]
  },
  {
   "cell_type": "markdown",
   "metadata": {},
   "source": [
    "** get interacted values of k nearest neighbors by indices and calculate rating for each project."
   ]
  },
  {
   "cell_type": "code",
   "execution_count": null,
   "metadata": {
    "collapsed": true
   },
   "outputs": [],
   "source": [
    "k_rating_matrix = df_train_matrix[indices,]\n",
    "k_rating_matrix.shape "
   ]
  },
  {
   "cell_type": "code",
   "execution_count": null,
   "metadata": {
    "collapsed": true
   },
   "outputs": [],
   "source": [
    "k_rating = sum(k_rating_matrix)\n",
    "k_weight_rating = sum(k_rating)/n_neighbors\n",
    "print(k_weight_rating)\n",
    "print(k_weight_rating.shape)"
   ]
  },
  {
   "cell_type": "markdown",
   "metadata": {},
   "source": [
    "------------------------------------------------------------------------------------------\n",
    "__! TO DO: Calculate \"k_weight_rating\" by using distance to weight rating **__\n",
    "\n",
    "k_weight_rating = sum(k_rating*(1/distance))/sum(1/distance)\n",
    "\n",
    "------------------------------------------------------------------------------------------"
   ]
  },
  {
   "cell_type": "code",
   "execution_count": null,
   "metadata": {
    "collapsed": true
   },
   "outputs": [],
   "source": [
    "# optional, you can create k_weight_rating\n",
    "k_weight_rating = <FILL IN>"
   ]
  },
  {
   "cell_type": "markdown",
   "metadata": {},
   "source": [
    "transform to dataframe with columns 'project_id' and 'k_weight_rating'\n",
    "\n",
    "__! TO DO: Create dataframe \"recommend_df\" which sort values by 'k_weight_rating' and show only topn projects. **__"
   ]
  },
  {
   "cell_type": "code",
   "execution_count": null,
   "metadata": {
    "collapsed": true,
    "scrolled": true
   },
   "outputs": [],
   "source": [
    "# topn = <FILL IN>\n",
    "recommend_df = (pd.DataFrame({\"project_id\": df_train_pivot.columns\n",
    "                             ,\"k_weight_rating\": <FILL IN>})\n",
    "                             .<FILL IN>\n",
    "                             .<FILL IN>)"
   ]
  },
  {
   "cell_type": "code",
   "execution_count": null,
   "metadata": {
    "collapsed": true
   },
   "outputs": [],
   "source": [
    "recommend_df"
   ]
  },
  {
   "cell_type": "markdown",
   "metadata": {},
   "source": [
    "**Recommend items before ignore interacted items: [8644, 8325, 9080, 4167, 1967, 4927, 7606]"
   ]
  },
  {
   "cell_type": "markdown",
   "metadata": {},
   "source": [
    "### - Items to ignore\n",
    "We'll recommend new items so we need to ignore interacted items before recommend"
   ]
  },
  {
   "cell_type": "markdown",
   "metadata": {},
   "source": [
    "------------------------------------------------------------------------------------------\n",
    "__! TO DO: create \"get_item_interacted\" function which return set of interacted items of each user and ignore them in recommend_df**__\n",
    "\n",
    "------------------------------------------------------------------------------------------"
   ]
  },
  {
   "cell_type": "code",
   "execution_count": null,
   "metadata": {
    "collapsed": true
   },
   "outputs": [],
   "source": [
    "def get_item_interacted(df, user_id):\n",
    "    \"\"\"\n",
    "    Args:\n",
    "    - df = dataframe which collect interacted projects of users\n",
    "    - userId = user id\n",
    "    \n",
    "    Return:\n",
    "    - set of interacted itemsets\n",
    "    \"\"\"\n",
    "    interacted_projects = df[df.index == user_id][['project_id']] #<FILL IN>\n",
    "    return set(interacted_projects['project_id'])"
   ]
  },
  {
   "cell_type": "code",
   "execution_count": null,
   "metadata": {
    "collapsed": true
   },
   "outputs": [],
   "source": [
    "items_to_ignore = get_item_interacted(df_train_indexed, user_id)#get_item_interacted(<FILL IN>)\n",
    "items_to_ignore"
   ]
  },
  {
   "cell_type": "code",
   "execution_count": null,
   "metadata": {
    "collapsed": true
   },
   "outputs": [],
   "source": [
    "# topn = <FILL IN>\n",
    "recommend_df = pd.DataFrame({\"project_id\": df_train_pivot.columns\n",
    "                            ,\"k_weight_rating\": <FILL IN>})\n",
    "\n",
    "recommend_df =  (recommend_df[~recommend_df['project_id'].isin(items_to_ignore)]\n",
    "                .<FILL IN>\n",
    "                .<FILL IN>)     "
   ]
  },
  {
   "cell_type": "code",
   "execution_count": null,
   "metadata": {
    "collapsed": true
   },
   "outputs": [],
   "source": [
    "recommend_df"
   ]
  },
  {
   "cell_type": "markdown",
   "metadata": {},
   "source": [
    "** Recommend items after ignore interacted items: [8325, 9080, 4167, 1967, 9186, 8406, 2729]"
   ]
  },
  {
   "cell_type": "markdown",
   "metadata": {},
   "source": [
    "### Evaluation\n",
    "We'll use metric __MAP@k__ for evaluate result.\n",
    "\n",
    "Example of calculating MAP@5\n",
    "\n",
    "```\n",
    "|                                        |                   |        Precision       |          Average         |\n",
    "|----------------------------------------+-------------------+------------------------+--------------------------|\n",
    "| Actual rank: [2, 4, 1, 5]              |  [1, 0, 0, 1, 1]  | [1/1, 0, 0, 2/4, 3/5]  | (1 + 2/4 + 3/5)/4 = 0.53 |\n",
    "| Recommended rank: [5, 9, 3, 1, 2]      |                   |                        |                          |\n",
    "|----------------------------------------+-------------------+------------------------+--------------------------|\n",
    "| Actual rank: [9, 6, 1]                 |  [1, 0, 0, 0, 0]  | [1/1, 0, 0, 2/4, 3/5]  | (1/1)/3 = 0.33           |\n",
    "| Recommended rank: [9, 2, 5, 0, 4]      |                   |                        |                          |\n",
    "|----------------------------------------+-------------------+------------------------+--------------------------|\n",
    "| Actual rank: [6, 0, 4]                 |  [0, 0, 0, 1, 1]  | [0, 0, 0, 1/4, 2/5]    | (1/4 + 2/5)/3 = 0.22     |\n",
    "| Recommended rank: [1, 10, 11, 4, 6]    |                   |                        |                          |\n",
    "|----------------------------------------+-------------------+------------------------+--------------------------|\n",
    "```\n",
    "Mean Average Precision @ 5 = (0.53 + 0.33 + 0.22)/3 = 0.36\n",
    "\n",
    "** It's ap for only 1 user. If you would like to evaluate all users, pls. submit file on kaggle :)"
   ]
  },
  {
   "cell_type": "code",
   "execution_count": null,
   "metadata": {
    "collapsed": true
   },
   "outputs": [],
   "source": [
    "def ap_func(actual_list, recommend_list, k=7):\n",
    "    \n",
    "    m = len(actual_list)\n",
    "    recoms = []\n",
    "    precision = 0\n",
    "    for i, item_ in enumerate(recommend_list):\n",
    "        if item_ in actual_list:\n",
    "            recoms.append(1)\n",
    "            precision += round(sum(recoms[:i+1])/(i+1), 2)\n",
    "        else:\n",
    "            recoms.append(0)\n",
    "          \n",
    "    ap = round(precision/min(m, k), 2)\n",
    "    return ap"
   ]
  },
  {
   "cell_type": "code",
   "execution_count": null,
   "metadata": {
    "collapsed": true
   },
   "outputs": [],
   "source": [
    "actual_list = list(df_test_indexed[df_test_indexed.index == user_id]['project_id'].values)\n",
    "recommend_list = list(recommend_df['project_id'].values)\n",
    "ap = ap_func(actual_list, recommend_list, 7)"
   ]
  },
  {
   "cell_type": "code",
   "execution_count": null,
   "metadata": {
    "collapsed": true
   },
   "outputs": [],
   "source": [
    "print(ap)"
   ]
  },
  {
   "cell_type": "markdown",
   "metadata": {},
   "source": [
    "** ap = 0.25"
   ]
  },
  {
   "cell_type": "markdown",
   "metadata": {},
   "source": [
    "#### For user_id = '435f1a34-21ca-d605-0968-cb1b5b3f9aeb'\n",
    "if you follow the default values of this lab, you'll get the result like below\n",
    "- recommend items before ignore interacted items: [8644, 8325, 9080, 4167, 1967, 4927, 7606]\n",
    "- recommend items after ignore interacted items: [8325, 9080, 4167, 1967, 9186, 8406, 2729]\n",
    "- ap = 0.25\n"
   ]
  },
  {
   "cell_type": "markdown",
   "metadata": {},
   "source": [
    "# Create your own data preparation for recommendation"
   ]
  },
  {
   "cell_type": "markdown",
   "metadata": {},
   "source": [
    "In addition to 0/1 matrix, we can using other data for user-item matrix to caculate similarity ex. rating matrix or add user profile."
   ]
  },
  {
   "cell_type": "markdown",
   "metadata": {},
   "source": [
    "### - Case 2: Rating matrix\n",
    "Define rating by number of interactions with each project and scale them by bining (look at the distribution of data and define boundary)\n",
    "\n",
    "ex. (0-1]   ==> rating = 1\n",
    "\n",
    "    (1-2]   ==> rating = 2\n",
    "    \n",
    "    (2-4]   ==> rating = 3\n",
    "    \n",
    "    (4-7]   ==> rating = 4\n",
    "    \n",
    "    (7-inf] ==> rating = 5\n",
    "\n",
    "```\n",
    "|------------+---+---+---+----+---|\n",
    "| project_id | 1 | 2 | 3 | .. | j |\n",
    "| userCode   |   |   |   |    |   |\n",
    "|------------+---+---+---+----+---|\n",
    "| user A     | 4 | 0 | 0 | .. | 2 |\n",
    "| user B     | 0 | 3 | 0 | .. | 1 |\n",
    "| user C     | 0 | 0 | 5 | .. | 0 |\n",
    "|  ..        | . | . | . | .. | . |\n",
    "|------------+---+---+---+----+---|\n",
    "\n",
    "\n",
    "```\n",
    "\n",
    "------------------------------------------------------------------------------------------\n",
    "\n",
    "#### ! TO DO: prepare rating user-item matrix like above *************************************\n",
    "------------------------------------------------------------------------------------------"
   ]
  },
  {
   "cell_type": "code",
   "execution_count": null,
   "metadata": {
    "collapsed": true
   },
   "outputs": [],
   "source": [
    "# distribution of number of interactions\n",
    "df_train_rating.groupby(['userCode', 'project_id']).size().reset_index()[[0]].boxplot()\n",
    "plt.show()"
   ]
  },
  {
   "cell_type": "code",
   "execution_count": null,
   "metadata": {
    "collapsed": true
   },
   "outputs": [],
   "source": [
    "# count number of interaction groupby userCode and project_id\n",
    "df_train_rating = <FILL IN>"
   ]
  },
  {
   "cell_type": "code",
   "execution_count": null,
   "metadata": {
    "collapsed": true
   },
   "outputs": [],
   "source": [
    "df_train_rating['rating'] = <FILL IN>"
   ]
  },
  {
   "cell_type": "code",
   "execution_count": null,
   "metadata": {
    "collapsed": true
   },
   "outputs": [],
   "source": [
    "df_train_rating_pivot = (df_train_rating.pivot(index = <FILL IN>\n",
    "                                             ,columns = <FILL IN>\n",
    "                                             ,values = <FILL IN>)\n",
    "                                       .fillna(0))\n",
    "df_train_rating_pivot.head(3)"
   ]
  },
  {
   "cell_type": "code",
   "execution_count": null,
   "metadata": {
    "collapsed": true
   },
   "outputs": [],
   "source": [
    "df_train_rating_matrix = <FILL IN>\n",
    "print(df_train_rating_matrix.shape)"
   ]
  },
  {
   "cell_type": "code",
   "execution_count": null,
   "metadata": {
    "collapsed": true
   },
   "outputs": [],
   "source": [
    "df_train_rating_index = df_train_rating.<FILL IN>"
   ]
  },
  {
   "cell_type": "markdown",
   "metadata": {},
   "source": [
    "### - Case 3: Rating + user profile matrix\n",
    "Using above rating matrix and concat with user profile ex. weekday etc.\n",
    "\n",
    "```\n",
    "|------------+---+---+---+----+---+-----+-----+-----+-----+-----+-----+-----|\n",
    "| project_id | 1 | 2 | 3 | .. | j | Mon | Tue | Wed | Thu | Fri | Sat | Sun |\n",
    "| userCode   |   |   |   |    |   |     |     |     |     |     |     |     |\n",
    "|------------+---+---+---+----+---|-----+-----+-----+-----+-----+-----+-----+\n",
    "| user A     | 4 | 0 | 0 | .. | 2 | 0.1 | 0.3 | 0.2 | 0.0 | 0.0 | 0.1 | 0.3 |\n",
    "| user B     | 0 | 3 | 0 | .. | 1 | 0.2 | 0.2 | 0.1 | 0.1 | 0.1 | 0.3 | 0.0 |\n",
    "| user C     | 0 | 0 | 5 | .. | 0 | 0.0 | 0.1 | 0.1 | 0.0 | 0.0 | 0.5 | 0.3 |\n",
    "|  ..        | . | . | . | .. | . | ... | ... | ... | ... | ... | ... | ... |\n",
    "|------------+---+---+---+----+---+-----+-----+-----+-----+-----+-----+------|\n",
    "```\n"
   ]
  },
  {
   "cell_type": "code",
   "execution_count": null,
   "metadata": {
    "collapsed": true
   },
   "outputs": [],
   "source": [
    "df_train['weekday'] = df_train['datetime'].dt.dayofweek"
   ]
  },
  {
   "cell_type": "code",
   "execution_count": null,
   "metadata": {
    "collapsed": true
   },
   "outputs": [],
   "source": [
    "# proportion of #interactions by time interval\n",
    "weekday = df_train.groupby(['userCode', 'weekday']).size()\n",
    "weekday = weekday.groupby(level = 0).apply(lambda x: round(x/float(x.sum()), 2)).reset_index()\n",
    "weekday.columns.values[2] = 0\n",
    "user_weekday = weekday.pivot(index = 'userCode', columns = 'weekday', values = 0).fillna(0).reset_index()\n",
    "user_weekday.columns =  list(user_weekday.columns.values[:1]) + ['day' + str(col) for col in user_weekday.columns.values[1:]]\n",
    "user_weekday.head(3)"
   ]
  },
  {
   "cell_type": "markdown",
   "metadata": {},
   "source": [
    "------------------------------------------------------------------------------------------\n",
    "\n",
    "#### ! TO DO: **\n",
    "- create other user profile\n",
    "- merge user profile and user rating\n",
    "- create matrix \n",
    "\n",
    "------------------------------------------------------------------------------------------"
   ]
  },
  {
   "cell_type": "code",
   "execution_count": null,
   "metadata": {
    "collapsed": true
   },
   "outputs": [],
   "source": [
    "<FILL IN: CREATE USER PROFILE>"
   ]
  },
  {
   "cell_type": "code",
   "execution_count": null,
   "metadata": {
    "collapsed": true
   },
   "outputs": [],
   "source": [
    "df_train_userprofile = pd.merge(df_train_pivot.reset_index()\n",
    "                                , user_weekday\n",
    "                                , how='left'\n",
    "                                , on=['userCode'])\n",
    "df_train_userprofile.head(3)"
   ]
  },
  {
   "cell_type": "markdown",
   "metadata": {},
   "source": [
    "set \"userCode\" to be index for fast search and create matrix user-item matrix"
   ]
  },
  {
   "cell_type": "code",
   "execution_count": null,
   "metadata": {
    "collapsed": true
   },
   "outputs": [],
   "source": [
    "df_train_userprofile_indexed = <FILL IN>\n",
    "df_train_userprofile_matrix = <FILL IN>"
   ]
  },
  {
   "cell_type": "markdown",
   "metadata": {},
   "source": [
    "### Create function for items recommendation"
   ]
  },
  {
   "cell_type": "code",
   "execution_count": null,
   "metadata": {
    "collapsed": true
   },
   "outputs": [],
   "source": [
    "model = <FILL IN>\n",
    "model.fit(<FILL IN: user_item_matrix>)"
   ]
  },
  {
   "cell_type": "code",
   "execution_count": null,
   "metadata": {
    "collapsed": true
   },
   "outputs": [],
   "source": [
    "prodect_cols = df_train_pivot.columns\n",
    "\n",
    "def recommend_items(user_id, model, df_users, df_rating, items_to_ignore=[], prodect_cols=prodect_cols):\n",
    "    \n",
    "    distances, indices = <TO DO>\n",
    "    k_weight_rating = <TO DO>\n",
    "    \n",
    "    recommend_df = pd.DataFrame({\"project_id\":prodect_cols, \"k_weight_rating\": k_weight_rating})\n",
    "    recommend_df = recommend_df.<TO DO>\n",
    "    recommend_items = recommend_df['project_id'].values\n",
    "    recommendation_df = pd.DataFrame({\"userCode\": user_id, \"project_id\": recommend_items})\n",
    "    return recommendation_df, recommend_items"
   ]
  },
  {
   "cell_type": "code",
   "execution_count": null,
   "metadata": {
    "collapsed": true
   },
   "outputs": [],
   "source": [
    "user_id = '086cdc16-4635-50c1-8198-51e29d09798e'\n",
    "model = knn\n",
    "df_users = <TO DO> # dataframe to select user_id to calculate similarity\n",
    "df_rating = <TO DO> # matrix to calculate weight\n",
    "items_to_ignore = <TO DO>\n",
    "recommend_df, items = recommend_items(<TO DO>)"
   ]
  },
  {
   "cell_type": "markdown",
   "metadata": {},
   "source": [
    "### Transform data for submit to kaggle\n",
    "\n",
    "Format of dataframe for 'transform_to_kaggle' function, consist of 2 columns\n",
    "- userCode\n",
    "- project_id : order by sequence of recommendation (7 sequences)\n",
    "\n",
    "```\n",
    "|------------+--------------|\n",
    "|  userCode  |  project_id  |\n",
    "|------------+--------------|\n",
    "| user A     |      4       |\n",
    "| user A     |     21       |\n",
    "| user A     |     34       |\n",
    "|  ..        |     ..       |\n",
    "```"
   ]
  },
  {
   "cell_type": "code",
   "execution_count": null,
   "metadata": {
    "collapsed": true
   },
   "outputs": [],
   "source": [
    "def transform_to_kaggle(recommend_df):\n",
    "    \n",
    "    \"\"\"\n",
    "    Input:\n",
    "        - recommed_df: userCode and project_id\n",
    "    \n",
    "    Returns:\n",
    "        - recommed_df: \n",
    "    \"\"\"\n",
    "    testing_dataset = []\n",
    "    recommed_df_indexed = recommed_df.set_index('userCode')\n",
    "    \n",
    "    for idx, user_id in enumerate(list(recommed_df_indexed.index.unique().values)):\n",
    "        \n",
    "        interacted_testset = recommed_df_indexed[recommed_df_indexed.index == user_id]\n",
    "        rank_actual = list(interacted_testset['project_id'].values)\n",
    "\n",
    "        if len(rank_actual) > 0:\n",
    "            rank_actual_str = ' '.join(str(r) for r in rank_actual)\n",
    "            testing_dataset.append({\"userCode\": user_id\n",
    "                                   ,\"project_id\": rank_actual_str})\n",
    "            \n",
    "    testing_df = pd.DataFrame(testing_dataset)\n",
    "    testing_df = testing_df[['userCode', 'project_id']]\n",
    "    return testing_df"
   ]
  },
  {
   "cell_type": "code",
   "execution_count": null,
   "metadata": {
    "collapsed": true
   },
   "outputs": [],
   "source": [
    "submit_file = transform_to_kaggle(recommend_df)"
   ]
  }
 ],
 "metadata": {
  "kernelspec": {
   "display_name": "Python 3",
   "language": "python",
   "name": "python3"
  },
  "language_info": {
   "codemirror_mode": {
    "name": "ipython",
    "version": 3
   },
   "file_extension": ".py",
   "mimetype": "text/x-python",
   "name": "python",
   "nbconvert_exporter": "python",
   "pygments_lexer": "ipython3",
   "version": "3.6.3"
  }
 },
 "nbformat": 4,
 "nbformat_minor": 2
}
