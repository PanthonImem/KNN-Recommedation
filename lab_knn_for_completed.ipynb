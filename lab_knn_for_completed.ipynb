{
 "cells": [
  {
   "cell_type": "markdown",
   "metadata": {},
   "source": [
    "# Collaborative Filtering"
   ]
  },
  {
   "cell_type": "markdown",
   "metadata": {},
   "source": [
    "Concept of collaborative Filtering, predictions (filtering) about the interests of a user by collecting preferences or taste information from many users (collaborating).\n",
    "\n",
    "![alt text](https://upload.wikimedia.org/wikipedia/commons/thumb/5/52/Collaborative_filtering.gif/300px-Collaborative_filtering.gif)\n",
    "\n",
    "In this lab, we'll implement __knn__ for finding the nearest neighbors and predict rating for each project and user by using \"sklern\". We separate this lab to 3 parts\n",
    "- Data Preparation\n",
    "- Fiting Model\n",
    "- Prediction to recommend next projects\n",
    "\n",
    "Ref. https://en.wikipedia.org/wiki/Collaborative_filtering"
   ]
  },
  {
   "cell_type": "code",
   "execution_count": 1,
   "metadata": {
    "collapsed": true
   },
   "outputs": [],
   "source": [
    "# required library\n",
    "import pandas as pd\n",
    "import numpy as np\n",
    "import matplotlib.pyplot as plt\n",
    "import datetime"
   ]
  },
  {
   "cell_type": "code",
   "execution_count": 3,
   "metadata": {
    "scrolled": true
   },
   "outputs": [
    {
     "data": {
      "text/html": [
       "<div>\n",
       "<style>\n",
       "    .dataframe thead tr:only-child th {\n",
       "        text-align: right;\n",
       "    }\n",
       "\n",
       "    .dataframe thead th {\n",
       "        text-align: left;\n",
       "    }\n",
       "\n",
       "    .dataframe tbody tr th {\n",
       "        vertical-align: top;\n",
       "    }\n",
       "</style>\n",
       "<table border=\"1\" class=\"dataframe\">\n",
       "  <thead>\n",
       "    <tr style=\"text-align: right;\">\n",
       "      <th></th>\n",
       "      <th>userCode</th>\n",
       "      <th>project_id</th>\n",
       "      <th>requestedDevice</th>\n",
       "      <th>userAgent</th>\n",
       "      <th>pageReferrer</th>\n",
       "      <th>year</th>\n",
       "      <th>month</th>\n",
       "      <th>day</th>\n",
       "      <th>hour</th>\n",
       "    </tr>\n",
       "  </thead>\n",
       "  <tbody>\n",
       "    <tr>\n",
       "      <th>0</th>\n",
       "      <td>7717bdc2-ea3e-e8ad-5d6b-178bd71c38b2</td>\n",
       "      <td>7956</td>\n",
       "      <td>Mobile</td>\n",
       "      <td>Android</td>\n",
       "      <td>HomeWebsite</td>\n",
       "      <td>2018</td>\n",
       "      <td>1</td>\n",
       "      <td>1</td>\n",
       "      <td>0</td>\n",
       "    </tr>\n",
       "    <tr>\n",
       "      <th>1</th>\n",
       "      <td>7717bdc2-ea3e-e8ad-5d6b-178bd71c38b2</td>\n",
       "      <td>7956</td>\n",
       "      <td>Mobile</td>\n",
       "      <td>Android</td>\n",
       "      <td>HomeWebsite</td>\n",
       "      <td>2018</td>\n",
       "      <td>1</td>\n",
       "      <td>1</td>\n",
       "      <td>0</td>\n",
       "    </tr>\n",
       "    <tr>\n",
       "      <th>2</th>\n",
       "      <td>cb5b4b68-cc01-6db6-f54b-4a0f881301c5</td>\n",
       "      <td>5067</td>\n",
       "      <td>Mobile</td>\n",
       "      <td>iPhone</td>\n",
       "      <td>HomeWebsite</td>\n",
       "      <td>2018</td>\n",
       "      <td>1</td>\n",
       "      <td>1</td>\n",
       "      <td>0</td>\n",
       "    </tr>\n",
       "  </tbody>\n",
       "</table>\n",
       "</div>"
      ],
      "text/plain": [
       "                               userCode  project_id requestedDevice userAgent  \\\n",
       "0  7717bdc2-ea3e-e8ad-5d6b-178bd71c38b2        7956          Mobile   Android   \n",
       "1  7717bdc2-ea3e-e8ad-5d6b-178bd71c38b2        7956          Mobile   Android   \n",
       "2  cb5b4b68-cc01-6db6-f54b-4a0f881301c5        5067          Mobile    iPhone   \n",
       "\n",
       "  pageReferrer  year  month  day  hour  \n",
       "0  HomeWebsite  2018      1    1     0  \n",
       "1  HomeWebsite  2018      1    1     0  \n",
       "2  HomeWebsite  2018      1    1     0  "
      ]
     },
     "execution_count": 3,
     "metadata": {},
     "output_type": "execute_result"
    }
   ],
   "source": [
    "path = ''\n",
    "df = pd.read_csv(path+'userLog_201801_201802_for_participants.csv', delimiter = ';', error_bad_lines = False, low_memory = False)\n",
    "df.head(3)"
   ]
  },
  {
   "cell_type": "code",
   "execution_count": 4,
   "metadata": {},
   "outputs": [
    {
     "data": {
      "text/html": [
       "<div>\n",
       "<style>\n",
       "    .dataframe thead tr:only-child th {\n",
       "        text-align: right;\n",
       "    }\n",
       "\n",
       "    .dataframe thead th {\n",
       "        text-align: left;\n",
       "    }\n",
       "\n",
       "    .dataframe tbody tr th {\n",
       "        vertical-align: top;\n",
       "    }\n",
       "</style>\n",
       "<table border=\"1\" class=\"dataframe\">\n",
       "  <thead>\n",
       "    <tr style=\"text-align: right;\">\n",
       "      <th></th>\n",
       "      <th>userCode</th>\n",
       "      <th>project_id</th>\n",
       "      <th>requestedDevice</th>\n",
       "      <th>userAgent</th>\n",
       "      <th>pageReferrer</th>\n",
       "      <th>year</th>\n",
       "      <th>month</th>\n",
       "      <th>day</th>\n",
       "      <th>hour</th>\n",
       "    </tr>\n",
       "  </thead>\n",
       "  <tbody>\n",
       "    <tr>\n",
       "      <th>77</th>\n",
       "      <td>3f0b3f64-468d-8411-efee-debb3facd532</td>\n",
       "      <td>8771</td>\n",
       "      <td>Desktop</td>\n",
       "      <td>Other_OS</td>\n",
       "      <td>Google</td>\n",
       "      <td>2018</td>\n",
       "      <td>1</td>\n",
       "      <td>1</td>\n",
       "      <td>0</td>\n",
       "    </tr>\n",
       "    <tr>\n",
       "      <th>101</th>\n",
       "      <td>6ca88f4c-0f1b-7b96-4c5b-ad3966dff12f</td>\n",
       "      <td>8439</td>\n",
       "      <td>Mobile</td>\n",
       "      <td>Android</td>\n",
       "      <td>HomeWebsite</td>\n",
       "      <td>2018</td>\n",
       "      <td>1</td>\n",
       "      <td>1</td>\n",
       "      <td>0</td>\n",
       "    </tr>\n",
       "    <tr>\n",
       "      <th>105</th>\n",
       "      <td>6ca88f4c-0f1b-7b96-4c5b-ad3966dff12f</td>\n",
       "      <td>8439</td>\n",
       "      <td>Mobile</td>\n",
       "      <td>Android</td>\n",
       "      <td>HomeWebsite</td>\n",
       "      <td>2018</td>\n",
       "      <td>1</td>\n",
       "      <td>1</td>\n",
       "      <td>0</td>\n",
       "    </tr>\n",
       "  </tbody>\n",
       "</table>\n",
       "</div>"
      ],
      "text/plain": [
       "                                 userCode  project_id requestedDevice  \\\n",
       "77   3f0b3f64-468d-8411-efee-debb3facd532        8771         Desktop   \n",
       "101  6ca88f4c-0f1b-7b96-4c5b-ad3966dff12f        8439          Mobile   \n",
       "105  6ca88f4c-0f1b-7b96-4c5b-ad3966dff12f        8439          Mobile   \n",
       "\n",
       "    userAgent pageReferrer  year  month  day  hour  \n",
       "77   Other_OS       Google  2018      1    1     0  \n",
       "101   Android  HomeWebsite  2018      1    1     0  \n",
       "105   Android  HomeWebsite  2018      1    1     0  "
      ]
     },
     "execution_count": 4,
     "metadata": {},
     "output_type": "execute_result"
    }
   ],
   "source": [
    "# Creat a small dataset for this workshop by randomly selecting n users.\n",
    "random_state = 100\n",
    "sample_users = set(df['userCode'].sample(n=10000, random_state=random_state))\n",
    "sample_data = df[df['userCode'].isin(sample_users)]\n",
    "sample_data.head(3)"
   ]
  },
  {
   "cell_type": "markdown",
   "metadata": {},
   "source": [
    "### - Data Cleaning and Transformation"
   ]
  },
  {
   "cell_type": "markdown",
   "metadata": {},
   "source": [
    "Create visited datetime ?"
   ]
  },
  {
   "cell_type": "code",
   "execution_count": 5,
   "metadata": {},
   "outputs": [
    {
     "name": "stderr",
     "output_type": "stream",
     "text": [
      "C:\\ProgramData\\Anaconda3\\lib\\site-packages\\ipykernel_launcher.py:1: SettingWithCopyWarning: \n",
      "A value is trying to be set on a copy of a slice from a DataFrame.\n",
      "Try using .loc[row_indexer,col_indexer] = value instead\n",
      "\n",
      "See the caveats in the documentation: http://pandas.pydata.org/pandas-docs/stable/indexing.html#indexing-view-versus-copy\n",
      "  \"\"\"Entry point for launching an IPython kernel.\n",
      "C:\\ProgramData\\Anaconda3\\lib\\site-packages\\ipykernel_launcher.py:2: SettingWithCopyWarning: \n",
      "A value is trying to be set on a copy of a slice from a DataFrame.\n",
      "Try using .loc[row_indexer,col_indexer] = value instead\n",
      "\n",
      "See the caveats in the documentation: http://pandas.pydata.org/pandas-docs/stable/indexing.html#indexing-view-versus-copy\n",
      "  \n",
      "C:\\ProgramData\\Anaconda3\\lib\\site-packages\\ipykernel_launcher.py:3: SettingWithCopyWarning: \n",
      "A value is trying to be set on a copy of a slice from a DataFrame.\n",
      "Try using .loc[row_indexer,col_indexer] = value instead\n",
      "\n",
      "See the caveats in the documentation: http://pandas.pydata.org/pandas-docs/stable/indexing.html#indexing-view-versus-copy\n",
      "  This is separate from the ipykernel package so we can avoid doing imports until\n"
     ]
    },
    {
     "data": {
      "text/html": [
       "<div>\n",
       "<style>\n",
       "    .dataframe thead tr:only-child th {\n",
       "        text-align: right;\n",
       "    }\n",
       "\n",
       "    .dataframe thead th {\n",
       "        text-align: left;\n",
       "    }\n",
       "\n",
       "    .dataframe tbody tr th {\n",
       "        vertical-align: top;\n",
       "    }\n",
       "</style>\n",
       "<table border=\"1\" class=\"dataframe\">\n",
       "  <thead>\n",
       "    <tr style=\"text-align: right;\">\n",
       "      <th></th>\n",
       "      <th>userCode</th>\n",
       "      <th>project_id</th>\n",
       "      <th>requestedDevice</th>\n",
       "      <th>userAgent</th>\n",
       "      <th>pageReferrer</th>\n",
       "      <th>year</th>\n",
       "      <th>month</th>\n",
       "      <th>day</th>\n",
       "      <th>hour</th>\n",
       "      <th>datetime</th>\n",
       "      <th>date</th>\n",
       "      <th>yearmonth</th>\n",
       "    </tr>\n",
       "  </thead>\n",
       "  <tbody>\n",
       "    <tr>\n",
       "      <th>77</th>\n",
       "      <td>3f0b3f64-468d-8411-efee-debb3facd532</td>\n",
       "      <td>8771</td>\n",
       "      <td>Desktop</td>\n",
       "      <td>Other_OS</td>\n",
       "      <td>Google</td>\n",
       "      <td>2018</td>\n",
       "      <td>1</td>\n",
       "      <td>1</td>\n",
       "      <td>0</td>\n",
       "      <td>2018-01-01</td>\n",
       "      <td>2018-01-01</td>\n",
       "      <td>2018-01</td>\n",
       "    </tr>\n",
       "    <tr>\n",
       "      <th>101</th>\n",
       "      <td>6ca88f4c-0f1b-7b96-4c5b-ad3966dff12f</td>\n",
       "      <td>8439</td>\n",
       "      <td>Mobile</td>\n",
       "      <td>Android</td>\n",
       "      <td>HomeWebsite</td>\n",
       "      <td>2018</td>\n",
       "      <td>1</td>\n",
       "      <td>1</td>\n",
       "      <td>0</td>\n",
       "      <td>2018-01-01</td>\n",
       "      <td>2018-01-01</td>\n",
       "      <td>2018-01</td>\n",
       "    </tr>\n",
       "    <tr>\n",
       "      <th>105</th>\n",
       "      <td>6ca88f4c-0f1b-7b96-4c5b-ad3966dff12f</td>\n",
       "      <td>8439</td>\n",
       "      <td>Mobile</td>\n",
       "      <td>Android</td>\n",
       "      <td>HomeWebsite</td>\n",
       "      <td>2018</td>\n",
       "      <td>1</td>\n",
       "      <td>1</td>\n",
       "      <td>0</td>\n",
       "      <td>2018-01-01</td>\n",
       "      <td>2018-01-01</td>\n",
       "      <td>2018-01</td>\n",
       "    </tr>\n",
       "  </tbody>\n",
       "</table>\n",
       "</div>"
      ],
      "text/plain": [
       "                                 userCode  project_id requestedDevice  \\\n",
       "77   3f0b3f64-468d-8411-efee-debb3facd532        8771         Desktop   \n",
       "101  6ca88f4c-0f1b-7b96-4c5b-ad3966dff12f        8439          Mobile   \n",
       "105  6ca88f4c-0f1b-7b96-4c5b-ad3966dff12f        8439          Mobile   \n",
       "\n",
       "    userAgent pageReferrer  year  month  day  hour   datetime        date  \\\n",
       "77   Other_OS       Google  2018      1    1     0 2018-01-01  2018-01-01   \n",
       "101   Android  HomeWebsite  2018      1    1     0 2018-01-01  2018-01-01   \n",
       "105   Android  HomeWebsite  2018      1    1     0 2018-01-01  2018-01-01   \n",
       "\n",
       "    yearmonth  \n",
       "77    2018-01  \n",
       "101   2018-01  \n",
       "105   2018-01  "
      ]
     },
     "execution_count": 5,
     "metadata": {},
     "output_type": "execute_result"
    }
   ],
   "source": [
    "sample_data['datetime'] = sample_data.apply(lambda row : datetime.datetime(row['year'], row['month'], row['day'], row['hour']), axis=1)\n",
    "sample_data['date'] = sample_data['datetime'].map(lambda x : x.date())\n",
    "sample_data['yearmonth'] = sample_data['date'].map(lambda x: str(x.year) +'-'+ str(x.month).zfill(2))\n",
    "sample_data.head(3)"
   ]
  },
  {
   "cell_type": "markdown",
   "metadata": {},
   "source": [
    "Clean data: \n",
    "- remove the projects that have less than 30 users.\n",
    "There are other methods to clean the data, sometimes depending on your model."
   ]
  },
  {
   "cell_type": "code",
   "execution_count": 6,
   "metadata": {},
   "outputs": [
    {
     "name": "stdout",
     "output_type": "stream",
     "text": [
      "1288\n"
     ]
    },
    {
     "data": {
      "text/html": [
       "<div>\n",
       "<style>\n",
       "    .dataframe thead tr:only-child th {\n",
       "        text-align: right;\n",
       "    }\n",
       "\n",
       "    .dataframe thead th {\n",
       "        text-align: left;\n",
       "    }\n",
       "\n",
       "    .dataframe tbody tr th {\n",
       "        vertical-align: top;\n",
       "    }\n",
       "</style>\n",
       "<table border=\"1\" class=\"dataframe\">\n",
       "  <thead>\n",
       "    <tr style=\"text-align: right;\">\n",
       "      <th></th>\n",
       "      <th>userCode</th>\n",
       "      <th>project_id</th>\n",
       "      <th>requestedDevice</th>\n",
       "      <th>userAgent</th>\n",
       "      <th>pageReferrer</th>\n",
       "      <th>year</th>\n",
       "      <th>month</th>\n",
       "      <th>day</th>\n",
       "      <th>hour</th>\n",
       "      <th>datetime</th>\n",
       "      <th>date</th>\n",
       "      <th>yearmonth</th>\n",
       "    </tr>\n",
       "  </thead>\n",
       "  <tbody>\n",
       "    <tr>\n",
       "      <th>77</th>\n",
       "      <td>3f0b3f64-468d-8411-efee-debb3facd532</td>\n",
       "      <td>8771</td>\n",
       "      <td>Desktop</td>\n",
       "      <td>Other_OS</td>\n",
       "      <td>Google</td>\n",
       "      <td>2018</td>\n",
       "      <td>1</td>\n",
       "      <td>1</td>\n",
       "      <td>0</td>\n",
       "      <td>2018-01-01 00:00:00</td>\n",
       "      <td>2018-01-01</td>\n",
       "      <td>2018-01</td>\n",
       "    </tr>\n",
       "    <tr>\n",
       "      <th>334</th>\n",
       "      <td>16cde5e8-98ff-6be6-5f60-82bb6681673d</td>\n",
       "      <td>2096</td>\n",
       "      <td>Mobile</td>\n",
       "      <td>Android</td>\n",
       "      <td>HomeWebsite</td>\n",
       "      <td>2018</td>\n",
       "      <td>1</td>\n",
       "      <td>1</td>\n",
       "      <td>1</td>\n",
       "      <td>2018-01-01 01:00:00</td>\n",
       "      <td>2018-01-01</td>\n",
       "      <td>2018-01</td>\n",
       "    </tr>\n",
       "    <tr>\n",
       "      <th>338</th>\n",
       "      <td>16cde5e8-98ff-6be6-5f60-82bb6681673d</td>\n",
       "      <td>2096</td>\n",
       "      <td>Mobile</td>\n",
       "      <td>Android</td>\n",
       "      <td>HomeWebsite</td>\n",
       "      <td>2018</td>\n",
       "      <td>1</td>\n",
       "      <td>1</td>\n",
       "      <td>1</td>\n",
       "      <td>2018-01-01 01:00:00</td>\n",
       "      <td>2018-01-01</td>\n",
       "      <td>2018-01</td>\n",
       "    </tr>\n",
       "  </tbody>\n",
       "</table>\n",
       "</div>"
      ],
      "text/plain": [
       "                                 userCode  project_id requestedDevice  \\\n",
       "77   3f0b3f64-468d-8411-efee-debb3facd532        8771         Desktop   \n",
       "334  16cde5e8-98ff-6be6-5f60-82bb6681673d        2096          Mobile   \n",
       "338  16cde5e8-98ff-6be6-5f60-82bb6681673d        2096          Mobile   \n",
       "\n",
       "    userAgent pageReferrer  year  month  day  hour            datetime  \\\n",
       "77   Other_OS       Google  2018      1    1     0 2018-01-01 00:00:00   \n",
       "334   Android  HomeWebsite  2018      1    1     1 2018-01-01 01:00:00   \n",
       "338   Android  HomeWebsite  2018      1    1     1 2018-01-01 01:00:00   \n",
       "\n",
       "           date yearmonth  \n",
       "77   2018-01-01   2018-01  \n",
       "334  2018-01-01   2018-01  \n",
       "338  2018-01-01   2018-01  "
      ]
     },
     "execution_count": 6,
     "metadata": {},
     "output_type": "execute_result"
    }
   ],
   "source": [
    "min_interacted = 30\n",
    "project_count = sample_data.groupby(['project_id']).size()\n",
    "ignore_project = set(project_count[project_count > min_interacted].index)\n",
    "print(len(ignore_project))\n",
    "\n",
    "df_filter = sample_data[~sample_data['project_id'].isin(ignore_project)]\n",
    "df_filter.head(3)"
   ]
  },
  {
   "cell_type": "code",
   "execution_count": null,
   "metadata": {
    "collapsed": true
   },
   "outputs": [],
   "source": [
    "# optional, you can clean data by yourself. For example, you can remove users who have viewed less than x projects here.\n",
    "df_filter = <FILL IN>"
   ]
  },
  {
   "cell_type": "markdown",
   "metadata": {},
   "source": [
    "### - Split training-testing dataset\n",
    "In this example, we use a date to split the data into train and test set."
   ]
  },
  {
   "cell_type": "code",
   "execution_count": 7,
   "metadata": {
    "collapsed": true
   },
   "outputs": [],
   "source": [
    "def SplitTrainTest(df, date):\n",
    "    \n",
    "    df['interacted'] = 1\n",
    "    df_train = df[df.date <  date]\n",
    "    df_test = df[df.date >=  date].sort_values(by = ['userCode', 'datetime'])\n",
    "    \n",
    "    # projects which are in training datasets\n",
    "    project_train = set(df_train['project_id'].values)\n",
    "    df_test = df_test[df_test['project_id'].isin(project_train)]\n",
    "    \n",
    "    # users which are in training datasets\n",
    "    user_train = set(df_train['userCode'].values)\n",
    "    df_test = df_test[df_test['userCode'].isin(user_train)]\n",
    "    \n",
    "    print('# of train dataset:', len(df_train))\n",
    "    print('# of test dataset:', len(df_test))\n",
    "\n",
    "    return df_train, df_test"
   ]
  },
  {
   "cell_type": "code",
   "execution_count": 8,
   "metadata": {},
   "outputs": [
    {
     "name": "stdout",
     "output_type": "stream",
     "text": [
      "# of train dataset: 39970\n",
      "# of test dataset: 2461\n"
     ]
    },
    {
     "name": "stderr",
     "output_type": "stream",
     "text": [
      "C:\\ProgramData\\Anaconda3\\lib\\site-packages\\ipykernel_launcher.py:3: SettingWithCopyWarning: \n",
      "A value is trying to be set on a copy of a slice from a DataFrame.\n",
      "Try using .loc[row_indexer,col_indexer] = value instead\n",
      "\n",
      "See the caveats in the documentation: http://pandas.pydata.org/pandas-docs/stable/indexing.html#indexing-view-versus-copy\n",
      "  This is separate from the ipykernel package so we can avoid doing imports until\n"
     ]
    }
   ],
   "source": [
    "date_ = datetime.date(2018, 2, 20)\n",
    "df_train, df_test_full = SplitTrainTest(df_filter, date = date_)"
   ]
  },
  {
   "cell_type": "code",
   "execution_count": 9,
   "metadata": {
    "scrolled": true
   },
   "outputs": [
    {
     "data": {
      "text/html": [
       "<div>\n",
       "<style>\n",
       "    .dataframe thead tr:only-child th {\n",
       "        text-align: right;\n",
       "    }\n",
       "\n",
       "    .dataframe thead th {\n",
       "        text-align: left;\n",
       "    }\n",
       "\n",
       "    .dataframe tbody tr th {\n",
       "        vertical-align: top;\n",
       "    }\n",
       "</style>\n",
       "<table border=\"1\" class=\"dataframe\">\n",
       "  <thead>\n",
       "    <tr style=\"text-align: right;\">\n",
       "      <th></th>\n",
       "      <th>project_id</th>\n",
       "      <th>interacted</th>\n",
       "    </tr>\n",
       "    <tr>\n",
       "      <th>userCode</th>\n",
       "      <th></th>\n",
       "      <th></th>\n",
       "    </tr>\n",
       "  </thead>\n",
       "  <tbody>\n",
       "    <tr>\n",
       "      <th>01609e98-4aa1-40a6-cb62-5cfa8478f7e4</th>\n",
       "      <td>5883</td>\n",
       "      <td>1</td>\n",
       "    </tr>\n",
       "    <tr>\n",
       "      <th>02cae1e4-f73f-958e-03cd-3ca3b04b451d</th>\n",
       "      <td>7409</td>\n",
       "      <td>1</td>\n",
       "    </tr>\n",
       "    <tr>\n",
       "      <th>0383072a-6827-1246-6490-39fc4d46bcdd</th>\n",
       "      <td>6824</td>\n",
       "      <td>1</td>\n",
       "    </tr>\n",
       "  </tbody>\n",
       "</table>\n",
       "</div>"
      ],
      "text/plain": [
       "                                      project_id  interacted\n",
       "userCode                                                    \n",
       "01609e98-4aa1-40a6-cb62-5cfa8478f7e4        5883           1\n",
       "02cae1e4-f73f-958e-03cd-3ca3b04b451d        7409           1\n",
       "0383072a-6827-1246-6490-39fc4d46bcdd        6824           1"
      ]
     },
     "execution_count": 9,
     "metadata": {},
     "output_type": "execute_result"
    }
   ],
   "source": [
    "# Set 'userCode' as an index for convinience.\n",
    "df_test_indexed = df_test_full[['userCode', 'project_id', 'interacted']].drop_duplicates().set_index('userCode')\n",
    "df_test_indexed.head(3)"
   ]
  },
  {
   "cell_type": "markdown",
   "metadata": {},
   "source": [
    "## Data Preparation\n",
    "In this part, we'll create user-item matrix for calculating similarity between each pair of users. \n",
    "As a simple case, let's create a binary user-item matrix where 1 indicates there is an interaction (view) and 0 otherwise.\n",
    "You can define the interaction values differently. Here are some examples:\n",
    "- rating (no. of views) matrix\n",
    "- rating (no. of views) + user profile matrix.\n",
    "You can try the above options later in the workshop."
   ]
  },
  {
   "cell_type": "markdown",
   "metadata": {},
   "source": [
    "### - Case 1: 0/1 matrix\n",
    "This part we'll prepare interacted data to identify interacted projects for each users. We need data like below format.\n",
    "```\n",
    "|------------+---+---+---+----+---|\n",
    "| project_id | 1 | 2 | 3 | .. | j |\n",
    "| userCode   |   |   |   |    |   |\n",
    "|------------+---+---+---+----+---|\n",
    "| user A     | 1 | 0 | 0 | .. | 1 |\n",
    "| user B     | 0 | 1 | 0 | .. | 1 |\n",
    "| user C     | 0 | 0 | 1 | .. | 0 |\n",
    "|  ..        | . | . | . | .. | . |\n",
    "|------------+---+---+---+----+---|\n",
    "\n",
    "```\n",
    "\n",
    "- 1 means that user interacted that project\n",
    "- 0 means that user didn't interact that project"
   ]
  },
  {
   "cell_type": "code",
   "execution_count": 10,
   "metadata": {},
   "outputs": [
    {
     "data": {
      "text/html": [
       "<div>\n",
       "<style>\n",
       "    .dataframe thead tr:only-child th {\n",
       "        text-align: right;\n",
       "    }\n",
       "\n",
       "    .dataframe thead th {\n",
       "        text-align: left;\n",
       "    }\n",
       "\n",
       "    .dataframe tbody tr th {\n",
       "        vertical-align: top;\n",
       "    }\n",
       "</style>\n",
       "<table border=\"1\" class=\"dataframe\">\n",
       "  <thead>\n",
       "    <tr style=\"text-align: right;\">\n",
       "      <th>project_id</th>\n",
       "      <th>24</th>\n",
       "      <th>29</th>\n",
       "      <th>41</th>\n",
       "      <th>45</th>\n",
       "      <th>133</th>\n",
       "      <th>141</th>\n",
       "      <th>156</th>\n",
       "      <th>157</th>\n",
       "      <th>161</th>\n",
       "      <th>189</th>\n",
       "      <th>...</th>\n",
       "      <th>9458</th>\n",
       "      <th>9459</th>\n",
       "      <th>9460</th>\n",
       "      <th>9461</th>\n",
       "      <th>9469</th>\n",
       "      <th>9471</th>\n",
       "      <th>9474</th>\n",
       "      <th>9477</th>\n",
       "      <th>9478</th>\n",
       "      <th>9484</th>\n",
       "    </tr>\n",
       "    <tr>\n",
       "      <th>userCode</th>\n",
       "      <th></th>\n",
       "      <th></th>\n",
       "      <th></th>\n",
       "      <th></th>\n",
       "      <th></th>\n",
       "      <th></th>\n",
       "      <th></th>\n",
       "      <th></th>\n",
       "      <th></th>\n",
       "      <th></th>\n",
       "      <th></th>\n",
       "      <th></th>\n",
       "      <th></th>\n",
       "      <th></th>\n",
       "      <th></th>\n",
       "      <th></th>\n",
       "      <th></th>\n",
       "      <th></th>\n",
       "      <th></th>\n",
       "      <th></th>\n",
       "      <th></th>\n",
       "    </tr>\n",
       "  </thead>\n",
       "  <tbody>\n",
       "    <tr>\n",
       "      <th>00051896-b6d5-27b2-1590-6445018f084b</th>\n",
       "      <td>0.0</td>\n",
       "      <td>0.0</td>\n",
       "      <td>0.0</td>\n",
       "      <td>0.0</td>\n",
       "      <td>0.0</td>\n",
       "      <td>0.0</td>\n",
       "      <td>0.0</td>\n",
       "      <td>0.0</td>\n",
       "      <td>0.0</td>\n",
       "      <td>0.0</td>\n",
       "      <td>...</td>\n",
       "      <td>0.0</td>\n",
       "      <td>0.0</td>\n",
       "      <td>0.0</td>\n",
       "      <td>0.0</td>\n",
       "      <td>0.0</td>\n",
       "      <td>0.0</td>\n",
       "      <td>0.0</td>\n",
       "      <td>0.0</td>\n",
       "      <td>0.0</td>\n",
       "      <td>0.0</td>\n",
       "    </tr>\n",
       "    <tr>\n",
       "      <th>0009bd21-7539-62ff-f653-a6f6bac25380</th>\n",
       "      <td>0.0</td>\n",
       "      <td>0.0</td>\n",
       "      <td>0.0</td>\n",
       "      <td>0.0</td>\n",
       "      <td>0.0</td>\n",
       "      <td>0.0</td>\n",
       "      <td>0.0</td>\n",
       "      <td>0.0</td>\n",
       "      <td>0.0</td>\n",
       "      <td>0.0</td>\n",
       "      <td>...</td>\n",
       "      <td>0.0</td>\n",
       "      <td>0.0</td>\n",
       "      <td>0.0</td>\n",
       "      <td>0.0</td>\n",
       "      <td>0.0</td>\n",
       "      <td>0.0</td>\n",
       "      <td>0.0</td>\n",
       "      <td>0.0</td>\n",
       "      <td>0.0</td>\n",
       "      <td>0.0</td>\n",
       "    </tr>\n",
       "    <tr>\n",
       "      <th>0014f96a-b816-5b96-af31-e7268b46061d</th>\n",
       "      <td>0.0</td>\n",
       "      <td>0.0</td>\n",
       "      <td>0.0</td>\n",
       "      <td>0.0</td>\n",
       "      <td>0.0</td>\n",
       "      <td>0.0</td>\n",
       "      <td>0.0</td>\n",
       "      <td>0.0</td>\n",
       "      <td>0.0</td>\n",
       "      <td>0.0</td>\n",
       "      <td>...</td>\n",
       "      <td>0.0</td>\n",
       "      <td>0.0</td>\n",
       "      <td>0.0</td>\n",
       "      <td>0.0</td>\n",
       "      <td>0.0</td>\n",
       "      <td>0.0</td>\n",
       "      <td>0.0</td>\n",
       "      <td>0.0</td>\n",
       "      <td>0.0</td>\n",
       "      <td>0.0</td>\n",
       "    </tr>\n",
       "  </tbody>\n",
       "</table>\n",
       "<p>3 rows × 3853 columns</p>\n",
       "</div>"
      ],
      "text/plain": [
       "project_id                            24    29    41    45    133   141   \\\n",
       "userCode                                                                   \n",
       "00051896-b6d5-27b2-1590-6445018f084b   0.0   0.0   0.0   0.0   0.0   0.0   \n",
       "0009bd21-7539-62ff-f653-a6f6bac25380   0.0   0.0   0.0   0.0   0.0   0.0   \n",
       "0014f96a-b816-5b96-af31-e7268b46061d   0.0   0.0   0.0   0.0   0.0   0.0   \n",
       "\n",
       "project_id                            156   157   161   189   ...   9458  \\\n",
       "userCode                                                      ...          \n",
       "00051896-b6d5-27b2-1590-6445018f084b   0.0   0.0   0.0   0.0  ...    0.0   \n",
       "0009bd21-7539-62ff-f653-a6f6bac25380   0.0   0.0   0.0   0.0  ...    0.0   \n",
       "0014f96a-b816-5b96-af31-e7268b46061d   0.0   0.0   0.0   0.0  ...    0.0   \n",
       "\n",
       "project_id                            9459  9460  9461  9469  9471  9474  \\\n",
       "userCode                                                                   \n",
       "00051896-b6d5-27b2-1590-6445018f084b   0.0   0.0   0.0   0.0   0.0   0.0   \n",
       "0009bd21-7539-62ff-f653-a6f6bac25380   0.0   0.0   0.0   0.0   0.0   0.0   \n",
       "0014f96a-b816-5b96-af31-e7268b46061d   0.0   0.0   0.0   0.0   0.0   0.0   \n",
       "\n",
       "project_id                            9477  9478  9484  \n",
       "userCode                                                \n",
       "00051896-b6d5-27b2-1590-6445018f084b   0.0   0.0   0.0  \n",
       "0009bd21-7539-62ff-f653-a6f6bac25380   0.0   0.0   0.0  \n",
       "0014f96a-b816-5b96-af31-e7268b46061d   0.0   0.0   0.0  \n",
       "\n",
       "[3 rows x 3853 columns]"
      ]
     },
     "execution_count": 10,
     "metadata": {},
     "output_type": "execute_result"
    }
   ],
   "source": [
    "# Convert the dataframe into a matrix using pivot() and set index of df_train for fast search \n",
    "df_train_indexed = df_train[['userCode', 'project_id', 'interacted']].drop_duplicates()\n",
    "df_train_pivot = (df_train_indexed.pivot(index = 'userCode', columns = 'project_id', values = 'interacted')\n",
    "                                  .fillna(0))\n",
    "df_train_pivot.head(3)"
   ]
  },
  {
   "cell_type": "code",
   "execution_count": 11,
   "metadata": {},
   "outputs": [
    {
     "data": {
      "text/plain": [
       "(4566, 3853)"
      ]
     },
     "execution_count": 11,
     "metadata": {},
     "output_type": "execute_result"
    }
   ],
   "source": [
    "df_train_matrix = df_train_pivot.values\n",
    "df_train_matrix.shape"
   ]
  },
  {
   "cell_type": "code",
   "execution_count": 12,
   "metadata": {},
   "outputs": [
    {
     "data": {
      "text/html": [
       "<div>\n",
       "<style>\n",
       "    .dataframe thead tr:only-child th {\n",
       "        text-align: right;\n",
       "    }\n",
       "\n",
       "    .dataframe thead th {\n",
       "        text-align: left;\n",
       "    }\n",
       "\n",
       "    .dataframe tbody tr th {\n",
       "        vertical-align: top;\n",
       "    }\n",
       "</style>\n",
       "<table border=\"1\" class=\"dataframe\">\n",
       "  <thead>\n",
       "    <tr style=\"text-align: right;\">\n",
       "      <th></th>\n",
       "      <th>project_id</th>\n",
       "      <th>interacted</th>\n",
       "    </tr>\n",
       "    <tr>\n",
       "      <th>userCode</th>\n",
       "      <th></th>\n",
       "      <th></th>\n",
       "    </tr>\n",
       "  </thead>\n",
       "  <tbody>\n",
       "    <tr>\n",
       "      <th>3f0b3f64-468d-8411-efee-debb3facd532</th>\n",
       "      <td>8771</td>\n",
       "      <td>1</td>\n",
       "    </tr>\n",
       "    <tr>\n",
       "      <th>16cde5e8-98ff-6be6-5f60-82bb6681673d</th>\n",
       "      <td>2096</td>\n",
       "      <td>1</td>\n",
       "    </tr>\n",
       "    <tr>\n",
       "      <th>9d96b60e-0d17-2db4-4146-bb334c92e8ab</th>\n",
       "      <td>4449</td>\n",
       "      <td>1</td>\n",
       "    </tr>\n",
       "  </tbody>\n",
       "</table>\n",
       "</div>"
      ],
      "text/plain": [
       "                                      project_id  interacted\n",
       "userCode                                                    \n",
       "3f0b3f64-468d-8411-efee-debb3facd532        8771           1\n",
       "16cde5e8-98ff-6be6-5f60-82bb6681673d        2096           1\n",
       "9d96b60e-0d17-2db4-4146-bb334c92e8ab        4449           1"
      ]
     },
     "execution_count": 12,
     "metadata": {},
     "output_type": "execute_result"
    }
   ],
   "source": [
    "df_train_indexed = df_train_indexed.set_index('userCode')\n",
    "df_train_indexed.head(3)"
   ]
  },
  {
   "cell_type": "markdown",
   "metadata": {},
   "source": [
    "## Implementing KNN for recommender system\n",
    "In this part, we use sklearn for running a knn algorithm. For more infomation, http://scikit-learn.org/stable/modules/generated/sklearn.neighbors.KNeighborsClassifier.html"
   ]
  },
  {
   "cell_type": "markdown",
   "metadata": {},
   "source": [
    "### - Fitting model"
   ]
  },
  {
   "cell_type": "code",
   "execution_count": 13,
   "metadata": {
    "collapsed": true
   },
   "outputs": [],
   "source": [
    "# import the library for building a knn model\n",
    "from sklearn.neighbors import NearestNeighbors"
   ]
  },
  {
   "cell_type": "markdown",
   "metadata": {},
   "source": [
    "------------------------------------------------------------------------------------------\n",
    "#### Now let's use NearestNeighbor based models in sklearn to fit our data **\n",
    "\n",
    "For more infomation, http://scikit-learn.org/stable/modules/generated/sklearn.neighbors.KNeighborsClassifier.html\n",
    "\n",
    "------------------------------------------------------------------------------------------"
   ]
  },
  {
   "cell_type": "code",
   "execution_count": 179,
   "metadata": {
    "collapsed": true
   },
   "outputs": [],
   "source": [
    "n_neighbors = 30 # you can define number of neighbors here.\n",
    "metric = 'jaccard' # you can change to other metric for calculate similarity here."
   ]
  },
  {
   "cell_type": "code",
   "execution_count": 180,
   "metadata": {
    "collapsed": true
   },
   "outputs": [],
   "source": [
    "# Build the model\n",
    "knn = NearestNeighbors(metric = metric\n",
    "                        , algorithm = 'brute'\n",
    "                        ,  n_neighbors = n_neighbors)"
   ]
  },
  {
   "cell_type": "code",
   "execution_count": 181,
   "metadata": {},
   "outputs": [
    {
     "data": {
      "text/plain": [
       "NearestNeighbors(algorithm='brute', leaf_size=30, metric='jaccard',\n",
       "         metric_params=None, n_jobs=1, n_neighbors=30, p=2, radius=1.0)"
      ]
     },
     "execution_count": 181,
     "metadata": {},
     "output_type": "execute_result"
    }
   ],
   "source": [
    "knn.fit(df_train_matrix)"
   ]
  },
  {
   "cell_type": "markdown",
   "metadata": {},
   "source": [
    "### - Finding k nearest neighbors and get their ratings of each project\n",
    "- __Input:__ user_id\n",
    "- __Output:__ distance and indices of k nearest neighbors"
   ]
  },
  {
   "cell_type": "code",
   "execution_count": 182,
   "metadata": {
    "collapsed": true
   },
   "outputs": [],
   "source": [
    "user_id = '435f1a34-21ca-d605-0968-cb1b5b3f9aeb'"
   ]
  },
  {
   "cell_type": "code",
   "execution_count": 183,
   "metadata": {
    "scrolled": true
   },
   "outputs": [
    {
     "name": "stderr",
     "output_type": "stream",
     "text": [
      "C:\\ProgramData\\Anaconda3\\lib\\site-packages\\sklearn\\utils\\validation.py:475: DataConversionWarning: Data with input dtype float64 was converted to bool by check_pairwise_arrays.\n",
      "  warnings.warn(msg, DataConversionWarning)\n"
     ]
    },
    {
     "name": "stdout",
     "output_type": "stream",
     "text": [
      "distance: [[ 0.          0.          0.5         0.5         0.66666667  0.8\n",
      "   0.83333333  0.875       0.95238095  0.99354839  0.9984252   1.          1.\n",
      "   1.          1.          1.          1.          1.          1.          1.\n",
      "   1.          1.          1.          1.          1.          1.          1.\n",
      "   1.          1.          1.        ]]\n",
      "indices: [[3441 1220 3405 2620 4472  997 1663 2175 2402  858 2759 3047 3060 3045\n",
      "  3044 3064 3055 3056 3057 3041 3042 3053 3040 3039 3065 3038 3048 3046\n",
      "  3043 3058]]\n"
     ]
    }
   ],
   "source": [
    "distances, indices = knn.kneighbors(df_train_pivot[df_train_pivot.index == user_id].iloc[0].values.reshape(1, -1)\n",
    "                                     , n_neighbors = n_neighbors)\n",
    "print('distance:', distances)\n",
    "print('indices:', indices)"
   ]
  },
  {
   "cell_type": "markdown",
   "metadata": {},
   "source": [
    "** get interacted values of k nearest neighbors by indices and calculate rating for each project."
   ]
  },
  {
   "cell_type": "code",
   "execution_count": 184,
   "metadata": {},
   "outputs": [
    {
     "data": {
      "text/plain": [
       "(1, 30, 3853)"
      ]
     },
     "execution_count": 184,
     "metadata": {},
     "output_type": "execute_result"
    }
   ],
   "source": [
    "k_rating_matrix = df_train_matrix[indices,]\n",
    "k_rating_matrix.shape "
   ]
  },
  {
   "cell_type": "code",
   "execution_count": 185,
   "metadata": {},
   "outputs": [
    {
     "name": "stdout",
     "output_type": "stream",
     "text": [
      "[ 0.  0.  0. ...,  0.  0.  0.]\n",
      "(3853,)\n"
     ]
    }
   ],
   "source": [
    "k_rating = sum(k_rating_matrix)\n",
    "k_weight_rating = sum(k_rating)/n_neighbors\n",
    "print(k_weight_rating)\n",
    "print(k_weight_rating.shape)"
   ]
  },
  {
   "cell_type": "markdown",
   "metadata": {},
   "source": [
    "------------------------------------------------------------------------------------------\n",
    "__! TO DO: Calculate \"k_weight_rating\" by using distance to weight rating **__\n",
    "\n",
    "\n",
    "$$ k_{weight\\_rating} =\\frac{ \\sum  (k_{rating}\\cdot \\frac{1}{{distance}^2}) }{\\sum\\frac{1}{{distance}^2} } or \\frac{ \\sum  (k_{rating}\\cdot {{(1-distance)}}) }{\\sum{{(1-distance)}} }$$ \n",
    "\n",
    "------------------------------------------------------------------------------------------"
   ]
  },
  {
   "cell_type": "code",
   "execution_count": null,
   "metadata": {
    "collapsed": true
   },
   "outputs": [],
   "source": [
    "# optional, you can create k_weight_rating\n",
    "k_weight_rating = <FILL IN>"
   ]
  },
  {
   "cell_type": "markdown",
   "metadata": {},
   "source": [
    "transform to dataframe with columns 'project_id' and 'k_weight_rating'\n",
    "\n",
    "__! TO DO: Create dataframe \"recommend_df\" which sort values by 'k_weight_rating' and show only topn projects. **__"
   ]
  },
  {
   "cell_type": "code",
   "execution_count": 186,
   "metadata": {
    "collapsed": true,
    "scrolled": true
   },
   "outputs": [],
   "source": [
    "topn = 10\n",
    "recommend_df = (pd.DataFrame({\"project_id\": df_train_pivot.columns\n",
    "                             ,\"k_weight_rating\": k_weight_rating})\n",
    "                             .sort_values(by=['k_weight_rating'], ascending=False)\n",
    "                             .head(topn))"
   ]
  },
  {
   "cell_type": "code",
   "execution_count": 187,
   "metadata": {},
   "outputs": [
    {
     "data": {
      "text/html": [
       "<div>\n",
       "<style>\n",
       "    .dataframe thead tr:only-child th {\n",
       "        text-align: right;\n",
       "    }\n",
       "\n",
       "    .dataframe thead th {\n",
       "        text-align: left;\n",
       "    }\n",
       "\n",
       "    .dataframe tbody tr th {\n",
       "        vertical-align: top;\n",
       "    }\n",
       "</style>\n",
       "<table border=\"1\" class=\"dataframe\">\n",
       "  <thead>\n",
       "    <tr style=\"text-align: right;\">\n",
       "      <th></th>\n",
       "      <th>k_weight_rating</th>\n",
       "      <th>project_id</th>\n",
       "    </tr>\n",
       "  </thead>\n",
       "  <tbody>\n",
       "    <tr>\n",
       "      <th>3410</th>\n",
       "      <td>0.366667</td>\n",
       "      <td>8644</td>\n",
       "    </tr>\n",
       "    <tr>\n",
       "      <th>3213</th>\n",
       "      <td>0.133333</td>\n",
       "      <td>8325</td>\n",
       "    </tr>\n",
       "    <tr>\n",
       "      <th>3671</th>\n",
       "      <td>0.133333</td>\n",
       "      <td>9080</td>\n",
       "    </tr>\n",
       "    <tr>\n",
       "      <th>1007</th>\n",
       "      <td>0.100000</td>\n",
       "      <td>4167</td>\n",
       "    </tr>\n",
       "    <tr>\n",
       "      <th>146</th>\n",
       "      <td>0.100000</td>\n",
       "      <td>1967</td>\n",
       "    </tr>\n",
       "    <tr>\n",
       "      <th>1417</th>\n",
       "      <td>0.066667</td>\n",
       "      <td>4927</td>\n",
       "    </tr>\n",
       "    <tr>\n",
       "      <th>2787</th>\n",
       "      <td>0.066667</td>\n",
       "      <td>7606</td>\n",
       "    </tr>\n",
       "    <tr>\n",
       "      <th>817</th>\n",
       "      <td>0.066667</td>\n",
       "      <td>3807</td>\n",
       "    </tr>\n",
       "    <tr>\n",
       "      <th>1071</th>\n",
       "      <td>0.066667</td>\n",
       "      <td>4339</td>\n",
       "    </tr>\n",
       "    <tr>\n",
       "      <th>821</th>\n",
       "      <td>0.066667</td>\n",
       "      <td>3816</td>\n",
       "    </tr>\n",
       "  </tbody>\n",
       "</table>\n",
       "</div>"
      ],
      "text/plain": [
       "      k_weight_rating  project_id\n",
       "3410         0.366667        8644\n",
       "3213         0.133333        8325\n",
       "3671         0.133333        9080\n",
       "1007         0.100000        4167\n",
       "146          0.100000        1967\n",
       "1417         0.066667        4927\n",
       "2787         0.066667        7606\n",
       "817          0.066667        3807\n",
       "1071         0.066667        4339\n",
       "821          0.066667        3816"
      ]
     },
     "execution_count": 187,
     "metadata": {},
     "output_type": "execute_result"
    }
   ],
   "source": [
    "recommend_df"
   ]
  },
  {
   "cell_type": "markdown",
   "metadata": {},
   "source": [
    "**Recommend items before ignore interacted items: [8644, 8325, 9080, 4167, 1967, 4927, 7606]"
   ]
  },
  {
   "cell_type": "markdown",
   "metadata": {},
   "source": [
    "### - Items to ignore\n",
    "We'll recommend new items so we need to ignore interacted items before recommend"
   ]
  },
  {
   "cell_type": "markdown",
   "metadata": {},
   "source": [
    "------------------------------------------------------------------------------------------\n",
    "__! TO DO: create \"get_item_interacted\" function which return set of interacted items of each user and ignore them in recommend_df**__\n",
    "\n",
    "------------------------------------------------------------------------------------------"
   ]
  },
  {
   "cell_type": "code",
   "execution_count": 188,
   "metadata": {
    "collapsed": true
   },
   "outputs": [],
   "source": [
    "def get_item_interacted(df, user_id):\n",
    "    \"\"\"\n",
    "    Args:\n",
    "    - df = dataframe which collect interacted projects of users\n",
    "    - userId = user id\n",
    "    \n",
    "    Return:\n",
    "    - set of interacted itemsets\n",
    "    \"\"\"\n",
    "    interacted_projects = df[df.index == user_id][['project_id']] #<FILL IN>\n",
    "    return set(interacted_projects['project_id'])"
   ]
  },
  {
   "cell_type": "code",
   "execution_count": 189,
   "metadata": {},
   "outputs": [
    {
     "data": {
      "text/plain": [
       "{8644}"
      ]
     },
     "execution_count": 189,
     "metadata": {},
     "output_type": "execute_result"
    }
   ],
   "source": [
    "items_to_ignore = get_item_interacted(df_train_indexed, user_id)\n",
    "items_to_ignore"
   ]
  },
  {
   "cell_type": "code",
   "execution_count": 190,
   "metadata": {
    "collapsed": true
   },
   "outputs": [],
   "source": [
    "# topn = <FILL IN>\n",
    "recommend_df = pd.DataFrame({\"userCode\": user_id\n",
    "                            ,\"project_id\": df_train_pivot.columns\n",
    "                            ,\"k_weight_rating\": k_weight_rating})\n",
    "                             \n",
    "\n",
    "recommend_df =  (recommend_df[~recommend_df['project_id'].isin(items_to_ignore)]\n",
    "                .sort_values(by=['k_weight_rating'], ascending=False)\n",
    "                             .head(topn))    "
   ]
  },
  {
   "cell_type": "code",
   "execution_count": 191,
   "metadata": {},
   "outputs": [
    {
     "data": {
      "text/html": [
       "<div>\n",
       "<style>\n",
       "    .dataframe thead tr:only-child th {\n",
       "        text-align: right;\n",
       "    }\n",
       "\n",
       "    .dataframe thead th {\n",
       "        text-align: left;\n",
       "    }\n",
       "\n",
       "    .dataframe tbody tr th {\n",
       "        vertical-align: top;\n",
       "    }\n",
       "</style>\n",
       "<table border=\"1\" class=\"dataframe\">\n",
       "  <thead>\n",
       "    <tr style=\"text-align: right;\">\n",
       "      <th></th>\n",
       "      <th>k_weight_rating</th>\n",
       "      <th>project_id</th>\n",
       "      <th>userCode</th>\n",
       "    </tr>\n",
       "  </thead>\n",
       "  <tbody>\n",
       "    <tr>\n",
       "      <th>3213</th>\n",
       "      <td>0.133333</td>\n",
       "      <td>8325</td>\n",
       "      <td>435f1a34-21ca-d605-0968-cb1b5b3f9aeb</td>\n",
       "    </tr>\n",
       "    <tr>\n",
       "      <th>3671</th>\n",
       "      <td>0.133333</td>\n",
       "      <td>9080</td>\n",
       "      <td>435f1a34-21ca-d605-0968-cb1b5b3f9aeb</td>\n",
       "    </tr>\n",
       "    <tr>\n",
       "      <th>1007</th>\n",
       "      <td>0.100000</td>\n",
       "      <td>4167</td>\n",
       "      <td>435f1a34-21ca-d605-0968-cb1b5b3f9aeb</td>\n",
       "    </tr>\n",
       "    <tr>\n",
       "      <th>146</th>\n",
       "      <td>0.100000</td>\n",
       "      <td>1967</td>\n",
       "      <td>435f1a34-21ca-d605-0968-cb1b5b3f9aeb</td>\n",
       "    </tr>\n",
       "    <tr>\n",
       "      <th>3715</th>\n",
       "      <td>0.066667</td>\n",
       "      <td>9186</td>\n",
       "      <td>435f1a34-21ca-d605-0968-cb1b5b3f9aeb</td>\n",
       "    </tr>\n",
       "    <tr>\n",
       "      <th>3255</th>\n",
       "      <td>0.066667</td>\n",
       "      <td>8406</td>\n",
       "      <td>435f1a34-21ca-d605-0968-cb1b5b3f9aeb</td>\n",
       "    </tr>\n",
       "    <tr>\n",
       "      <th>396</th>\n",
       "      <td>0.066667</td>\n",
       "      <td>2729</td>\n",
       "      <td>435f1a34-21ca-d605-0968-cb1b5b3f9aeb</td>\n",
       "    </tr>\n",
       "    <tr>\n",
       "      <th>1057</th>\n",
       "      <td>0.066667</td>\n",
       "      <td>4312</td>\n",
       "      <td>435f1a34-21ca-d605-0968-cb1b5b3f9aeb</td>\n",
       "    </tr>\n",
       "    <tr>\n",
       "      <th>2016</th>\n",
       "      <td>0.066667</td>\n",
       "      <td>6305</td>\n",
       "      <td>435f1a34-21ca-d605-0968-cb1b5b3f9aeb</td>\n",
       "    </tr>\n",
       "    <tr>\n",
       "      <th>1488</th>\n",
       "      <td>0.066667</td>\n",
       "      <td>5099</td>\n",
       "      <td>435f1a34-21ca-d605-0968-cb1b5b3f9aeb</td>\n",
       "    </tr>\n",
       "  </tbody>\n",
       "</table>\n",
       "</div>"
      ],
      "text/plain": [
       "      k_weight_rating  project_id                              userCode\n",
       "3213         0.133333        8325  435f1a34-21ca-d605-0968-cb1b5b3f9aeb\n",
       "3671         0.133333        9080  435f1a34-21ca-d605-0968-cb1b5b3f9aeb\n",
       "1007         0.100000        4167  435f1a34-21ca-d605-0968-cb1b5b3f9aeb\n",
       "146          0.100000        1967  435f1a34-21ca-d605-0968-cb1b5b3f9aeb\n",
       "3715         0.066667        9186  435f1a34-21ca-d605-0968-cb1b5b3f9aeb\n",
       "3255         0.066667        8406  435f1a34-21ca-d605-0968-cb1b5b3f9aeb\n",
       "396          0.066667        2729  435f1a34-21ca-d605-0968-cb1b5b3f9aeb\n",
       "1057         0.066667        4312  435f1a34-21ca-d605-0968-cb1b5b3f9aeb\n",
       "2016         0.066667        6305  435f1a34-21ca-d605-0968-cb1b5b3f9aeb\n",
       "1488         0.066667        5099  435f1a34-21ca-d605-0968-cb1b5b3f9aeb"
      ]
     },
     "execution_count": 191,
     "metadata": {},
     "output_type": "execute_result"
    }
   ],
   "source": [
    "recommend_df"
   ]
  },
  {
   "cell_type": "markdown",
   "metadata": {},
   "source": [
    "** Recommend items after ignore interacted items: [8325, 9080, 4167, 1967, 9186, 8406, 2729]"
   ]
  },
  {
   "cell_type": "markdown",
   "metadata": {},
   "source": [
    "### Evaluation\n",
    "We'll use metric __MAP@k__ for evaluate result.\n",
    "\n",
    "Example of calculating MAP@5\n",
    "\n",
    "```\n",
    "|                                        |                   |        Precision       |          Average         |\n",
    "|----------------------------------------+-------------------+------------------------+--------------------------|\n",
    "| Actual rank: [2, 4, 1, 5]              |  [1, 0, 0, 1, 1]  | [1/1, 0, 0, 2/4, 3/5]  | (1 + 2/4 + 3/5)/4 = 0.53 |\n",
    "| Recommended rank: [5, 9, 3, 1, 2]      |                   |                        |                          |\n",
    "|----------------------------------------+-------------------+------------------------+--------------------------|\n",
    "| Actual rank: [9, 6, 1]                 |  [1, 0, 0, 0, 0]  | [1/1, 0, 0, 2/4, 3/5]  | (1/1)/3 = 0.33           |\n",
    "| Recommended rank: [9, 2, 5, 0, 4]      |                   |                        |                          |\n",
    "|----------------------------------------+-------------------+------------------------+--------------------------|\n",
    "| Actual rank: [6, 0, 4]                 |  [0, 0, 0, 1, 1]  | [0, 0, 0, 1/4, 2/5]    | (1/4 + 2/5)/3 = 0.22     |\n",
    "| Recommended rank: [1, 10, 11, 4, 6]    |                   |                        |                          |\n",
    "|----------------------------------------+-------------------+------------------------+--------------------------|\n",
    "```\n",
    "Mean Average Precision @ 5 = (0.53 + 0.33 + 0.22)/3 = 0.36\n",
    "\n",
    "** It's ap for only 1 user. If you would like to evaluate all users, pls. submit file on kaggle :)"
   ]
  },
  {
   "cell_type": "code",
   "execution_count": 192,
   "metadata": {
    "collapsed": true
   },
   "outputs": [],
   "source": [
    "def ap_func(actual_list, recommend_list, k=7):\n",
    "    \n",
    "    m = len(actual_list)\n",
    "    recoms = []\n",
    "    precision = 0\n",
    "    for i, item_ in enumerate(recommend_list):\n",
    "        if item_ in actual_list:\n",
    "            recoms.append(1)\n",
    "            precision += round(sum(recoms[:i+1])/(i+1), 2)\n",
    "        else:\n",
    "            recoms.append(0)\n",
    "          \n",
    "    ap = round(precision/min(m, k), 2)\n",
    "    return ap"
   ]
  },
  {
   "cell_type": "code",
   "execution_count": 193,
   "metadata": {
    "collapsed": true
   },
   "outputs": [],
   "source": [
    "actual_list = list(df_test_indexed[df_test_indexed.index == user_id]['project_id'].values)\n",
    "recommend_list = list(recommend_df['project_id'].values)\n",
    "ap = ap_func(actual_list, recommend_list, 7)"
   ]
  },
  {
   "cell_type": "code",
   "execution_count": 194,
   "metadata": {},
   "outputs": [
    {
     "name": "stdout",
     "output_type": "stream",
     "text": [
      "0.25\n"
     ]
    }
   ],
   "source": [
    "print(ap)"
   ]
  },
  {
   "cell_type": "markdown",
   "metadata": {},
   "source": [
    "** ap = 0.25"
   ]
  },
  {
   "cell_type": "markdown",
   "metadata": {},
   "source": [
    "#### For user_id = '435f1a34-21ca-d605-0968-cb1b5b3f9aeb'\n",
    "if you follow the default values of this lab, you'll get the result like below\n",
    "- recommend items before ignore interacted items: [8644, 8325, 9080, 4167, 1967, 4927, 7606]\n",
    "- recommend items after ignore interacted items: [8325, 9080, 4167, 1967, 9186, 8406, 2729]\n",
    "- ap = 0.25\n"
   ]
  },
  {
   "cell_type": "markdown",
   "metadata": {},
   "source": [
    "# Create your own data preparation for recommendation"
   ]
  },
  {
   "cell_type": "markdown",
   "metadata": {},
   "source": [
    "In addition to 0/1 matrix, we can using other data for user-item matrix to caculate similarity ex. rating matrix or add user profile."
   ]
  },
  {
   "cell_type": "markdown",
   "metadata": {},
   "source": [
    "### - Case 2: Rating matrix\n",
    "Define rating by number of interactions with each project and scale them by bining (look at the distribution of data and define boundary)\n",
    "\n",
    "ex. (0-1]   ==> rating = 1\n",
    "\n",
    "    (1-2]   ==> rating = 2\n",
    "    \n",
    "    (2-4]   ==> rating = 3\n",
    "    \n",
    "    (4-7]   ==> rating = 4\n",
    "    \n",
    "    (7-inf] ==> rating = 5\n",
    "\n",
    "```\n",
    "|------------+---+---+---+----+---|\n",
    "| project_id | 1 | 2 | 3 | .. | j |\n",
    "| userCode   |   |   |   |    |   |\n",
    "|------------+---+---+---+----+---|\n",
    "| user A     | 4 | 0 | 0 | .. | 2 |\n",
    "| user B     | 0 | 3 | 0 | .. | 1 |\n",
    "| user C     | 0 | 0 | 5 | .. | 0 |\n",
    "|  ..        | . | . | . | .. | . |\n",
    "|------------+---+---+---+----+---|\n",
    "\n",
    "\n",
    "```\n",
    "\n",
    "------------------------------------------------------------------------------------------\n",
    "\n",
    "#### ! TO DO: prepare rating user-item matrix like above *************************************\n",
    "------------------------------------------------------------------------------------------"
   ]
  },
  {
   "cell_type": "code",
   "execution_count": 35,
   "metadata": {},
   "outputs": [
    {
     "data": {
      "image/png": "[encoded data removed]",
      "text/plain": [
       "<matplotlib.figure.Figure at 0x24085070320>"
      ]
     },
     "metadata": {},
     "output_type": "display_data"
    }
   ],
   "source": [
    "# distribution of number of interactions\n",
    "df_train.groupby(['userCode', 'project_id']).size().reset_index()[[0]].boxplot()\n",
    "plt.show()"
   ]
  },
  {
   "cell_type": "code",
   "execution_count": 33,
   "metadata": {
    "scrolled": true
   },
   "outputs": [
    {
     "data": {
      "text/html": [
       "<div>\n",
       "<style>\n",
       "    .dataframe thead tr:only-child th {\n",
       "        text-align: right;\n",
       "    }\n",
       "\n",
       "    .dataframe thead th {\n",
       "        text-align: left;\n",
       "    }\n",
       "\n",
       "    .dataframe tbody tr th {\n",
       "        vertical-align: top;\n",
       "    }\n",
       "</style>\n",
       "<table border=\"1\" class=\"dataframe\">\n",
       "  <thead>\n",
       "    <tr style=\"text-align: right;\">\n",
       "      <th></th>\n",
       "      <th>userCode</th>\n",
       "      <th>project_id</th>\n",
       "      <th>0</th>\n",
       "    </tr>\n",
       "  </thead>\n",
       "  <tbody>\n",
       "    <tr>\n",
       "      <th>0</th>\n",
       "      <td>00051896-b6d5-27b2-1590-6445018f084b</td>\n",
       "      <td>7545</td>\n",
       "      <td>4</td>\n",
       "    </tr>\n",
       "    <tr>\n",
       "      <th>1</th>\n",
       "      <td>0009bd21-7539-62ff-f653-a6f6bac25380</td>\n",
       "      <td>1956</td>\n",
       "      <td>1</td>\n",
       "    </tr>\n",
       "    <tr>\n",
       "      <th>2</th>\n",
       "      <td>0009bd21-7539-62ff-f653-a6f6bac25380</td>\n",
       "      <td>4208</td>\n",
       "      <td>2</td>\n",
       "    </tr>\n",
       "  </tbody>\n",
       "</table>\n",
       "</div>"
      ],
      "text/plain": [
       "                               userCode  project_id  0\n",
       "0  00051896-b6d5-27b2-1590-6445018f084b        7545  4\n",
       "1  0009bd21-7539-62ff-f653-a6f6bac25380        1956  1\n",
       "2  0009bd21-7539-62ff-f653-a6f6bac25380        4208  2"
      ]
     },
     "execution_count": 33,
     "metadata": {},
     "output_type": "execute_result"
    }
   ],
   "source": [
    "# count number of interaction groupby userCode and project_id\n",
    "df_train_rating = df_train.groupby(['userCode', 'project_id']).size().reset_index()\n",
    "df_train_rating.head(3)"
   ]
  },
  {
   "cell_type": "code",
   "execution_count": 38,
   "metadata": {
    "scrolled": true
   },
   "outputs": [
    {
     "data": {
      "text/html": [
       "<div>\n",
       "<style>\n",
       "    .dataframe thead tr:only-child th {\n",
       "        text-align: right;\n",
       "    }\n",
       "\n",
       "    .dataframe thead th {\n",
       "        text-align: left;\n",
       "    }\n",
       "\n",
       "    .dataframe tbody tr th {\n",
       "        vertical-align: top;\n",
       "    }\n",
       "</style>\n",
       "<table border=\"1\" class=\"dataframe\">\n",
       "  <thead>\n",
       "    <tr style=\"text-align: right;\">\n",
       "      <th></th>\n",
       "      <th>userCode</th>\n",
       "      <th>project_id</th>\n",
       "      <th>0</th>\n",
       "      <th>rating</th>\n",
       "    </tr>\n",
       "  </thead>\n",
       "  <tbody>\n",
       "    <tr>\n",
       "      <th>0</th>\n",
       "      <td>00051896-b6d5-27b2-1590-6445018f084b</td>\n",
       "      <td>7545</td>\n",
       "      <td>4</td>\n",
       "      <td>3.0</td>\n",
       "    </tr>\n",
       "    <tr>\n",
       "      <th>1</th>\n",
       "      <td>0009bd21-7539-62ff-f653-a6f6bac25380</td>\n",
       "      <td>1956</td>\n",
       "      <td>1</td>\n",
       "      <td>1.0</td>\n",
       "    </tr>\n",
       "    <tr>\n",
       "      <th>2</th>\n",
       "      <td>0009bd21-7539-62ff-f653-a6f6bac25380</td>\n",
       "      <td>4208</td>\n",
       "      <td>2</td>\n",
       "      <td>2.0</td>\n",
       "    </tr>\n",
       "  </tbody>\n",
       "</table>\n",
       "</div>"
      ],
      "text/plain": [
       "                               userCode  project_id  0  rating\n",
       "0  00051896-b6d5-27b2-1590-6445018f084b        7545  4     3.0\n",
       "1  0009bd21-7539-62ff-f653-a6f6bac25380        1956  1     1.0\n",
       "2  0009bd21-7539-62ff-f653-a6f6bac25380        4208  2     2.0"
      ]
     },
     "execution_count": 38,
     "metadata": {},
     "output_type": "execute_result"
    }
   ],
   "source": [
    "max_ = df_train_rating[0].max()\n",
    "bins = [1, 2, 3, 5, 7, max_]\n",
    "\n",
    "df_train_rating['rating'] = pd.cut(df_train_rating[0], bins, right=False, labels=False)\n",
    "df_train_rating['rating'] = df_train_rating['rating']+1\n",
    "df_train_rating.head(3)"
   ]
  },
  {
   "cell_type": "code",
   "execution_count": 39,
   "metadata": {},
   "outputs": [
    {
     "data": {
      "text/html": [
       "<div>\n",
       "<style>\n",
       "    .dataframe thead tr:only-child th {\n",
       "        text-align: right;\n",
       "    }\n",
       "\n",
       "    .dataframe thead th {\n",
       "        text-align: left;\n",
       "    }\n",
       "\n",
       "    .dataframe tbody tr th {\n",
       "        vertical-align: top;\n",
       "    }\n",
       "</style>\n",
       "<table border=\"1\" class=\"dataframe\">\n",
       "  <thead>\n",
       "    <tr style=\"text-align: right;\">\n",
       "      <th>project_id</th>\n",
       "      <th>24</th>\n",
       "      <th>29</th>\n",
       "      <th>41</th>\n",
       "      <th>45</th>\n",
       "      <th>133</th>\n",
       "      <th>141</th>\n",
       "      <th>156</th>\n",
       "      <th>157</th>\n",
       "      <th>161</th>\n",
       "      <th>189</th>\n",
       "      <th>...</th>\n",
       "      <th>9458</th>\n",
       "      <th>9459</th>\n",
       "      <th>9460</th>\n",
       "      <th>9461</th>\n",
       "      <th>9469</th>\n",
       "      <th>9471</th>\n",
       "      <th>9474</th>\n",
       "      <th>9477</th>\n",
       "      <th>9478</th>\n",
       "      <th>9484</th>\n",
       "    </tr>\n",
       "    <tr>\n",
       "      <th>userCode</th>\n",
       "      <th></th>\n",
       "      <th></th>\n",
       "      <th></th>\n",
       "      <th></th>\n",
       "      <th></th>\n",
       "      <th></th>\n",
       "      <th></th>\n",
       "      <th></th>\n",
       "      <th></th>\n",
       "      <th></th>\n",
       "      <th></th>\n",
       "      <th></th>\n",
       "      <th></th>\n",
       "      <th></th>\n",
       "      <th></th>\n",
       "      <th></th>\n",
       "      <th></th>\n",
       "      <th></th>\n",
       "      <th></th>\n",
       "      <th></th>\n",
       "      <th></th>\n",
       "    </tr>\n",
       "  </thead>\n",
       "  <tbody>\n",
       "    <tr>\n",
       "      <th>00051896-b6d5-27b2-1590-6445018f084b</th>\n",
       "      <td>0.0</td>\n",
       "      <td>0.0</td>\n",
       "      <td>0.0</td>\n",
       "      <td>0.0</td>\n",
       "      <td>0.0</td>\n",
       "      <td>0.0</td>\n",
       "      <td>0.0</td>\n",
       "      <td>0.0</td>\n",
       "      <td>0.0</td>\n",
       "      <td>0.0</td>\n",
       "      <td>...</td>\n",
       "      <td>0.0</td>\n",
       "      <td>0.0</td>\n",
       "      <td>0.0</td>\n",
       "      <td>0.0</td>\n",
       "      <td>0.0</td>\n",
       "      <td>0.0</td>\n",
       "      <td>0.0</td>\n",
       "      <td>0.0</td>\n",
       "      <td>0.0</td>\n",
       "      <td>0.0</td>\n",
       "    </tr>\n",
       "    <tr>\n",
       "      <th>0009bd21-7539-62ff-f653-a6f6bac25380</th>\n",
       "      <td>0.0</td>\n",
       "      <td>0.0</td>\n",
       "      <td>0.0</td>\n",
       "      <td>0.0</td>\n",
       "      <td>0.0</td>\n",
       "      <td>0.0</td>\n",
       "      <td>0.0</td>\n",
       "      <td>0.0</td>\n",
       "      <td>0.0</td>\n",
       "      <td>0.0</td>\n",
       "      <td>...</td>\n",
       "      <td>0.0</td>\n",
       "      <td>0.0</td>\n",
       "      <td>0.0</td>\n",
       "      <td>0.0</td>\n",
       "      <td>0.0</td>\n",
       "      <td>0.0</td>\n",
       "      <td>0.0</td>\n",
       "      <td>0.0</td>\n",
       "      <td>0.0</td>\n",
       "      <td>0.0</td>\n",
       "    </tr>\n",
       "    <tr>\n",
       "      <th>0014f96a-b816-5b96-af31-e7268b46061d</th>\n",
       "      <td>0.0</td>\n",
       "      <td>0.0</td>\n",
       "      <td>0.0</td>\n",
       "      <td>0.0</td>\n",
       "      <td>0.0</td>\n",
       "      <td>0.0</td>\n",
       "      <td>0.0</td>\n",
       "      <td>0.0</td>\n",
       "      <td>0.0</td>\n",
       "      <td>0.0</td>\n",
       "      <td>...</td>\n",
       "      <td>0.0</td>\n",
       "      <td>0.0</td>\n",
       "      <td>0.0</td>\n",
       "      <td>0.0</td>\n",
       "      <td>0.0</td>\n",
       "      <td>0.0</td>\n",
       "      <td>0.0</td>\n",
       "      <td>0.0</td>\n",
       "      <td>0.0</td>\n",
       "      <td>0.0</td>\n",
       "    </tr>\n",
       "  </tbody>\n",
       "</table>\n",
       "<p>3 rows × 3853 columns</p>\n",
       "</div>"
      ],
      "text/plain": [
       "project_id                            24    29    41    45    133   141   \\\n",
       "userCode                                                                   \n",
       "00051896-b6d5-27b2-1590-6445018f084b   0.0   0.0   0.0   0.0   0.0   0.0   \n",
       "0009bd21-7539-62ff-f653-a6f6bac25380   0.0   0.0   0.0   0.0   0.0   0.0   \n",
       "0014f96a-b816-5b96-af31-e7268b46061d   0.0   0.0   0.0   0.0   0.0   0.0   \n",
       "\n",
       "project_id                            156   157   161   189   ...   9458  \\\n",
       "userCode                                                      ...          \n",
       "00051896-b6d5-27b2-1590-6445018f084b   0.0   0.0   0.0   0.0  ...    0.0   \n",
       "0009bd21-7539-62ff-f653-a6f6bac25380   0.0   0.0   0.0   0.0  ...    0.0   \n",
       "0014f96a-b816-5b96-af31-e7268b46061d   0.0   0.0   0.0   0.0  ...    0.0   \n",
       "\n",
       "project_id                            9459  9460  9461  9469  9471  9474  \\\n",
       "userCode                                                                   \n",
       "00051896-b6d5-27b2-1590-6445018f084b   0.0   0.0   0.0   0.0   0.0   0.0   \n",
       "0009bd21-7539-62ff-f653-a6f6bac25380   0.0   0.0   0.0   0.0   0.0   0.0   \n",
       "0014f96a-b816-5b96-af31-e7268b46061d   0.0   0.0   0.0   0.0   0.0   0.0   \n",
       "\n",
       "project_id                            9477  9478  9484  \n",
       "userCode                                                \n",
       "00051896-b6d5-27b2-1590-6445018f084b   0.0   0.0   0.0  \n",
       "0009bd21-7539-62ff-f653-a6f6bac25380   0.0   0.0   0.0  \n",
       "0014f96a-b816-5b96-af31-e7268b46061d   0.0   0.0   0.0  \n",
       "\n",
       "[3 rows x 3853 columns]"
      ]
     },
     "execution_count": 39,
     "metadata": {},
     "output_type": "execute_result"
    }
   ],
   "source": [
    "df_train_rating_pivot = (df_train_rating.pivot(index = 'userCode'\n",
    "                                             ,columns = 'project_id'\n",
    "                                             ,values = 'rating')\n",
    "                                       .fillna(0))\n",
    "df_train_rating_pivot.head(3)"
   ]
  },
  {
   "cell_type": "code",
   "execution_count": 40,
   "metadata": {},
   "outputs": [
    {
     "name": "stdout",
     "output_type": "stream",
     "text": [
      "(4566, 3853)\n"
     ]
    }
   ],
   "source": [
    "df_train_rating_matrix = df_train_rating_pivot.values\n",
    "print(df_train_rating_matrix.shape)"
   ]
  },
  {
   "cell_type": "code",
   "execution_count": 41,
   "metadata": {
    "collapsed": true
   },
   "outputs": [],
   "source": [
    "df_train_rating_index = df_train_rating.set_index(['userCode'])"
   ]
  },
  {
   "cell_type": "markdown",
   "metadata": {},
   "source": [
    "### - Case 3: Rating + user profile matrix\n",
    "Using above rating matrix and concat with user profile ex. weekday etc.\n",
    "\n",
    "```\n",
    "|------------+---+---+---+----+---+-----+-----+-----+-----+-----+-----+-----|\n",
    "| project_id | 1 | 2 | 3 | .. | j | Mon | Tue | Wed | Thu | Fri | Sat | Sun |\n",
    "| userCode   |   |   |   |    |   |     |     |     |     |     |     |     |\n",
    "|------------+---+---+---+----+---|-----+-----+-----+-----+-----+-----+-----+\n",
    "| user A     | 4 | 0 | 0 | .. | 2 | 0.1 | 0.3 | 0.2 | 0.0 | 0.0 | 0.1 | 0.3 |\n",
    "| user B     | 0 | 3 | 0 | .. | 1 | 0.2 | 0.2 | 0.1 | 0.1 | 0.1 | 0.3 | 0.0 |\n",
    "| user C     | 0 | 0 | 5 | .. | 0 | 0.0 | 0.1 | 0.1 | 0.0 | 0.0 | 0.5 | 0.3 |\n",
    "|  ..        | . | . | . | .. | . | ... | ... | ... | ... | ... | ... | ... |\n",
    "|------------+---+---+---+----+---+-----+-----+-----+-----+-----+-----+-----|\n",
    "```\n"
   ]
  },
  {
   "cell_type": "code",
   "execution_count": 208,
   "metadata": {},
   "outputs": [
    {
     "name": "stderr",
     "output_type": "stream",
     "text": [
      "C:\\ProgramData\\Anaconda3\\lib\\site-packages\\ipykernel_launcher.py:1: SettingWithCopyWarning: \n",
      "A value is trying to be set on a copy of a slice from a DataFrame.\n",
      "Try using .loc[row_indexer,col_indexer] = value instead\n",
      "\n",
      "See the caveats in the documentation: http://pandas.pydata.org/pandas-docs/stable/indexing.html#indexing-view-versus-copy\n",
      "  \"\"\"Entry point for launching an IPython kernel.\n"
     ]
    }
   ],
   "source": [
    "df_train['weekday'] = df_train['datetime'].dt.dayofweek"
   ]
  },
  {
   "cell_type": "code",
   "execution_count": 209,
   "metadata": {},
   "outputs": [
    {
     "data": {
      "text/html": [
       "<div>\n",
       "<style>\n",
       "    .dataframe thead tr:only-child th {\n",
       "        text-align: right;\n",
       "    }\n",
       "\n",
       "    .dataframe thead th {\n",
       "        text-align: left;\n",
       "    }\n",
       "\n",
       "    .dataframe tbody tr th {\n",
       "        vertical-align: top;\n",
       "    }\n",
       "</style>\n",
       "<table border=\"1\" class=\"dataframe\">\n",
       "  <thead>\n",
       "    <tr style=\"text-align: right;\">\n",
       "      <th></th>\n",
       "      <th>userCode</th>\n",
       "      <th>day0</th>\n",
       "      <th>day1</th>\n",
       "      <th>day2</th>\n",
       "      <th>day3</th>\n",
       "      <th>day4</th>\n",
       "      <th>day5</th>\n",
       "      <th>day6</th>\n",
       "    </tr>\n",
       "  </thead>\n",
       "  <tbody>\n",
       "    <tr>\n",
       "      <th>0</th>\n",
       "      <td>00051896-b6d5-27b2-1590-6445018f084b</td>\n",
       "      <td>1.0</td>\n",
       "      <td>0.0</td>\n",
       "      <td>0.0</td>\n",
       "      <td>0.0</td>\n",
       "      <td>0.0</td>\n",
       "      <td>0.0</td>\n",
       "      <td>0.0</td>\n",
       "    </tr>\n",
       "    <tr>\n",
       "      <th>1</th>\n",
       "      <td>0009bd21-7539-62ff-f653-a6f6bac25380</td>\n",
       "      <td>1.0</td>\n",
       "      <td>0.0</td>\n",
       "      <td>0.0</td>\n",
       "      <td>0.0</td>\n",
       "      <td>0.0</td>\n",
       "      <td>0.0</td>\n",
       "      <td>0.0</td>\n",
       "    </tr>\n",
       "    <tr>\n",
       "      <th>2</th>\n",
       "      <td>0014f96a-b816-5b96-af31-e7268b46061d</td>\n",
       "      <td>1.0</td>\n",
       "      <td>0.0</td>\n",
       "      <td>0.0</td>\n",
       "      <td>0.0</td>\n",
       "      <td>0.0</td>\n",
       "      <td>0.0</td>\n",
       "      <td>0.0</td>\n",
       "    </tr>\n",
       "  </tbody>\n",
       "</table>\n",
       "</div>"
      ],
      "text/plain": [
       "                               userCode  day0  day1  day2  day3  day4  day5  \\\n",
       "0  00051896-b6d5-27b2-1590-6445018f084b   1.0   0.0   0.0   0.0   0.0   0.0   \n",
       "1  0009bd21-7539-62ff-f653-a6f6bac25380   1.0   0.0   0.0   0.0   0.0   0.0   \n",
       "2  0014f96a-b816-5b96-af31-e7268b46061d   1.0   0.0   0.0   0.0   0.0   0.0   \n",
       "\n",
       "   day6  \n",
       "0   0.0  \n",
       "1   0.0  \n",
       "2   0.0  "
      ]
     },
     "execution_count": 209,
     "metadata": {},
     "output_type": "execute_result"
    }
   ],
   "source": [
    "# proportion of #interactions by time interval\n",
    "weekday = df_train.groupby(['userCode', 'weekday']).size()\n",
    "weekday = weekday.groupby(level = 0).apply(lambda x: round(x/float(x.sum()), 2)).reset_index()\n",
    "weekday.columns.values[2] = 0\n",
    "user_weekday = weekday.pivot(index = 'userCode', columns = 'weekday', values = 0).fillna(0).reset_index()\n",
    "user_weekday.columns =  list(user_weekday.columns.values[:1]) + ['day' + str(col) for col in user_weekday.columns.values[1:]]\n",
    "user_weekday.head(3)"
   ]
  },
  {
   "cell_type": "markdown",
   "metadata": {},
   "source": [
    "------------------------------------------------------------------------------------------\n",
    "\n",
    "#### ! TO DO: **\n",
    "- create other user profile\n",
    "- merge user profile and user rating\n",
    "- create matrix \n",
    "\n",
    "------------------------------------------------------------------------------------------"
   ]
  },
  {
   "cell_type": "code",
   "execution_count": 210,
   "metadata": {
    "collapsed": true
   },
   "outputs": [],
   "source": [
    "class UserProfile:\n",
    "\n",
    "    def __init__(self, df):\n",
    "        self.df = df\n",
    "\n",
    "    def hour(self):\n",
    "        df = self.df\n",
    "        time_interval = df.groupby(['userCode', 'time_interval']).size()\n",
    "        time_interval = time_interval.groupby(level = 0).apply(lambda x: round(x/float(x.sum()), 2)).reset_index()\n",
    "        time_interval.columns.values[2] = 0\n",
    "        user_time = time_interval.pivot(index = 'userCode', columns = 'time_interval', values = 0).fillna(0).reset_index()\n",
    "        return user_time\n",
    "\n",
    "    def device(self):\n",
    "        df = self.df\n",
    "        device = df.groupby(['userCode', 'requestedDevice']).size()\n",
    "        device = device.groupby(level = 0).apply(lambda x: round(x/float(x.sum()), 2)).reset_index()\n",
    "        device.columns.values[2] = 0\n",
    "        user_device = device.pivot(index = 'userCode', columns = 'requestedDevice', values = 0).fillna(0).reset_index()\n",
    "        return user_device\n",
    "    \n",
    "    def agent(self):\n",
    "        df = self.df\n",
    "        agent = df.groupby(['userCode', 'userAgent']).size()\n",
    "        agent = agent.groupby(level = 0).apply(lambda x: round(x/float(x.sum()), 2)).reset_index()\n",
    "        agent.columns.values[2] = 0\n",
    "        user_agent = agent.pivot(index = 'userCode', columns = 'userAgent', values = 0).fillna(0).reset_index()\n",
    "        return user_agent\n",
    "    \n",
    "    def pagerefer(self):\n",
    "        df = self.df\n",
    "        pagerefer = df.groupby(['userCode', 'pageReferrer']).size()\n",
    "        pagerefer = pagerefer.groupby(level = 0).apply(lambda x: round(x/float(x.sum()), 2)).reset_index()\n",
    "        pagerefer.columns.values[2] = 0\n",
    "        user_pagerefer = pagerefer.pivot(index = 'userCode', columns = 'pageReferrer', values = 0).fillna(0).reset_index()\n",
    "        return user_pagerefer\n",
    "    \n",
    "    def all(self):\n",
    "        df = self.df\n",
    "        user_time = self.hour()\n",
    "        print('- time --')\n",
    "        user_device = self.device()\n",
    "        print('- device --')\n",
    "        user_agent = self.agent()\n",
    "        print('- agent --')\n",
    "        user_pagerefer = self.pagerefer()\n",
    "        print('- pagerefer --')\n",
    "\n",
    "        user_profile = pd.merge(user_weekday, user_time, how = 'outer', on = 'userCode')\n",
    "        print('- merge --')\n",
    "        user_profile = pd.merge(user_profile, user_device, how = 'outer', on = 'userCode')\n",
    "        print('- merge --')\n",
    "        user_profile = pd.merge(user_profile, user_agent, how = 'outer', on = 'userCode')\n",
    "        print('- merge --')\n",
    "        user_profile = pd.merge(user_profile, user_pagerefer, how = 'outer', on = 'userCode')\n",
    "        print('- merge --')\n",
    "        return user_profile\n"
   ]
  },
  {
   "cell_type": "code",
   "execution_count": 211,
   "metadata": {},
   "outputs": [
    {
     "name": "stderr",
     "output_type": "stream",
     "text": [
      "C:\\ProgramData\\Anaconda3\\lib\\site-packages\\ipykernel_launcher.py:1: SettingWithCopyWarning: \n",
      "A value is trying to be set on a copy of a slice from a DataFrame.\n",
      "Try using .loc[row_indexer,col_indexer] = value instead\n",
      "\n",
      "See the caveats in the documentation: http://pandas.pydata.org/pandas-docs/stable/indexing.html#indexing-view-versus-copy\n",
      "  \"\"\"Entry point for launching an IPython kernel.\n",
      "C:\\ProgramData\\Anaconda3\\lib\\site-packages\\ipykernel_launcher.py:2: SettingWithCopyWarning: \n",
      "A value is trying to be set on a copy of a slice from a DataFrame.\n",
      "Try using .loc[row_indexer,col_indexer] = value instead\n",
      "\n",
      "See the caveats in the documentation: http://pandas.pydata.org/pandas-docs/stable/indexing.html#indexing-view-versus-copy\n",
      "  \n",
      "C:\\ProgramData\\Anaconda3\\lib\\site-packages\\ipykernel_launcher.py:3: SettingWithCopyWarning: \n",
      "A value is trying to be set on a copy of a slice from a DataFrame.\n",
      "Try using .loc[row_indexer,col_indexer] = value instead\n",
      "\n",
      "See the caveats in the documentation: http://pandas.pydata.org/pandas-docs/stable/indexing.html#indexing-view-versus-copy\n",
      "  This is separate from the ipykernel package so we can avoid doing imports until\n"
     ]
    }
   ],
   "source": [
    "df_train['time_interval'] = '20-23'\n",
    "df_train['time_interval'] = np.where((df_train['hour'] >= 0) & (df_train['hour'] < 9), '0-8', df_train['time_interval'])\n",
    "df_train['time_interval'] = np.where((df_train['hour'] >= 9) & (df_train['hour'] < 20), '9-19', df_train['time_interval'])"
   ]
  },
  {
   "cell_type": "code",
   "execution_count": 212,
   "metadata": {
    "scrolled": false
   },
   "outputs": [
    {
     "name": "stdout",
     "output_type": "stream",
     "text": [
      "- time --\n",
      "- device --\n",
      "- agent --\n",
      "- pagerefer --\n",
      "- merge --\n",
      "- merge --\n",
      "- merge --\n",
      "- merge --\n"
     ]
    },
    {
     "data": {
      "text/html": [
       "<div>\n",
       "<style>\n",
       "    .dataframe thead tr:only-child th {\n",
       "        text-align: right;\n",
       "    }\n",
       "\n",
       "    .dataframe thead th {\n",
       "        text-align: left;\n",
       "    }\n",
       "\n",
       "    .dataframe tbody tr th {\n",
       "        vertical-align: top;\n",
       "    }\n",
       "</style>\n",
       "<table border=\"1\" class=\"dataframe\">\n",
       "  <thead>\n",
       "    <tr style=\"text-align: right;\">\n",
       "      <th></th>\n",
       "      <th>userCode</th>\n",
       "      <th>day0_x</th>\n",
       "      <th>day1_x</th>\n",
       "      <th>day2_x</th>\n",
       "      <th>day3_x</th>\n",
       "      <th>day4_x</th>\n",
       "      <th>day5_x</th>\n",
       "      <th>day6_x</th>\n",
       "      <th>0-8</th>\n",
       "      <th>20-23</th>\n",
       "      <th>...</th>\n",
       "      <th>Google</th>\n",
       "      <th>HomeWebsite</th>\n",
       "      <th>Other_PageReferer</th>\n",
       "      <th>day0_y</th>\n",
       "      <th>day1_y</th>\n",
       "      <th>day2_y</th>\n",
       "      <th>day3_y</th>\n",
       "      <th>day4_y</th>\n",
       "      <th>day5_y</th>\n",
       "      <th>day6_y</th>\n",
       "    </tr>\n",
       "  </thead>\n",
       "  <tbody>\n",
       "    <tr>\n",
       "      <th>0</th>\n",
       "      <td>00051896-b6d5-27b2-1590-6445018f084b</td>\n",
       "      <td>1.0</td>\n",
       "      <td>0.0</td>\n",
       "      <td>0.0</td>\n",
       "      <td>0.0</td>\n",
       "      <td>0.0</td>\n",
       "      <td>0.0</td>\n",
       "      <td>0.0</td>\n",
       "      <td>1.0</td>\n",
       "      <td>0.00</td>\n",
       "      <td>...</td>\n",
       "      <td>1.0</td>\n",
       "      <td>0.0</td>\n",
       "      <td>0.0</td>\n",
       "      <td>1.0</td>\n",
       "      <td>0.0</td>\n",
       "      <td>0.0</td>\n",
       "      <td>0.0</td>\n",
       "      <td>0.0</td>\n",
       "      <td>0.0</td>\n",
       "      <td>0.0</td>\n",
       "    </tr>\n",
       "    <tr>\n",
       "      <th>1</th>\n",
       "      <td>0009bd21-7539-62ff-f653-a6f6bac25380</td>\n",
       "      <td>1.0</td>\n",
       "      <td>0.0</td>\n",
       "      <td>0.0</td>\n",
       "      <td>0.0</td>\n",
       "      <td>0.0</td>\n",
       "      <td>0.0</td>\n",
       "      <td>0.0</td>\n",
       "      <td>0.0</td>\n",
       "      <td>0.17</td>\n",
       "      <td>...</td>\n",
       "      <td>0.0</td>\n",
       "      <td>1.0</td>\n",
       "      <td>0.0</td>\n",
       "      <td>1.0</td>\n",
       "      <td>0.0</td>\n",
       "      <td>0.0</td>\n",
       "      <td>0.0</td>\n",
       "      <td>0.0</td>\n",
       "      <td>0.0</td>\n",
       "      <td>0.0</td>\n",
       "    </tr>\n",
       "    <tr>\n",
       "      <th>2</th>\n",
       "      <td>0014f96a-b816-5b96-af31-e7268b46061d</td>\n",
       "      <td>1.0</td>\n",
       "      <td>0.0</td>\n",
       "      <td>0.0</td>\n",
       "      <td>0.0</td>\n",
       "      <td>0.0</td>\n",
       "      <td>0.0</td>\n",
       "      <td>0.0</td>\n",
       "      <td>0.0</td>\n",
       "      <td>0.00</td>\n",
       "      <td>...</td>\n",
       "      <td>0.0</td>\n",
       "      <td>1.0</td>\n",
       "      <td>0.0</td>\n",
       "      <td>1.0</td>\n",
       "      <td>0.0</td>\n",
       "      <td>0.0</td>\n",
       "      <td>0.0</td>\n",
       "      <td>0.0</td>\n",
       "      <td>0.0</td>\n",
       "      <td>0.0</td>\n",
       "    </tr>\n",
       "  </tbody>\n",
       "</table>\n",
       "<p>3 rows × 30 columns</p>\n",
       "</div>"
      ],
      "text/plain": [
       "                               userCode  day0_x  day1_x  day2_x  day3_x  \\\n",
       "0  00051896-b6d5-27b2-1590-6445018f084b     1.0     0.0     0.0     0.0   \n",
       "1  0009bd21-7539-62ff-f653-a6f6bac25380     1.0     0.0     0.0     0.0   \n",
       "2  0014f96a-b816-5b96-af31-e7268b46061d     1.0     0.0     0.0     0.0   \n",
       "\n",
       "   day4_x  day5_x  day6_x  0-8  20-23   ...    Google  HomeWebsite  \\\n",
       "0     0.0     0.0     0.0  1.0   0.00   ...       1.0          0.0   \n",
       "1     0.0     0.0     0.0  0.0   0.17   ...       0.0          1.0   \n",
       "2     0.0     0.0     0.0  0.0   0.00   ...       0.0          1.0   \n",
       "\n",
       "   Other_PageReferer  day0_y  day1_y  day2_y  day3_y  day4_y  day5_y  day6_y  \n",
       "0                0.0     1.0     0.0     0.0     0.0     0.0     0.0     0.0  \n",
       "1                0.0     1.0     0.0     0.0     0.0     0.0     0.0     0.0  \n",
       "2                0.0     1.0     0.0     0.0     0.0     0.0     0.0     0.0  \n",
       "\n",
       "[3 rows x 30 columns]"
      ]
     },
     "execution_count": 212,
     "metadata": {},
     "output_type": "execute_result"
    }
   ],
   "source": [
    "User_profile = UserProfile(df_train)\n",
    "user_profile = User_profile.all()\n",
    "user_profile = pd.merge(user_profile, user_weekday, how='left', on=['userCode'])\n",
    "user_profile.head(3)"
   ]
  },
  {
   "cell_type": "code",
   "execution_count": 213,
   "metadata": {},
   "outputs": [
    {
     "data": {
      "text/html": [
       "<div>\n",
       "<style>\n",
       "    .dataframe thead tr:only-child th {\n",
       "        text-align: right;\n",
       "    }\n",
       "\n",
       "    .dataframe thead th {\n",
       "        text-align: left;\n",
       "    }\n",
       "\n",
       "    .dataframe tbody tr th {\n",
       "        vertical-align: top;\n",
       "    }\n",
       "</style>\n",
       "<table border=\"1\" class=\"dataframe\">\n",
       "  <thead>\n",
       "    <tr style=\"text-align: right;\">\n",
       "      <th></th>\n",
       "      <th>userCode</th>\n",
       "      <th>24</th>\n",
       "      <th>29</th>\n",
       "      <th>41</th>\n",
       "      <th>45</th>\n",
       "      <th>133</th>\n",
       "      <th>141</th>\n",
       "      <th>156</th>\n",
       "      <th>157</th>\n",
       "      <th>161</th>\n",
       "      <th>...</th>\n",
       "      <th>Google</th>\n",
       "      <th>HomeWebsite</th>\n",
       "      <th>Other_PageReferer</th>\n",
       "      <th>day0_y</th>\n",
       "      <th>day1_y</th>\n",
       "      <th>day2_y</th>\n",
       "      <th>day3_y</th>\n",
       "      <th>day4_y</th>\n",
       "      <th>day5_y</th>\n",
       "      <th>day6_y</th>\n",
       "    </tr>\n",
       "  </thead>\n",
       "  <tbody>\n",
       "    <tr>\n",
       "      <th>0</th>\n",
       "      <td>00051896-b6d5-27b2-1590-6445018f084b</td>\n",
       "      <td>0.0</td>\n",
       "      <td>0.0</td>\n",
       "      <td>0.0</td>\n",
       "      <td>0.0</td>\n",
       "      <td>0.0</td>\n",
       "      <td>0.0</td>\n",
       "      <td>0.0</td>\n",
       "      <td>0.0</td>\n",
       "      <td>0.0</td>\n",
       "      <td>...</td>\n",
       "      <td>1.0</td>\n",
       "      <td>0.0</td>\n",
       "      <td>0.0</td>\n",
       "      <td>1.0</td>\n",
       "      <td>0.0</td>\n",
       "      <td>0.0</td>\n",
       "      <td>0.0</td>\n",
       "      <td>0.0</td>\n",
       "      <td>0.0</td>\n",
       "      <td>0.0</td>\n",
       "    </tr>\n",
       "    <tr>\n",
       "      <th>1</th>\n",
       "      <td>0009bd21-7539-62ff-f653-a6f6bac25380</td>\n",
       "      <td>0.0</td>\n",
       "      <td>0.0</td>\n",
       "      <td>0.0</td>\n",
       "      <td>0.0</td>\n",
       "      <td>0.0</td>\n",
       "      <td>0.0</td>\n",
       "      <td>0.0</td>\n",
       "      <td>0.0</td>\n",
       "      <td>0.0</td>\n",
       "      <td>...</td>\n",
       "      <td>0.0</td>\n",
       "      <td>1.0</td>\n",
       "      <td>0.0</td>\n",
       "      <td>1.0</td>\n",
       "      <td>0.0</td>\n",
       "      <td>0.0</td>\n",
       "      <td>0.0</td>\n",
       "      <td>0.0</td>\n",
       "      <td>0.0</td>\n",
       "      <td>0.0</td>\n",
       "    </tr>\n",
       "    <tr>\n",
       "      <th>2</th>\n",
       "      <td>0014f96a-b816-5b96-af31-e7268b46061d</td>\n",
       "      <td>0.0</td>\n",
       "      <td>0.0</td>\n",
       "      <td>0.0</td>\n",
       "      <td>0.0</td>\n",
       "      <td>0.0</td>\n",
       "      <td>0.0</td>\n",
       "      <td>0.0</td>\n",
       "      <td>0.0</td>\n",
       "      <td>0.0</td>\n",
       "      <td>...</td>\n",
       "      <td>0.0</td>\n",
       "      <td>1.0</td>\n",
       "      <td>0.0</td>\n",
       "      <td>1.0</td>\n",
       "      <td>0.0</td>\n",
       "      <td>0.0</td>\n",
       "      <td>0.0</td>\n",
       "      <td>0.0</td>\n",
       "      <td>0.0</td>\n",
       "      <td>0.0</td>\n",
       "    </tr>\n",
       "  </tbody>\n",
       "</table>\n",
       "<p>3 rows × 3883 columns</p>\n",
       "</div>"
      ],
      "text/plain": [
       "                               userCode   24   29   41   45  133  141  156  \\\n",
       "0  00051896-b6d5-27b2-1590-6445018f084b  0.0  0.0  0.0  0.0  0.0  0.0  0.0   \n",
       "1  0009bd21-7539-62ff-f653-a6f6bac25380  0.0  0.0  0.0  0.0  0.0  0.0  0.0   \n",
       "2  0014f96a-b816-5b96-af31-e7268b46061d  0.0  0.0  0.0  0.0  0.0  0.0  0.0   \n",
       "\n",
       "   157  161   ...    Google  HomeWebsite  Other_PageReferer  day0_y  day1_y  \\\n",
       "0  0.0  0.0   ...       1.0          0.0                0.0     1.0     0.0   \n",
       "1  0.0  0.0   ...       0.0          1.0                0.0     1.0     0.0   \n",
       "2  0.0  0.0   ...       0.0          1.0                0.0     1.0     0.0   \n",
       "\n",
       "   day2_y  day3_y  day4_y  day5_y  day6_y  \n",
       "0     0.0     0.0     0.0     0.0     0.0  \n",
       "1     0.0     0.0     0.0     0.0     0.0  \n",
       "2     0.0     0.0     0.0     0.0     0.0  \n",
       "\n",
       "[3 rows x 3883 columns]"
      ]
     },
     "execution_count": 213,
     "metadata": {},
     "output_type": "execute_result"
    }
   ],
   "source": [
    "df_train_userprofile = pd.merge(df_train_pivot.reset_index()\n",
    "                                , user_profile\n",
    "                                , how='left'\n",
    "                                , on=['userCode'])\n",
    "df_train_userprofile.head(3)"
   ]
  },
  {
   "cell_type": "markdown",
   "metadata": {},
   "source": [
    "set \"userCode\" to be index for fast search and create matrix user-item matrix"
   ]
  },
  {
   "cell_type": "code",
   "execution_count": 214,
   "metadata": {},
   "outputs": [
    {
     "data": {
      "text/plain": [
       "array([ 0.,  0.,  0., ...,  0.,  0.,  0.])"
      ]
     },
     "execution_count": 214,
     "metadata": {},
     "output_type": "execute_result"
    }
   ],
   "source": [
    "df_train_userprofile_indexed = df_train_userprofile.set_index(['userCode'])\n",
    "df_train_userprofile_matrix = df_train_userprofile_indexed.values\n",
    "df_train_userprofile_matrix[0]"
   ]
  },
  {
   "cell_type": "markdown",
   "metadata": {},
   "source": [
    "### Create function for items recommendation"
   ]
  },
  {
   "cell_type": "code",
   "execution_count": 215,
   "metadata": {},
   "outputs": [
    {
     "data": {
      "text/plain": [
       "NearestNeighbors(algorithm='brute', leaf_size=30, metric='cosine',\n",
       "         metric_params=None, n_jobs=1, n_neighbors=30, p=2, radius=1.0)"
      ]
     },
     "execution_count": 215,
     "metadata": {},
     "output_type": "execute_result"
    }
   ],
   "source": [
    "n_neighbors = 30\n",
    "model = NearestNeighbors(metric = 'cosine', algorithm = 'brute',  n_neighbors = n_neighbors) # euclidean\n",
    "model.fit(df_train_userprofile_matrix)"
   ]
  },
  {
   "cell_type": "code",
   "execution_count": 219,
   "metadata": {
    "collapsed": true
   },
   "outputs": [],
   "source": [
    "def recommend_items(user_id, model, df_users, df_rating, prodect_cols, items_to_ignore=[], topn=7, n_neighbors=n_neighbors):\n",
    "    \n",
    "    distances, indices = model.kneighbors(df_users[df_users.index == user_id].iloc[0].values.reshape(1, -1)\n",
    "                                       , n_neighbors = n_neighbors)\n",
    "    \n",
    "    interacted = np.zeros((n_neighbors, df_rating.shape[1]))\n",
    "    n = np.zeros((n_neighbors, df_rating.shape[1]))\n",
    "    \n",
    "    sim = 0\n",
    "    n_user = len(distances.flatten())\n",
    "    for i in range(1, n_user):\n",
    "        \n",
    "        sim_ = 1 - distances.flatten()[i]\n",
    "        sim += sim_\n",
    "        rating = df_rating.loc[df_rating.index[indices.flatten()[i]]].values\n",
    "        value = rating * sim\n",
    "        interacted[i:i+1] += value\n",
    "    \n",
    "    k_weight_rating = sum(interacted)/sim\n",
    "    \n",
    "    recommend_df = pd.DataFrame({\"project_id\":prodect_cols, \"k_weight_rating\": k_weight_rating})\n",
    "    recommend_df = (recommend_df[~recommend_df['project_id'].isin(items_to_ignore)]\n",
    "                             .sort_values('k_weight_rating', ascending = False)\n",
    "                             .head(topn))\n",
    "    \n",
    "    recommend_items = recommend_df['project_id'].values\n",
    "    recommendation_df = pd.DataFrame({\"userCode\": user_id, \"project_id\": recommend_items})\n",
    "    return recommendation_df, recommend_items"
   ]
  },
  {
   "cell_type": "code",
   "execution_count": 220,
   "metadata": {
    "scrolled": true
   },
   "outputs": [],
   "source": [
    "prodect_cols = df_train_pivot.columns\n",
    "user_id = '435f1a34-21ca-d605-0968-cb1b5b3f9aeb'\n",
    "model = model\n",
    "df_users = df_train_userprofile_indexed # dataframe to select user_id to calculate similarity\n",
    "df_rating = df_train_pivot # matrix to calculate weight\n",
    "items_to_ignore = get_item_interacted(df_train_indexed, user_id)\n",
    "recommend_df, items = recommend_items(user_id, model, df_users, df_rating, prodect_cols, items_to_ignore, 7, 30)"
   ]
  },
  {
   "cell_type": "code",
   "execution_count": 221,
   "metadata": {},
   "outputs": [
    {
     "data": {
      "text/html": [
       "<div>\n",
       "<style>\n",
       "    .dataframe thead tr:only-child th {\n",
       "        text-align: right;\n",
       "    }\n",
       "\n",
       "    .dataframe thead th {\n",
       "        text-align: left;\n",
       "    }\n",
       "\n",
       "    .dataframe tbody tr th {\n",
       "        vertical-align: top;\n",
       "    }\n",
       "</style>\n",
       "<table border=\"1\" class=\"dataframe\">\n",
       "  <thead>\n",
       "    <tr style=\"text-align: right;\">\n",
       "      <th></th>\n",
       "      <th>project_id</th>\n",
       "      <th>userCode</th>\n",
       "    </tr>\n",
       "  </thead>\n",
       "  <tbody>\n",
       "    <tr>\n",
       "      <th>0</th>\n",
       "      <td>8732</td>\n",
       "      <td>435f1a34-21ca-d605-0968-cb1b5b3f9aeb</td>\n",
       "    </tr>\n",
       "    <tr>\n",
       "      <th>1</th>\n",
       "      <td>8348</td>\n",
       "      <td>435f1a34-21ca-d605-0968-cb1b5b3f9aeb</td>\n",
       "    </tr>\n",
       "    <tr>\n",
       "      <th>2</th>\n",
       "      <td>4417</td>\n",
       "      <td>435f1a34-21ca-d605-0968-cb1b5b3f9aeb</td>\n",
       "    </tr>\n",
       "    <tr>\n",
       "      <th>3</th>\n",
       "      <td>8833</td>\n",
       "      <td>435f1a34-21ca-d605-0968-cb1b5b3f9aeb</td>\n",
       "    </tr>\n",
       "    <tr>\n",
       "      <th>4</th>\n",
       "      <td>8783</td>\n",
       "      <td>435f1a34-21ca-d605-0968-cb1b5b3f9aeb</td>\n",
       "    </tr>\n",
       "    <tr>\n",
       "      <th>5</th>\n",
       "      <td>7934</td>\n",
       "      <td>435f1a34-21ca-d605-0968-cb1b5b3f9aeb</td>\n",
       "    </tr>\n",
       "    <tr>\n",
       "      <th>6</th>\n",
       "      <td>9059</td>\n",
       "      <td>435f1a34-21ca-d605-0968-cb1b5b3f9aeb</td>\n",
       "    </tr>\n",
       "  </tbody>\n",
       "</table>\n",
       "</div>"
      ],
      "text/plain": [
       "   project_id                              userCode\n",
       "0        8732  435f1a34-21ca-d605-0968-cb1b5b3f9aeb\n",
       "1        8348  435f1a34-21ca-d605-0968-cb1b5b3f9aeb\n",
       "2        4417  435f1a34-21ca-d605-0968-cb1b5b3f9aeb\n",
       "3        8833  435f1a34-21ca-d605-0968-cb1b5b3f9aeb\n",
       "4        8783  435f1a34-21ca-d605-0968-cb1b5b3f9aeb\n",
       "5        7934  435f1a34-21ca-d605-0968-cb1b5b3f9aeb\n",
       "6        9059  435f1a34-21ca-d605-0968-cb1b5b3f9aeb"
      ]
     },
     "execution_count": 221,
     "metadata": {},
     "output_type": "execute_result"
    }
   ],
   "source": [
    "recommend_df"
   ]
  },
  {
   "cell_type": "markdown",
   "metadata": {},
   "source": [
    "### Transform data for submit to kaggle\n",
    "\n",
    "Format of dataframe for 'transform_to_kaggle' function, consist of 2 columns\n",
    "- userCode\n",
    "- project_id : order by sequence of recommendation (7 sequences)\n",
    "\n",
    "```\n",
    "|------------+--------------|\n",
    "|  userCode  |  project_id  |\n",
    "|------------+--------------|\n",
    "| user A     |      4       |\n",
    "| user A     |     21       |\n",
    "| user A     |     34       |\n",
    "|  ..        |     ..       |\n",
    "```"
   ]
  },
  {
   "cell_type": "code",
   "execution_count": 195,
   "metadata": {
    "collapsed": true
   },
   "outputs": [],
   "source": [
    "def transform_to_kaggle(recommend_df):\n",
    "    \n",
    "    \"\"\"\n",
    "    Input:\n",
    "        - recommed_df: userCode and project_id\n",
    "    \n",
    "    Returns:\n",
    "        - recommed_df: \n",
    "    \"\"\"\n",
    "    testing_dataset = []\n",
    "    recommend_df_indexed = recommend_df.set_index('userCode')\n",
    "    \n",
    "    for idx, user_id in enumerate(list(recommend_df_indexed.index.unique().values)):\n",
    "        \n",
    "        interacted_testset = recommend_df_indexed[recommend_df_indexed.index == user_id]\n",
    "        rank_actual = list(interacted_testset['project_id'].values)\n",
    "\n",
    "        if len(rank_actual) > 0:\n",
    "            rank_actual_str = ' '.join(str(r) for r in rank_actual)\n",
    "            testing_dataset.append({\"userCode\": user_id\n",
    "                                   ,\"project_id\": rank_actual_str})\n",
    "            \n",
    "    testing_df = pd.DataFrame(testing_dataset)\n",
    "    testing_df = testing_df[['userCode', 'project_id']]\n",
    "    return testing_df"
   ]
  },
  {
   "cell_type": "code",
   "execution_count": 196,
   "metadata": {
    "collapsed": true
   },
   "outputs": [],
   "source": [
    "submit_file = transform_to_kaggle(recommend_df)"
   ]
  },
  {
   "cell_type": "code",
   "execution_count": 197,
   "metadata": {},
   "outputs": [
    {
     "data": {
      "text/html": [
       "<div>\n",
       "<style>\n",
       "    .dataframe thead tr:only-child th {\n",
       "        text-align: right;\n",
       "    }\n",
       "\n",
       "    .dataframe thead th {\n",
       "        text-align: left;\n",
       "    }\n",
       "\n",
       "    .dataframe tbody tr th {\n",
       "        vertical-align: top;\n",
       "    }\n",
       "</style>\n",
       "<table border=\"1\" class=\"dataframe\">\n",
       "  <thead>\n",
       "    <tr style=\"text-align: right;\">\n",
       "      <th></th>\n",
       "      <th>userCode</th>\n",
       "      <th>project_id</th>\n",
       "    </tr>\n",
       "  </thead>\n",
       "  <tbody>\n",
       "    <tr>\n",
       "      <th>0</th>\n",
       "      <td>435f1a34-21ca-d605-0968-cb1b5b3f9aeb</td>\n",
       "      <td>8325 9080 4167 1967 9186 8406 2729 4312 6305 5099</td>\n",
       "    </tr>\n",
       "  </tbody>\n",
       "</table>\n",
       "</div>"
      ],
      "text/plain": [
       "                               userCode  \\\n",
       "0  435f1a34-21ca-d605-0968-cb1b5b3f9aeb   \n",
       "\n",
       "                                          project_id  \n",
       "0  8325 9080 4167 1967 9186 8406 2729 4312 6305 5099  "
      ]
     },
     "execution_count": 197,
     "metadata": {},
     "output_type": "execute_result"
    }
   ],
   "source": [
    "submit_file"
   ]
  },
  {
   "cell_type": "code",
   "execution_count": null,
   "metadata": {
    "collapsed": true
   },
   "outputs": [],
   "source": []
  }
 ],
 "metadata": {
  "kernelspec": {
   "display_name": "Python 3",
   "language": "python",
   "name": "python3"
  },
  "language_info": {
   "codemirror_mode": {
    "name": "ipython",
    "version": 3
   },
   "file_extension": ".py",
   "mimetype": "text/x-python",
   "name": "python",
   "nbconvert_exporter": "python",
   "pygments_lexer": "ipython3",
   "version": "3.6.3"
  }
 },
 "nbformat": 4,
 "nbformat_minor": 2
}
