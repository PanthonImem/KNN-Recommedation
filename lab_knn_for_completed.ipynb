{
  "nbformat": 4,
  "nbformat_minor": 0,
  "metadata": {
    "colab": {
      "name": "lab_knn_for_completed.ipynb",
      "version": "0.3.2",
      "provenance": [],
      "include_colab_link": true
    },
    "kernelspec": {
      "display_name": "Python 3",
      "language": "python",
      "name": "python3"
    }
  },
  "cells": [
    {
      "cell_type": "markdown",
      "metadata": {
        "id": "view-in-github",
        "colab_type": "text"
      },
      "source": [
        "[View in Colaboratory](https://colab.research.google.com/github/PanthonImem/KNN-Recommedation/blob/master/lab_knn_for_completed.ipynb)"
      ]
    },
    {
      "metadata": {
        "id": "ni_DsBdf2mpO",
        "colab_type": "text"
      },
      "cell_type": "markdown",
      "source": [
        "# Collaborative Filtering"
      ]
    },
    {
      "metadata": {
        "id": "07i13W-M2mpP",
        "colab_type": "text"
      },
      "cell_type": "markdown",
      "source": [
        "Concept of collaborative Filtering, predictions (filtering) about the interests of a user by collecting preferences or taste information from many users (collaborating).\n",
        "\n",
        "![alt text](https://upload.wikimedia.org/wikipedia/commons/thumb/5/52/Collaborative_filtering.gif/300px-Collaborative_filtering.gif)\n",
        "\n",
        "In this lab, we'll implement __knn__ for finding the nearest neighbors and predict rating for each project and user by using \"sklern\". We separate this lab to 3 parts\n",
        "- Data Preparation\n",
        "- Fiting Model\n",
        "- Prediction to recommend next projects\n",
        "\n",
        "Ref. https://en.wikipedia.org/wiki/Collaborative_filtering"
      ]
    },
    {
      "metadata": {
        "id": "Nhj83mAB2mpQ",
        "colab_type": "code",
        "colab": {}
      },
      "cell_type": "code",
      "source": [
        "# required library\n",
        "import pandas as pd\n",
        "import numpy as np\n",
        "import matplotlib.pyplot as plt\n",
        "import datetime"
      ],
      "execution_count": 0,
      "outputs": []
    },
    {
      "metadata": {
        "id": "5SmNYl9x2mpW",
        "colab_type": "code",
        "colab": {},
        "outputId": "efdd2a18-ac5f-4988-f825-954b9ee43a4c"
      },
      "cell_type": "code",
      "source": [
        "path = ''\n",
        "df = pd.read_csv(path+'userLog_201801_201802_for_participants.csv', delimiter = ';', error_bad_lines = False, low_memory = False)\n",
        "df.head(3)"
      ],
      "execution_count": 0,
      "outputs": [
        {
          "output_type": "execute_result",
          "data": {
            "text/html": [
              "<div>\n",
              "<style>\n",
              "    .dataframe thead tr:only-child th {\n",
              "        text-align: right;\n",
              "    }\n",
              "\n",
              "    .dataframe thead th {\n",
              "        text-align: left;\n",
              "    }\n",
              "\n",
              "    .dataframe tbody tr th {\n",
              "        vertical-align: top;\n",
              "    }\n",
              "</style>\n",
              "<table border=\"1\" class=\"dataframe\">\n",
              "  <thead>\n",
              "    <tr style=\"text-align: right;\">\n",
              "      <th></th>\n",
              "      <th>userCode</th>\n",
              "      <th>project_id</th>\n",
              "      <th>requestedDevice</th>\n",
              "      <th>userAgent</th>\n",
              "      <th>pageReferrer</th>\n",
              "      <th>year</th>\n",
              "      <th>month</th>\n",
              "      <th>day</th>\n",
              "      <th>hour</th>\n",
              "    </tr>\n",
              "  </thead>\n",
              "  <tbody>\n",
              "    <tr>\n",
              "      <th>0</th>\n",
              "      <td>7717bdc2-ea3e-e8ad-5d6b-178bd71c38b2</td>\n",
              "      <td>7956</td>\n",
              "      <td>Mobile</td>\n",
              "      <td>Android</td>\n",
              "      <td>HomeWebsite</td>\n",
              "      <td>2018</td>\n",
              "      <td>1</td>\n",
              "      <td>1</td>\n",
              "      <td>0</td>\n",
              "    </tr>\n",
              "    <tr>\n",
              "      <th>1</th>\n",
              "      <td>7717bdc2-ea3e-e8ad-5d6b-178bd71c38b2</td>\n",
              "      <td>7956</td>\n",
              "      <td>Mobile</td>\n",
              "      <td>Android</td>\n",
              "      <td>HomeWebsite</td>\n",
              "      <td>2018</td>\n",
              "      <td>1</td>\n",
              "      <td>1</td>\n",
              "      <td>0</td>\n",
              "    </tr>\n",
              "    <tr>\n",
              "      <th>2</th>\n",
              "      <td>cb5b4b68-cc01-6db6-f54b-4a0f881301c5</td>\n",
              "      <td>5067</td>\n",
              "      <td>Mobile</td>\n",
              "      <td>iPhone</td>\n",
              "      <td>HomeWebsite</td>\n",
              "      <td>2018</td>\n",
              "      <td>1</td>\n",
              "      <td>1</td>\n",
              "      <td>0</td>\n",
              "    </tr>\n",
              "  </tbody>\n",
              "</table>\n",
              "</div>"
            ],
            "text/plain": [
              "                               userCode  project_id requestedDevice userAgent  \\\n",
              "0  7717bdc2-ea3e-e8ad-5d6b-178bd71c38b2        7956          Mobile   Android   \n",
              "1  7717bdc2-ea3e-e8ad-5d6b-178bd71c38b2        7956          Mobile   Android   \n",
              "2  cb5b4b68-cc01-6db6-f54b-4a0f881301c5        5067          Mobile    iPhone   \n",
              "\n",
              "  pageReferrer  year  month  day  hour  \n",
              "0  HomeWebsite  2018      1    1     0  \n",
              "1  HomeWebsite  2018      1    1     0  \n",
              "2  HomeWebsite  2018      1    1     0  "
            ]
          },
          "metadata": {
            "tags": []
          },
          "execution_count": 3
        }
      ]
    },
    {
      "metadata": {
        "id": "5HYQS9632mpa",
        "colab_type": "code",
        "colab": {},
        "outputId": "90180f0b-2b68-4720-b1b4-b5aa92bb9486"
      },
      "cell_type": "code",
      "source": [
        "# Creat a small dataset for this workshop by randomly selecting n users.\n",
        "random_state = 100\n",
        "sample_users = set(df['userCode'].sample(n=10000, random_state=random_state))\n",
        "sample_data = df[df['userCode'].isin(sample_users)]\n",
        "sample_data.head(3)"
      ],
      "execution_count": 0,
      "outputs": [
        {
          "output_type": "execute_result",
          "data": {
            "text/html": [
              "<div>\n",
              "<style>\n",
              "    .dataframe thead tr:only-child th {\n",
              "        text-align: right;\n",
              "    }\n",
              "\n",
              "    .dataframe thead th {\n",
              "        text-align: left;\n",
              "    }\n",
              "\n",
              "    .dataframe tbody tr th {\n",
              "        vertical-align: top;\n",
              "    }\n",
              "</style>\n",
              "<table border=\"1\" class=\"dataframe\">\n",
              "  <thead>\n",
              "    <tr style=\"text-align: right;\">\n",
              "      <th></th>\n",
              "      <th>userCode</th>\n",
              "      <th>project_id</th>\n",
              "      <th>requestedDevice</th>\n",
              "      <th>userAgent</th>\n",
              "      <th>pageReferrer</th>\n",
              "      <th>year</th>\n",
              "      <th>month</th>\n",
              "      <th>day</th>\n",
              "      <th>hour</th>\n",
              "    </tr>\n",
              "  </thead>\n",
              "  <tbody>\n",
              "    <tr>\n",
              "      <th>77</th>\n",
              "      <td>3f0b3f64-468d-8411-efee-debb3facd532</td>\n",
              "      <td>8771</td>\n",
              "      <td>Desktop</td>\n",
              "      <td>Other_OS</td>\n",
              "      <td>Google</td>\n",
              "      <td>2018</td>\n",
              "      <td>1</td>\n",
              "      <td>1</td>\n",
              "      <td>0</td>\n",
              "    </tr>\n",
              "    <tr>\n",
              "      <th>101</th>\n",
              "      <td>6ca88f4c-0f1b-7b96-4c5b-ad3966dff12f</td>\n",
              "      <td>8439</td>\n",
              "      <td>Mobile</td>\n",
              "      <td>Android</td>\n",
              "      <td>HomeWebsite</td>\n",
              "      <td>2018</td>\n",
              "      <td>1</td>\n",
              "      <td>1</td>\n",
              "      <td>0</td>\n",
              "    </tr>\n",
              "    <tr>\n",
              "      <th>105</th>\n",
              "      <td>6ca88f4c-0f1b-7b96-4c5b-ad3966dff12f</td>\n",
              "      <td>8439</td>\n",
              "      <td>Mobile</td>\n",
              "      <td>Android</td>\n",
              "      <td>HomeWebsite</td>\n",
              "      <td>2018</td>\n",
              "      <td>1</td>\n",
              "      <td>1</td>\n",
              "      <td>0</td>\n",
              "    </tr>\n",
              "  </tbody>\n",
              "</table>\n",
              "</div>"
            ],
            "text/plain": [
              "                                 userCode  project_id requestedDevice  \\\n",
              "77   3f0b3f64-468d-8411-efee-debb3facd532        8771         Desktop   \n",
              "101  6ca88f4c-0f1b-7b96-4c5b-ad3966dff12f        8439          Mobile   \n",
              "105  6ca88f4c-0f1b-7b96-4c5b-ad3966dff12f        8439          Mobile   \n",
              "\n",
              "    userAgent pageReferrer  year  month  day  hour  \n",
              "77   Other_OS       Google  2018      1    1     0  \n",
              "101   Android  HomeWebsite  2018      1    1     0  \n",
              "105   Android  HomeWebsite  2018      1    1     0  "
            ]
          },
          "metadata": {
            "tags": []
          },
          "execution_count": 4
        }
      ]
    },
    {
      "metadata": {
        "id": "LKzBbBpH2mpf",
        "colab_type": "text"
      },
      "cell_type": "markdown",
      "source": [
        "### - Data Cleaning and Transformation"
      ]
    },
    {
      "metadata": {
        "id": "jMuHJ0I22mpg",
        "colab_type": "text"
      },
      "cell_type": "markdown",
      "source": [
        "Create visited datetime ?"
      ]
    },
    {
      "metadata": {
        "id": "X7RK3Stk2mph",
        "colab_type": "code",
        "colab": {},
        "outputId": "ea2dadef-5f67-4779-9cd1-e778fff447ad"
      },
      "cell_type": "code",
      "source": [
        "sample_data['datetime'] = sample_data.apply(lambda row : datetime.datetime(row['year'], row['month'], row['day'], row['hour']), axis=1)\n",
        "sample_data['date'] = sample_data['datetime'].map(lambda x : x.date())\n",
        "sample_data['yearmonth'] = sample_data['date'].map(lambda x: str(x.year) +'-'+ str(x.month).zfill(2))\n",
        "sample_data.head(3)"
      ],
      "execution_count": 0,
      "outputs": [
        {
          "output_type": "stream",
          "text": [
            "C:\\ProgramData\\Anaconda3\\lib\\site-packages\\ipykernel_launcher.py:1: SettingWithCopyWarning: \n",
            "A value is trying to be set on a copy of a slice from a DataFrame.\n",
            "Try using .loc[row_indexer,col_indexer] = value instead\n",
            "\n",
            "See the caveats in the documentation: http://pandas.pydata.org/pandas-docs/stable/indexing.html#indexing-view-versus-copy\n",
            "  \"\"\"Entry point for launching an IPython kernel.\n",
            "C:\\ProgramData\\Anaconda3\\lib\\site-packages\\ipykernel_launcher.py:2: SettingWithCopyWarning: \n",
            "A value is trying to be set on a copy of a slice from a DataFrame.\n",
            "Try using .loc[row_indexer,col_indexer] = value instead\n",
            "\n",
            "See the caveats in the documentation: http://pandas.pydata.org/pandas-docs/stable/indexing.html#indexing-view-versus-copy\n",
            "  \n",
            "C:\\ProgramData\\Anaconda3\\lib\\site-packages\\ipykernel_launcher.py:3: SettingWithCopyWarning: \n",
            "A value is trying to be set on a copy of a slice from a DataFrame.\n",
            "Try using .loc[row_indexer,col_indexer] = value instead\n",
            "\n",
            "See the caveats in the documentation: http://pandas.pydata.org/pandas-docs/stable/indexing.html#indexing-view-versus-copy\n",
            "  This is separate from the ipykernel package so we can avoid doing imports until\n"
          ],
          "name": "stderr"
        },
        {
          "output_type": "execute_result",
          "data": {
            "text/html": [
              "<div>\n",
              "<style>\n",
              "    .dataframe thead tr:only-child th {\n",
              "        text-align: right;\n",
              "    }\n",
              "\n",
              "    .dataframe thead th {\n",
              "        text-align: left;\n",
              "    }\n",
              "\n",
              "    .dataframe tbody tr th {\n",
              "        vertical-align: top;\n",
              "    }\n",
              "</style>\n",
              "<table border=\"1\" class=\"dataframe\">\n",
              "  <thead>\n",
              "    <tr style=\"text-align: right;\">\n",
              "      <th></th>\n",
              "      <th>userCode</th>\n",
              "      <th>project_id</th>\n",
              "      <th>requestedDevice</th>\n",
              "      <th>userAgent</th>\n",
              "      <th>pageReferrer</th>\n",
              "      <th>year</th>\n",
              "      <th>month</th>\n",
              "      <th>day</th>\n",
              "      <th>hour</th>\n",
              "      <th>datetime</th>\n",
              "      <th>date</th>\n",
              "      <th>yearmonth</th>\n",
              "    </tr>\n",
              "  </thead>\n",
              "  <tbody>\n",
              "    <tr>\n",
              "      <th>77</th>\n",
              "      <td>3f0b3f64-468d-8411-efee-debb3facd532</td>\n",
              "      <td>8771</td>\n",
              "      <td>Desktop</td>\n",
              "      <td>Other_OS</td>\n",
              "      <td>Google</td>\n",
              "      <td>2018</td>\n",
              "      <td>1</td>\n",
              "      <td>1</td>\n",
              "      <td>0</td>\n",
              "      <td>2018-01-01</td>\n",
              "      <td>2018-01-01</td>\n",
              "      <td>2018-01</td>\n",
              "    </tr>\n",
              "    <tr>\n",
              "      <th>101</th>\n",
              "      <td>6ca88f4c-0f1b-7b96-4c5b-ad3966dff12f</td>\n",
              "      <td>8439</td>\n",
              "      <td>Mobile</td>\n",
              "      <td>Android</td>\n",
              "      <td>HomeWebsite</td>\n",
              "      <td>2018</td>\n",
              "      <td>1</td>\n",
              "      <td>1</td>\n",
              "      <td>0</td>\n",
              "      <td>2018-01-01</td>\n",
              "      <td>2018-01-01</td>\n",
              "      <td>2018-01</td>\n",
              "    </tr>\n",
              "    <tr>\n",
              "      <th>105</th>\n",
              "      <td>6ca88f4c-0f1b-7b96-4c5b-ad3966dff12f</td>\n",
              "      <td>8439</td>\n",
              "      <td>Mobile</td>\n",
              "      <td>Android</td>\n",
              "      <td>HomeWebsite</td>\n",
              "      <td>2018</td>\n",
              "      <td>1</td>\n",
              "      <td>1</td>\n",
              "      <td>0</td>\n",
              "      <td>2018-01-01</td>\n",
              "      <td>2018-01-01</td>\n",
              "      <td>2018-01</td>\n",
              "    </tr>\n",
              "  </tbody>\n",
              "</table>\n",
              "</div>"
            ],
            "text/plain": [
              "                                 userCode  project_id requestedDevice  \\\n",
              "77   3f0b3f64-468d-8411-efee-debb3facd532        8771         Desktop   \n",
              "101  6ca88f4c-0f1b-7b96-4c5b-ad3966dff12f        8439          Mobile   \n",
              "105  6ca88f4c-0f1b-7b96-4c5b-ad3966dff12f        8439          Mobile   \n",
              "\n",
              "    userAgent pageReferrer  year  month  day  hour   datetime        date  \\\n",
              "77   Other_OS       Google  2018      1    1     0 2018-01-01  2018-01-01   \n",
              "101   Android  HomeWebsite  2018      1    1     0 2018-01-01  2018-01-01   \n",
              "105   Android  HomeWebsite  2018      1    1     0 2018-01-01  2018-01-01   \n",
              "\n",
              "    yearmonth  \n",
              "77    2018-01  \n",
              "101   2018-01  \n",
              "105   2018-01  "
            ]
          },
          "metadata": {
            "tags": []
          },
          "execution_count": 5
        }
      ]
    },
    {
      "metadata": {
        "id": "oDy50AN12mpk",
        "colab_type": "text"
      },
      "cell_type": "markdown",
      "source": [
        "Clean data: \n",
        "- remove the projects that have less than 30 users.\n",
        "There are other methods to clean the data, sometimes depending on your model."
      ]
    },
    {
      "metadata": {
        "id": "RYnVPiBg2mpl",
        "colab_type": "code",
        "colab": {},
        "outputId": "77006137-ef92-4940-9f10-c4c3cd434404"
      },
      "cell_type": "code",
      "source": [
        "min_interacted = 30\n",
        "project_count = sample_data.groupby(['project_id']).size()\n",
        "ignore_project = set(project_count[project_count > min_interacted].index)\n",
        "print(len(ignore_project))\n",
        "\n",
        "df_filter = sample_data[~sample_data['project_id'].isin(ignore_project)]\n",
        "df_filter.head(3)"
      ],
      "execution_count": 0,
      "outputs": [
        {
          "output_type": "stream",
          "text": [
            "1288\n"
          ],
          "name": "stdout"
        },
        {
          "output_type": "execute_result",
          "data": {
            "text/html": [
              "<div>\n",
              "<style>\n",
              "    .dataframe thead tr:only-child th {\n",
              "        text-align: right;\n",
              "    }\n",
              "\n",
              "    .dataframe thead th {\n",
              "        text-align: left;\n",
              "    }\n",
              "\n",
              "    .dataframe tbody tr th {\n",
              "        vertical-align: top;\n",
              "    }\n",
              "</style>\n",
              "<table border=\"1\" class=\"dataframe\">\n",
              "  <thead>\n",
              "    <tr style=\"text-align: right;\">\n",
              "      <th></th>\n",
              "      <th>userCode</th>\n",
              "      <th>project_id</th>\n",
              "      <th>requestedDevice</th>\n",
              "      <th>userAgent</th>\n",
              "      <th>pageReferrer</th>\n",
              "      <th>year</th>\n",
              "      <th>month</th>\n",
              "      <th>day</th>\n",
              "      <th>hour</th>\n",
              "      <th>datetime</th>\n",
              "      <th>date</th>\n",
              "      <th>yearmonth</th>\n",
              "    </tr>\n",
              "  </thead>\n",
              "  <tbody>\n",
              "    <tr>\n",
              "      <th>77</th>\n",
              "      <td>3f0b3f64-468d-8411-efee-debb3facd532</td>\n",
              "      <td>8771</td>\n",
              "      <td>Desktop</td>\n",
              "      <td>Other_OS</td>\n",
              "      <td>Google</td>\n",
              "      <td>2018</td>\n",
              "      <td>1</td>\n",
              "      <td>1</td>\n",
              "      <td>0</td>\n",
              "      <td>2018-01-01 00:00:00</td>\n",
              "      <td>2018-01-01</td>\n",
              "      <td>2018-01</td>\n",
              "    </tr>\n",
              "    <tr>\n",
              "      <th>334</th>\n",
              "      <td>16cde5e8-98ff-6be6-5f60-82bb6681673d</td>\n",
              "      <td>2096</td>\n",
              "      <td>Mobile</td>\n",
              "      <td>Android</td>\n",
              "      <td>HomeWebsite</td>\n",
              "      <td>2018</td>\n",
              "      <td>1</td>\n",
              "      <td>1</td>\n",
              "      <td>1</td>\n",
              "      <td>2018-01-01 01:00:00</td>\n",
              "      <td>2018-01-01</td>\n",
              "      <td>2018-01</td>\n",
              "    </tr>\n",
              "    <tr>\n",
              "      <th>338</th>\n",
              "      <td>16cde5e8-98ff-6be6-5f60-82bb6681673d</td>\n",
              "      <td>2096</td>\n",
              "      <td>Mobile</td>\n",
              "      <td>Android</td>\n",
              "      <td>HomeWebsite</td>\n",
              "      <td>2018</td>\n",
              "      <td>1</td>\n",
              "      <td>1</td>\n",
              "      <td>1</td>\n",
              "      <td>2018-01-01 01:00:00</td>\n",
              "      <td>2018-01-01</td>\n",
              "      <td>2018-01</td>\n",
              "    </tr>\n",
              "  </tbody>\n",
              "</table>\n",
              "</div>"
            ],
            "text/plain": [
              "                                 userCode  project_id requestedDevice  \\\n",
              "77   3f0b3f64-468d-8411-efee-debb3facd532        8771         Desktop   \n",
              "334  16cde5e8-98ff-6be6-5f60-82bb6681673d        2096          Mobile   \n",
              "338  16cde5e8-98ff-6be6-5f60-82bb6681673d        2096          Mobile   \n",
              "\n",
              "    userAgent pageReferrer  year  month  day  hour            datetime  \\\n",
              "77   Other_OS       Google  2018      1    1     0 2018-01-01 00:00:00   \n",
              "334   Android  HomeWebsite  2018      1    1     1 2018-01-01 01:00:00   \n",
              "338   Android  HomeWebsite  2018      1    1     1 2018-01-01 01:00:00   \n",
              "\n",
              "           date yearmonth  \n",
              "77   2018-01-01   2018-01  \n",
              "334  2018-01-01   2018-01  \n",
              "338  2018-01-01   2018-01  "
            ]
          },
          "metadata": {
            "tags": []
          },
          "execution_count": 6
        }
      ]
    },
    {
      "metadata": {
        "id": "3Z3vAMoK2mpo",
        "colab_type": "code",
        "colab": {}
      },
      "cell_type": "code",
      "source": [
        "# optional, you can clean data by yourself. For example, you can remove users who have viewed less than x projects here.\n",
        "df_filter = <FILL IN>"
      ],
      "execution_count": 0,
      "outputs": []
    },
    {
      "metadata": {
        "id": "fIlBaKvj2mpq",
        "colab_type": "text"
      },
      "cell_type": "markdown",
      "source": [
        "### - Split training-testing dataset\n",
        "In this example, we use a date to split the data into train and test set."
      ]
    },
    {
      "metadata": {
        "id": "oaXJHS2Y2mpr",
        "colab_type": "code",
        "colab": {}
      },
      "cell_type": "code",
      "source": [
        "def SplitTrainTest(df, date):\n",
        "    \n",
        "    df['interacted'] = 1\n",
        "    df_train = df[df.date <  date]\n",
        "    df_test = df[df.date >=  date].sort_values(by = ['userCode', 'datetime'])\n",
        "    \n",
        "    # projects which are in training datasets\n",
        "    project_train = set(df_train['project_id'].values)\n",
        "    df_test = df_test[df_test['project_id'].isin(project_train)]\n",
        "    \n",
        "    # users which are in training datasets\n",
        "    user_train = set(df_train['userCode'].values)\n",
        "    df_test = df_test[df_test['userCode'].isin(user_train)]\n",
        "    \n",
        "    print('# of train dataset:', len(df_train))\n",
        "    print('# of test dataset:', len(df_test))\n",
        "\n",
        "    return df_train, df_test"
      ],
      "execution_count": 0,
      "outputs": []
    },
    {
      "metadata": {
        "id": "ywMKXJBs2mpt",
        "colab_type": "code",
        "colab": {},
        "outputId": "5040010e-361f-4c6e-9f02-216c4f62efbd"
      },
      "cell_type": "code",
      "source": [
        "date_ = datetime.date(2018, 2, 20)\n",
        "df_train, df_test_full = SplitTrainTest(df_filter, date = date_)"
      ],
      "execution_count": 0,
      "outputs": [
        {
          "output_type": "stream",
          "text": [
            "# of train dataset: 39970\n",
            "# of test dataset: 2461\n"
          ],
          "name": "stdout"
        },
        {
          "output_type": "stream",
          "text": [
            "C:\\ProgramData\\Anaconda3\\lib\\site-packages\\ipykernel_launcher.py:3: SettingWithCopyWarning: \n",
            "A value is trying to be set on a copy of a slice from a DataFrame.\n",
            "Try using .loc[row_indexer,col_indexer] = value instead\n",
            "\n",
            "See the caveats in the documentation: http://pandas.pydata.org/pandas-docs/stable/indexing.html#indexing-view-versus-copy\n",
            "  This is separate from the ipykernel package so we can avoid doing imports until\n"
          ],
          "name": "stderr"
        }
      ]
    },
    {
      "metadata": {
        "id": "Bj3OzLtE2mpx",
        "colab_type": "code",
        "colab": {},
        "outputId": "d1a6d378-1d51-409e-b51b-e14945aabb4c"
      },
      "cell_type": "code",
      "source": [
        "# Set 'userCode' as an index for convinience.\n",
        "df_test_indexed = df_test_full[['userCode', 'project_id', 'interacted']].drop_duplicates().set_index('userCode')\n",
        "df_test_indexed.head(3)"
      ],
      "execution_count": 0,
      "outputs": [
        {
          "output_type": "execute_result",
          "data": {
            "text/html": [
              "<div>\n",
              "<style>\n",
              "    .dataframe thead tr:only-child th {\n",
              "        text-align: right;\n",
              "    }\n",
              "\n",
              "    .dataframe thead th {\n",
              "        text-align: left;\n",
              "    }\n",
              "\n",
              "    .dataframe tbody tr th {\n",
              "        vertical-align: top;\n",
              "    }\n",
              "</style>\n",
              "<table border=\"1\" class=\"dataframe\">\n",
              "  <thead>\n",
              "    <tr style=\"text-align: right;\">\n",
              "      <th></th>\n",
              "      <th>project_id</th>\n",
              "      <th>interacted</th>\n",
              "    </tr>\n",
              "    <tr>\n",
              "      <th>userCode</th>\n",
              "      <th></th>\n",
              "      <th></th>\n",
              "    </tr>\n",
              "  </thead>\n",
              "  <tbody>\n",
              "    <tr>\n",
              "      <th>01609e98-4aa1-40a6-cb62-5cfa8478f7e4</th>\n",
              "      <td>5883</td>\n",
              "      <td>1</td>\n",
              "    </tr>\n",
              "    <tr>\n",
              "      <th>02cae1e4-f73f-958e-03cd-3ca3b04b451d</th>\n",
              "      <td>7409</td>\n",
              "      <td>1</td>\n",
              "    </tr>\n",
              "    <tr>\n",
              "      <th>0383072a-6827-1246-6490-39fc4d46bcdd</th>\n",
              "      <td>6824</td>\n",
              "      <td>1</td>\n",
              "    </tr>\n",
              "  </tbody>\n",
              "</table>\n",
              "</div>"
            ],
            "text/plain": [
              "                                      project_id  interacted\n",
              "userCode                                                    \n",
              "01609e98-4aa1-40a6-cb62-5cfa8478f7e4        5883           1\n",
              "02cae1e4-f73f-958e-03cd-3ca3b04b451d        7409           1\n",
              "0383072a-6827-1246-6490-39fc4d46bcdd        6824           1"
            ]
          },
          "metadata": {
            "tags": []
          },
          "execution_count": 9
        }
      ]
    },
    {
      "metadata": {
        "id": "M7mThItp2mp0",
        "colab_type": "text"
      },
      "cell_type": "markdown",
      "source": [
        "## Data Preparation\n",
        "In this part, we'll create user-item matrix for calculating similarity between each pair of users. \n",
        "As a simple case, let's create a binary user-item matrix where 1 indicates there is an interaction (view) and 0 otherwise.\n",
        "You can define the interaction values differently. Here are some examples:\n",
        "- rating (no. of views) matrix\n",
        "- rating (no. of views) + user profile matrix.\n",
        "You can try the above options later in the workshop."
      ]
    },
    {
      "metadata": {
        "id": "Fh8VT63u2mp0",
        "colab_type": "text"
      },
      "cell_type": "markdown",
      "source": [
        "### - Case 1: 0/1 matrix\n",
        "This part we'll prepare interacted data to identify interacted projects for each users. We need data like below format.\n",
        "```\n",
        "|------------+---+---+---+----+---|\n",
        "| project_id | 1 | 2 | 3 | .. | j |\n",
        "| userCode   |   |   |   |    |   |\n",
        "|------------+---+---+---+----+---|\n",
        "| user A     | 1 | 0 | 0 | .. | 1 |\n",
        "| user B     | 0 | 1 | 0 | .. | 1 |\n",
        "| user C     | 0 | 0 | 1 | .. | 0 |\n",
        "|  ..        | . | . | . | .. | . |\n",
        "|------------+---+---+---+----+---|\n",
        "\n",
        "```\n",
        "\n",
        "- 1 means that user interacted that project\n",
        "- 0 means that user didn't interact that project"
      ]
    },
    {
      "metadata": {
        "id": "BsXyStl-2mp1",
        "colab_type": "code",
        "colab": {},
        "outputId": "31cadd97-9d8e-4a5b-d1b5-8f5556e05680"
      },
      "cell_type": "code",
      "source": [
        "# Convert the dataframe into a matrix using pivot() and set index of df_train for fast search \n",
        "df_train_indexed = df_train[['userCode', 'project_id', 'interacted']].drop_duplicates()\n",
        "df_train_pivot = (df_train_indexed.pivot(index = 'userCode', columns = 'project_id', values = 'interacted')\n",
        "                                  .fillna(0))\n",
        "df_train_pivot.head(3)"
      ],
      "execution_count": 0,
      "outputs": [
        {
          "output_type": "execute_result",
          "data": {
            "text/html": [
              "<div>\n",
              "<style>\n",
              "    .dataframe thead tr:only-child th {\n",
              "        text-align: right;\n",
              "    }\n",
              "\n",
              "    .dataframe thead th {\n",
              "        text-align: left;\n",
              "    }\n",
              "\n",
              "    .dataframe tbody tr th {\n",
              "        vertical-align: top;\n",
              "    }\n",
              "</style>\n",
              "<table border=\"1\" class=\"dataframe\">\n",
              "  <thead>\n",
              "    <tr style=\"text-align: right;\">\n",
              "      <th>project_id</th>\n",
              "      <th>24</th>\n",
              "      <th>29</th>\n",
              "      <th>41</th>\n",
              "      <th>45</th>\n",
              "      <th>133</th>\n",
              "      <th>141</th>\n",
              "      <th>156</th>\n",
              "      <th>157</th>\n",
              "      <th>161</th>\n",
              "      <th>189</th>\n",
              "      <th>...</th>\n",
              "      <th>9458</th>\n",
              "      <th>9459</th>\n",
              "      <th>9460</th>\n",
              "      <th>9461</th>\n",
              "      <th>9469</th>\n",
              "      <th>9471</th>\n",
              "      <th>9474</th>\n",
              "      <th>9477</th>\n",
              "      <th>9478</th>\n",
              "      <th>9484</th>\n",
              "    </tr>\n",
              "    <tr>\n",
              "      <th>userCode</th>\n",
              "      <th></th>\n",
              "      <th></th>\n",
              "      <th></th>\n",
              "      <th></th>\n",
              "      <th></th>\n",
              "      <th></th>\n",
              "      <th></th>\n",
              "      <th></th>\n",
              "      <th></th>\n",
              "      <th></th>\n",
              "      <th></th>\n",
              "      <th></th>\n",
              "      <th></th>\n",
              "      <th></th>\n",
              "      <th></th>\n",
              "      <th></th>\n",
              "      <th></th>\n",
              "      <th></th>\n",
              "      <th></th>\n",
              "      <th></th>\n",
              "      <th></th>\n",
              "    </tr>\n",
              "  </thead>\n",
              "  <tbody>\n",
              "    <tr>\n",
              "      <th>00051896-b6d5-27b2-1590-6445018f084b</th>\n",
              "      <td>0.0</td>\n",
              "      <td>0.0</td>\n",
              "      <td>0.0</td>\n",
              "      <td>0.0</td>\n",
              "      <td>0.0</td>\n",
              "      <td>0.0</td>\n",
              "      <td>0.0</td>\n",
              "      <td>0.0</td>\n",
              "      <td>0.0</td>\n",
              "      <td>0.0</td>\n",
              "      <td>...</td>\n",
              "      <td>0.0</td>\n",
              "      <td>0.0</td>\n",
              "      <td>0.0</td>\n",
              "      <td>0.0</td>\n",
              "      <td>0.0</td>\n",
              "      <td>0.0</td>\n",
              "      <td>0.0</td>\n",
              "      <td>0.0</td>\n",
              "      <td>0.0</td>\n",
              "      <td>0.0</td>\n",
              "    </tr>\n",
              "    <tr>\n",
              "      <th>0009bd21-7539-62ff-f653-a6f6bac25380</th>\n",
              "      <td>0.0</td>\n",
              "      <td>0.0</td>\n",
              "      <td>0.0</td>\n",
              "      <td>0.0</td>\n",
              "      <td>0.0</td>\n",
              "      <td>0.0</td>\n",
              "      <td>0.0</td>\n",
              "      <td>0.0</td>\n",
              "      <td>0.0</td>\n",
              "      <td>0.0</td>\n",
              "      <td>...</td>\n",
              "      <td>0.0</td>\n",
              "      <td>0.0</td>\n",
              "      <td>0.0</td>\n",
              "      <td>0.0</td>\n",
              "      <td>0.0</td>\n",
              "      <td>0.0</td>\n",
              "      <td>0.0</td>\n",
              "      <td>0.0</td>\n",
              "      <td>0.0</td>\n",
              "      <td>0.0</td>\n",
              "    </tr>\n",
              "    <tr>\n",
              "      <th>0014f96a-b816-5b96-af31-e7268b46061d</th>\n",
              "      <td>0.0</td>\n",
              "      <td>0.0</td>\n",
              "      <td>0.0</td>\n",
              "      <td>0.0</td>\n",
              "      <td>0.0</td>\n",
              "      <td>0.0</td>\n",
              "      <td>0.0</td>\n",
              "      <td>0.0</td>\n",
              "      <td>0.0</td>\n",
              "      <td>0.0</td>\n",
              "      <td>...</td>\n",
              "      <td>0.0</td>\n",
              "      <td>0.0</td>\n",
              "      <td>0.0</td>\n",
              "      <td>0.0</td>\n",
              "      <td>0.0</td>\n",
              "      <td>0.0</td>\n",
              "      <td>0.0</td>\n",
              "      <td>0.0</td>\n",
              "      <td>0.0</td>\n",
              "      <td>0.0</td>\n",
              "    </tr>\n",
              "  </tbody>\n",
              "</table>\n",
              "<p>3 rows × 3853 columns</p>\n",
              "</div>"
            ],
            "text/plain": [
              "project_id                            24    29    41    45    133   141   \\\n",
              "userCode                                                                   \n",
              "00051896-b6d5-27b2-1590-6445018f084b   0.0   0.0   0.0   0.0   0.0   0.0   \n",
              "0009bd21-7539-62ff-f653-a6f6bac25380   0.0   0.0   0.0   0.0   0.0   0.0   \n",
              "0014f96a-b816-5b96-af31-e7268b46061d   0.0   0.0   0.0   0.0   0.0   0.0   \n",
              "\n",
              "project_id                            156   157   161   189   ...   9458  \\\n",
              "userCode                                                      ...          \n",
              "00051896-b6d5-27b2-1590-6445018f084b   0.0   0.0   0.0   0.0  ...    0.0   \n",
              "0009bd21-7539-62ff-f653-a6f6bac25380   0.0   0.0   0.0   0.0  ...    0.0   \n",
              "0014f96a-b816-5b96-af31-e7268b46061d   0.0   0.0   0.0   0.0  ...    0.0   \n",
              "\n",
              "project_id                            9459  9460  9461  9469  9471  9474  \\\n",
              "userCode                                                                   \n",
              "00051896-b6d5-27b2-1590-6445018f084b   0.0   0.0   0.0   0.0   0.0   0.0   \n",
              "0009bd21-7539-62ff-f653-a6f6bac25380   0.0   0.0   0.0   0.0   0.0   0.0   \n",
              "0014f96a-b816-5b96-af31-e7268b46061d   0.0   0.0   0.0   0.0   0.0   0.0   \n",
              "\n",
              "project_id                            9477  9478  9484  \n",
              "userCode                                                \n",
              "00051896-b6d5-27b2-1590-6445018f084b   0.0   0.0   0.0  \n",
              "0009bd21-7539-62ff-f653-a6f6bac25380   0.0   0.0   0.0  \n",
              "0014f96a-b816-5b96-af31-e7268b46061d   0.0   0.0   0.0  \n",
              "\n",
              "[3 rows x 3853 columns]"
            ]
          },
          "metadata": {
            "tags": []
          },
          "execution_count": 10
        }
      ]
    },
    {
      "metadata": {
        "id": "ubbW9xKY2mp6",
        "colab_type": "code",
        "colab": {},
        "outputId": "0bed0524-3646-445e-c6ac-6b907f2af991"
      },
      "cell_type": "code",
      "source": [
        "df_train_matrix = df_train_pivot.values\n",
        "df_train_matrix.shape"
      ],
      "execution_count": 0,
      "outputs": [
        {
          "output_type": "execute_result",
          "data": {
            "text/plain": [
              "(4566, 3853)"
            ]
          },
          "metadata": {
            "tags": []
          },
          "execution_count": 11
        }
      ]
    },
    {
      "metadata": {
        "id": "3hYJCHfh2mp9",
        "colab_type": "code",
        "colab": {},
        "outputId": "fb634918-cdd4-403d-f5b5-63b0de767051"
      },
      "cell_type": "code",
      "source": [
        "df_train_indexed = df_train_indexed.set_index('userCode')\n",
        "df_train_indexed.head(3)"
      ],
      "execution_count": 0,
      "outputs": [
        {
          "output_type": "execute_result",
          "data": {
            "text/html": [
              "<div>\n",
              "<style>\n",
              "    .dataframe thead tr:only-child th {\n",
              "        text-align: right;\n",
              "    }\n",
              "\n",
              "    .dataframe thead th {\n",
              "        text-align: left;\n",
              "    }\n",
              "\n",
              "    .dataframe tbody tr th {\n",
              "        vertical-align: top;\n",
              "    }\n",
              "</style>\n",
              "<table border=\"1\" class=\"dataframe\">\n",
              "  <thead>\n",
              "    <tr style=\"text-align: right;\">\n",
              "      <th></th>\n",
              "      <th>project_id</th>\n",
              "      <th>interacted</th>\n",
              "    </tr>\n",
              "    <tr>\n",
              "      <th>userCode</th>\n",
              "      <th></th>\n",
              "      <th></th>\n",
              "    </tr>\n",
              "  </thead>\n",
              "  <tbody>\n",
              "    <tr>\n",
              "      <th>3f0b3f64-468d-8411-efee-debb3facd532</th>\n",
              "      <td>8771</td>\n",
              "      <td>1</td>\n",
              "    </tr>\n",
              "    <tr>\n",
              "      <th>16cde5e8-98ff-6be6-5f60-82bb6681673d</th>\n",
              "      <td>2096</td>\n",
              "      <td>1</td>\n",
              "    </tr>\n",
              "    <tr>\n",
              "      <th>9d96b60e-0d17-2db4-4146-bb334c92e8ab</th>\n",
              "      <td>4449</td>\n",
              "      <td>1</td>\n",
              "    </tr>\n",
              "  </tbody>\n",
              "</table>\n",
              "</div>"
            ],
            "text/plain": [
              "                                      project_id  interacted\n",
              "userCode                                                    \n",
              "3f0b3f64-468d-8411-efee-debb3facd532        8771           1\n",
              "16cde5e8-98ff-6be6-5f60-82bb6681673d        2096           1\n",
              "9d96b60e-0d17-2db4-4146-bb334c92e8ab        4449           1"
            ]
          },
          "metadata": {
            "tags": []
          },
          "execution_count": 12
        }
      ]
    },
    {
      "metadata": {
        "id": "iseIEboE2mqC",
        "colab_type": "text"
      },
      "cell_type": "markdown",
      "source": [
        "## Implementing KNN for recommender system\n",
        "In this part, we use sklearn for running a knn algorithm. For more infomation, http://scikit-learn.org/stable/modules/generated/sklearn.neighbors.KNeighborsClassifier.html"
      ]
    },
    {
      "metadata": {
        "id": "qUTz243c2mqD",
        "colab_type": "text"
      },
      "cell_type": "markdown",
      "source": [
        "### - Fitting model"
      ]
    },
    {
      "metadata": {
        "id": "k06F8BMt2mqE",
        "colab_type": "code",
        "colab": {},
        "collapsed": true
      },
      "cell_type": "code",
      "source": [
        "# import the library for building a knn model\n",
        "from sklearn.neighbors import NearestNeighbors"
      ],
      "execution_count": 0,
      "outputs": []
    },
    {
      "metadata": {
        "id": "836gy8_u2mqH",
        "colab_type": "text"
      },
      "cell_type": "markdown",
      "source": [
        "------------------------------------------------------------------------------------------\n",
        "#### Now let's use NearestNeighbor based models in sklearn to fit our data **\n",
        "\n",
        "For more infomation, http://scikit-learn.org/stable/modules/generated/sklearn.neighbors.KNeighborsClassifier.html\n",
        "\n",
        "------------------------------------------------------------------------------------------"
      ]
    },
    {
      "metadata": {
        "id": "b7lv8Far2mqI",
        "colab_type": "code",
        "colab": {},
        "collapsed": true
      },
      "cell_type": "code",
      "source": [
        "n_neighbors = 30 # you can define number of neighbors here.\n",
        "metric = 'jaccard' # you can change to other metric for calculate similarity here."
      ],
      "execution_count": 0,
      "outputs": []
    },
    {
      "metadata": {
        "id": "97orqO_w2mqN",
        "colab_type": "code",
        "colab": {},
        "collapsed": true
      },
      "cell_type": "code",
      "source": [
        "# Build the model\n",
        "knn = NearestNeighbors(metric = metric\n",
        "                        , algorithm = 'brute'\n",
        "                        ,  n_neighbors = n_neighbors)"
      ],
      "execution_count": 0,
      "outputs": []
    },
    {
      "metadata": {
        "id": "l2Poo5nx2mqP",
        "colab_type": "code",
        "colab": {},
        "outputId": "29f016cf-0695-4e17-f72f-285437c20f5b"
      },
      "cell_type": "code",
      "source": [
        "knn.fit(df_train_matrix)"
      ],
      "execution_count": 0,
      "outputs": [
        {
          "output_type": "execute_result",
          "data": {
            "text/plain": [
              "NearestNeighbors(algorithm='brute', leaf_size=30, metric='jaccard',\n",
              "         metric_params=None, n_jobs=1, n_neighbors=30, p=2, radius=1.0)"
            ]
          },
          "metadata": {
            "tags": []
          },
          "execution_count": 181
        }
      ]
    },
    {
      "metadata": {
        "id": "uDL3oJYf2mqV",
        "colab_type": "text"
      },
      "cell_type": "markdown",
      "source": [
        "### - Finding k nearest neighbors and get their ratings of each project\n",
        "- __Input:__ user_id\n",
        "- __Output:__ distance and indices of k nearest neighbors"
      ]
    },
    {
      "metadata": {
        "id": "gWRSHOnh2mqX",
        "colab_type": "code",
        "colab": {},
        "collapsed": true
      },
      "cell_type": "code",
      "source": [
        "user_id = '435f1a34-21ca-d605-0968-cb1b5b3f9aeb'"
      ],
      "execution_count": 0,
      "outputs": []
    },
    {
      "metadata": {
        "id": "t1NT4qBb2mqZ",
        "colab_type": "code",
        "colab": {},
        "outputId": "b6ac8ab2-3273-4014-cc13-3240f1215264"
      },
      "cell_type": "code",
      "source": [
        "distances, indices = knn.kneighbors(df_train_pivot[df_train_pivot.index == user_id].iloc[0].values.reshape(1, -1)\n",
        "                                     , n_neighbors = n_neighbors)\n",
        "print('distance:', distances)\n",
        "print('indices:', indices)"
      ],
      "execution_count": 0,
      "outputs": [
        {
          "output_type": "stream",
          "text": [
            "C:\\ProgramData\\Anaconda3\\lib\\site-packages\\sklearn\\utils\\validation.py:475: DataConversionWarning: Data with input dtype float64 was converted to bool by check_pairwise_arrays.\n",
            "  warnings.warn(msg, DataConversionWarning)\n"
          ],
          "name": "stderr"
        },
        {
          "output_type": "stream",
          "text": [
            "distance: [[ 0.          0.          0.5         0.5         0.66666667  0.8\n",
            "   0.83333333  0.875       0.95238095  0.99354839  0.9984252   1.          1.\n",
            "   1.          1.          1.          1.          1.          1.          1.\n",
            "   1.          1.          1.          1.          1.          1.          1.\n",
            "   1.          1.          1.        ]]\n",
            "indices: [[3441 1220 3405 2620 4472  997 1663 2175 2402  858 2759 3047 3060 3045\n",
            "  3044 3064 3055 3056 3057 3041 3042 3053 3040 3039 3065 3038 3048 3046\n",
            "  3043 3058]]\n"
          ],
          "name": "stdout"
        }
      ]
    },
    {
      "metadata": {
        "id": "9n1izJ_u2mqd",
        "colab_type": "text"
      },
      "cell_type": "markdown",
      "source": [
        "** get interacted values of k nearest neighbors by indices and calculate rating for each project."
      ]
    },
    {
      "metadata": {
        "id": "0E3uePvW2mqd",
        "colab_type": "code",
        "colab": {},
        "outputId": "62e8ca25-8ebc-4488-90e4-691b8622c7a8"
      },
      "cell_type": "code",
      "source": [
        "k_rating_matrix = df_train_matrix[indices,]\n",
        "k_rating_matrix.shape "
      ],
      "execution_count": 0,
      "outputs": [
        {
          "output_type": "execute_result",
          "data": {
            "text/plain": [
              "(1, 30, 3853)"
            ]
          },
          "metadata": {
            "tags": []
          },
          "execution_count": 184
        }
      ]
    },
    {
      "metadata": {
        "id": "bBB0LDfQ2mqg",
        "colab_type": "code",
        "colab": {},
        "outputId": "916ab6d1-dd9c-48b7-a055-9cf94367359d"
      },
      "cell_type": "code",
      "source": [
        "k_rating = sum(k_rating_matrix)\n",
        "k_weight_rating = sum(k_rating)/n_neighbors\n",
        "print(k_weight_rating)\n",
        "print(k_weight_rating.shape)"
      ],
      "execution_count": 0,
      "outputs": [
        {
          "output_type": "stream",
          "text": [
            "[ 0.  0.  0. ...,  0.  0.  0.]\n",
            "(3853,)\n"
          ],
          "name": "stdout"
        }
      ]
    },
    {
      "metadata": {
        "id": "fTCgKnT62mqj",
        "colab_type": "text"
      },
      "cell_type": "markdown",
      "source": [
        "------------------------------------------------------------------------------------------\n",
        "__! TO DO: Calculate \"k_weight_rating\" by using distance to weight rating **__\n",
        "\n",
        "\n",
        "$$ k_{weight\\_rating} =\\frac{ \\sum  (k_{rating}\\cdot \\frac{1}{{distance}^2}) }{\\sum\\frac{1}{{distance}^2} } or \\frac{ \\sum  (k_{rating}\\cdot {{(1-distance)}}) }{\\sum{{(1-distance)}} }$$ \n",
        "\n",
        "------------------------------------------------------------------------------------------"
      ]
    },
    {
      "metadata": {
        "id": "xH4xfKC62mqj",
        "colab_type": "code",
        "colab": {},
        "collapsed": true
      },
      "cell_type": "code",
      "source": [
        "# optional, you can create k_weight_rating\n",
        "k_weight_rating = <FILL IN>"
      ],
      "execution_count": 0,
      "outputs": []
    },
    {
      "metadata": {
        "id": "kBwoJ_En2mqm",
        "colab_type": "text"
      },
      "cell_type": "markdown",
      "source": [
        "transform to dataframe with columns 'project_id' and 'k_weight_rating'\n",
        "\n",
        "__! TO DO: Create dataframe \"recommend_df\" which sort values by 'k_weight_rating' and show only topn projects. **__"
      ]
    },
    {
      "metadata": {
        "id": "v8I5UWCb2mqo",
        "colab_type": "code",
        "colab": {},
        "collapsed": true
      },
      "cell_type": "code",
      "source": [
        "topn = 10\n",
        "recommend_df = (pd.DataFrame({\"project_id\": df_train_pivot.columns\n",
        "                             ,\"k_weight_rating\": k_weight_rating})\n",
        "                             .sort_values(by=['k_weight_rating'], ascending=False)\n",
        "                             .head(topn))"
      ],
      "execution_count": 0,
      "outputs": []
    },
    {
      "metadata": {
        "id": "_dl-krXh2mqq",
        "colab_type": "code",
        "colab": {},
        "outputId": "ea64ddf3-11ba-4ebf-977f-bce6156e78d1"
      },
      "cell_type": "code",
      "source": [
        "recommend_df"
      ],
      "execution_count": 0,
      "outputs": [
        {
          "output_type": "execute_result",
          "data": {
            "text/html": [
              "<div>\n",
              "<style>\n",
              "    .dataframe thead tr:only-child th {\n",
              "        text-align: right;\n",
              "    }\n",
              "\n",
              "    .dataframe thead th {\n",
              "        text-align: left;\n",
              "    }\n",
              "\n",
              "    .dataframe tbody tr th {\n",
              "        vertical-align: top;\n",
              "    }\n",
              "</style>\n",
              "<table border=\"1\" class=\"dataframe\">\n",
              "  <thead>\n",
              "    <tr style=\"text-align: right;\">\n",
              "      <th></th>\n",
              "      <th>k_weight_rating</th>\n",
              "      <th>project_id</th>\n",
              "    </tr>\n",
              "  </thead>\n",
              "  <tbody>\n",
              "    <tr>\n",
              "      <th>3410</th>\n",
              "      <td>0.366667</td>\n",
              "      <td>8644</td>\n",
              "    </tr>\n",
              "    <tr>\n",
              "      <th>3213</th>\n",
              "      <td>0.133333</td>\n",
              "      <td>8325</td>\n",
              "    </tr>\n",
              "    <tr>\n",
              "      <th>3671</th>\n",
              "      <td>0.133333</td>\n",
              "      <td>9080</td>\n",
              "    </tr>\n",
              "    <tr>\n",
              "      <th>1007</th>\n",
              "      <td>0.100000</td>\n",
              "      <td>4167</td>\n",
              "    </tr>\n",
              "    <tr>\n",
              "      <th>146</th>\n",
              "      <td>0.100000</td>\n",
              "      <td>1967</td>\n",
              "    </tr>\n",
              "    <tr>\n",
              "      <th>1417</th>\n",
              "      <td>0.066667</td>\n",
              "      <td>4927</td>\n",
              "    </tr>\n",
              "    <tr>\n",
              "      <th>2787</th>\n",
              "      <td>0.066667</td>\n",
              "      <td>7606</td>\n",
              "    </tr>\n",
              "    <tr>\n",
              "      <th>817</th>\n",
              "      <td>0.066667</td>\n",
              "      <td>3807</td>\n",
              "    </tr>\n",
              "    <tr>\n",
              "      <th>1071</th>\n",
              "      <td>0.066667</td>\n",
              "      <td>4339</td>\n",
              "    </tr>\n",
              "    <tr>\n",
              "      <th>821</th>\n",
              "      <td>0.066667</td>\n",
              "      <td>3816</td>\n",
              "    </tr>\n",
              "  </tbody>\n",
              "</table>\n",
              "</div>"
            ],
            "text/plain": [
              "      k_weight_rating  project_id\n",
              "3410         0.366667        8644\n",
              "3213         0.133333        8325\n",
              "3671         0.133333        9080\n",
              "1007         0.100000        4167\n",
              "146          0.100000        1967\n",
              "1417         0.066667        4927\n",
              "2787         0.066667        7606\n",
              "817          0.066667        3807\n",
              "1071         0.066667        4339\n",
              "821          0.066667        3816"
            ]
          },
          "metadata": {
            "tags": []
          },
          "execution_count": 187
        }
      ]
    },
    {
      "metadata": {
        "id": "dpzKOnGl2mqt",
        "colab_type": "text"
      },
      "cell_type": "markdown",
      "source": [
        "**Recommend items before ignore interacted items: [8644, 8325, 9080, 4167, 1967, 4927, 7606]"
      ]
    },
    {
      "metadata": {
        "id": "oSyM1gWP2mqu",
        "colab_type": "text"
      },
      "cell_type": "markdown",
      "source": [
        "### - Items to ignore\n",
        "We'll recommend new items so we need to ignore interacted items before recommend"
      ]
    },
    {
      "metadata": {
        "id": "KSVC5nfl2mqv",
        "colab_type": "text"
      },
      "cell_type": "markdown",
      "source": [
        "------------------------------------------------------------------------------------------\n",
        "__! TO DO: create \"get_item_interacted\" function which return set of interacted items of each user and ignore them in recommend_df**__\n",
        "\n",
        "------------------------------------------------------------------------------------------"
      ]
    },
    {
      "metadata": {
        "id": "CEsfjBcR2mqv",
        "colab_type": "code",
        "colab": {},
        "collapsed": true
      },
      "cell_type": "code",
      "source": [
        "def get_item_interacted(df, user_id):\n",
        "    \"\"\"\n",
        "    Args:\n",
        "    - df = dataframe which collect interacted projects of users\n",
        "    - userId = user id\n",
        "    \n",
        "    Return:\n",
        "    - set of interacted itemsets\n",
        "    \"\"\"\n",
        "    interacted_projects = df[df.index == user_id][['project_id']] #<FILL IN>\n",
        "    return set(interacted_projects['project_id'])"
      ],
      "execution_count": 0,
      "outputs": []
    },
    {
      "metadata": {
        "id": "ZEP3chAX2mqx",
        "colab_type": "code",
        "colab": {},
        "outputId": "0579f41b-1357-4cca-9f7f-56db75314082"
      },
      "cell_type": "code",
      "source": [
        "items_to_ignore = get_item_interacted(df_train_indexed, user_id)\n",
        "items_to_ignore"
      ],
      "execution_count": 0,
      "outputs": [
        {
          "output_type": "execute_result",
          "data": {
            "text/plain": [
              "{8644}"
            ]
          },
          "metadata": {
            "tags": []
          },
          "execution_count": 189
        }
      ]
    },
    {
      "metadata": {
        "id": "TC-9xhSU2mqz",
        "colab_type": "code",
        "colab": {},
        "collapsed": true
      },
      "cell_type": "code",
      "source": [
        "# topn = <FILL IN>\n",
        "recommend_df = pd.DataFrame({\"userCode\": user_id\n",
        "                            ,\"project_id\": df_train_pivot.columns\n",
        "                            ,\"k_weight_rating\": k_weight_rating})\n",
        "                             \n",
        "\n",
        "recommend_df =  (recommend_df[~recommend_df['project_id'].isin(items_to_ignore)]\n",
        "                .sort_values(by=['k_weight_rating'], ascending=False)\n",
        "                             .head(topn))    "
      ],
      "execution_count": 0,
      "outputs": []
    },
    {
      "metadata": {
        "id": "wIA30B2Q2mq1",
        "colab_type": "code",
        "colab": {},
        "outputId": "35c5bad8-3136-4d91-ff74-20de8fdcf167"
      },
      "cell_type": "code",
      "source": [
        "recommend_df"
      ],
      "execution_count": 0,
      "outputs": [
        {
          "output_type": "execute_result",
          "data": {
            "text/html": [
              "<div>\n",
              "<style>\n",
              "    .dataframe thead tr:only-child th {\n",
              "        text-align: right;\n",
              "    }\n",
              "\n",
              "    .dataframe thead th {\n",
              "        text-align: left;\n",
              "    }\n",
              "\n",
              "    .dataframe tbody tr th {\n",
              "        vertical-align: top;\n",
              "    }\n",
              "</style>\n",
              "<table border=\"1\" class=\"dataframe\">\n",
              "  <thead>\n",
              "    <tr style=\"text-align: right;\">\n",
              "      <th></th>\n",
              "      <th>k_weight_rating</th>\n",
              "      <th>project_id</th>\n",
              "      <th>userCode</th>\n",
              "    </tr>\n",
              "  </thead>\n",
              "  <tbody>\n",
              "    <tr>\n",
              "      <th>3213</th>\n",
              "      <td>0.133333</td>\n",
              "      <td>8325</td>\n",
              "      <td>435f1a34-21ca-d605-0968-cb1b5b3f9aeb</td>\n",
              "    </tr>\n",
              "    <tr>\n",
              "      <th>3671</th>\n",
              "      <td>0.133333</td>\n",
              "      <td>9080</td>\n",
              "      <td>435f1a34-21ca-d605-0968-cb1b5b3f9aeb</td>\n",
              "    </tr>\n",
              "    <tr>\n",
              "      <th>1007</th>\n",
              "      <td>0.100000</td>\n",
              "      <td>4167</td>\n",
              "      <td>435f1a34-21ca-d605-0968-cb1b5b3f9aeb</td>\n",
              "    </tr>\n",
              "    <tr>\n",
              "      <th>146</th>\n",
              "      <td>0.100000</td>\n",
              "      <td>1967</td>\n",
              "      <td>435f1a34-21ca-d605-0968-cb1b5b3f9aeb</td>\n",
              "    </tr>\n",
              "    <tr>\n",
              "      <th>3715</th>\n",
              "      <td>0.066667</td>\n",
              "      <td>9186</td>\n",
              "      <td>435f1a34-21ca-d605-0968-cb1b5b3f9aeb</td>\n",
              "    </tr>\n",
              "    <tr>\n",
              "      <th>3255</th>\n",
              "      <td>0.066667</td>\n",
              "      <td>8406</td>\n",
              "      <td>435f1a34-21ca-d605-0968-cb1b5b3f9aeb</td>\n",
              "    </tr>\n",
              "    <tr>\n",
              "      <th>396</th>\n",
              "      <td>0.066667</td>\n",
              "      <td>2729</td>\n",
              "      <td>435f1a34-21ca-d605-0968-cb1b5b3f9aeb</td>\n",
              "    </tr>\n",
              "    <tr>\n",
              "      <th>1057</th>\n",
              "      <td>0.066667</td>\n",
              "      <td>4312</td>\n",
              "      <td>435f1a34-21ca-d605-0968-cb1b5b3f9aeb</td>\n",
              "    </tr>\n",
              "    <tr>\n",
              "      <th>2016</th>\n",
              "      <td>0.066667</td>\n",
              "      <td>6305</td>\n",
              "      <td>435f1a34-21ca-d605-0968-cb1b5b3f9aeb</td>\n",
              "    </tr>\n",
              "    <tr>\n",
              "      <th>1488</th>\n",
              "      <td>0.066667</td>\n",
              "      <td>5099</td>\n",
              "      <td>435f1a34-21ca-d605-0968-cb1b5b3f9aeb</td>\n",
              "    </tr>\n",
              "  </tbody>\n",
              "</table>\n",
              "</div>"
            ],
            "text/plain": [
              "      k_weight_rating  project_id                              userCode\n",
              "3213         0.133333        8325  435f1a34-21ca-d605-0968-cb1b5b3f9aeb\n",
              "3671         0.133333        9080  435f1a34-21ca-d605-0968-cb1b5b3f9aeb\n",
              "1007         0.100000        4167  435f1a34-21ca-d605-0968-cb1b5b3f9aeb\n",
              "146          0.100000        1967  435f1a34-21ca-d605-0968-cb1b5b3f9aeb\n",
              "3715         0.066667        9186  435f1a34-21ca-d605-0968-cb1b5b3f9aeb\n",
              "3255         0.066667        8406  435f1a34-21ca-d605-0968-cb1b5b3f9aeb\n",
              "396          0.066667        2729  435f1a34-21ca-d605-0968-cb1b5b3f9aeb\n",
              "1057         0.066667        4312  435f1a34-21ca-d605-0968-cb1b5b3f9aeb\n",
              "2016         0.066667        6305  435f1a34-21ca-d605-0968-cb1b5b3f9aeb\n",
              "1488         0.066667        5099  435f1a34-21ca-d605-0968-cb1b5b3f9aeb"
            ]
          },
          "metadata": {
            "tags": []
          },
          "execution_count": 191
        }
      ]
    },
    {
      "metadata": {
        "id": "t9SYdCIg2mq6",
        "colab_type": "text"
      },
      "cell_type": "markdown",
      "source": [
        "** Recommend items after ignore interacted items: [8325, 9080, 4167, 1967, 9186, 8406, 2729]"
      ]
    },
    {
      "metadata": {
        "id": "_i0w7SYU2mq6",
        "colab_type": "text"
      },
      "cell_type": "markdown",
      "source": [
        "### Evaluation\n",
        "We'll use metric __MAP@k__ for evaluate result.\n",
        "\n",
        "Example of calculating MAP@5\n",
        "\n",
        "```\n",
        "|                                        |                   |        Precision       |          Average         |\n",
        "|----------------------------------------+-------------------+------------------------+--------------------------|\n",
        "| Actual rank: [2, 4, 1, 5]              |  [1, 0, 0, 1, 1]  | [1/1, 0, 0, 2/4, 3/5]  | (1 + 2/4 + 3/5)/4 = 0.53 |\n",
        "| Recommended rank: [5, 9, 3, 1, 2]      |                   |                        |                          |\n",
        "|----------------------------------------+-------------------+------------------------+--------------------------|\n",
        "| Actual rank: [9, 6, 1]                 |  [1, 0, 0, 0, 0]  | [1/1, 0, 0, 2/4, 3/5]  | (1/1)/3 = 0.33           |\n",
        "| Recommended rank: [9, 2, 5, 0, 4]      |                   |                        |                          |\n",
        "|----------------------------------------+-------------------+------------------------+--------------------------|\n",
        "| Actual rank: [6, 0, 4]                 |  [0, 0, 0, 1, 1]  | [0, 0, 0, 1/4, 2/5]    | (1/4 + 2/5)/3 = 0.22     |\n",
        "| Recommended rank: [1, 10, 11, 4, 6]    |                   |                        |                          |\n",
        "|----------------------------------------+-------------------+------------------------+--------------------------|\n",
        "```\n",
        "Mean Average Precision @ 5 = (0.53 + 0.33 + 0.22)/3 = 0.36\n",
        "\n",
        "** It's ap for only 1 user. If you would like to evaluate all users, pls. submit file on kaggle :)"
      ]
    },
    {
      "metadata": {
        "id": "ErdM0zZ72mq7",
        "colab_type": "code",
        "colab": {},
        "collapsed": true
      },
      "cell_type": "code",
      "source": [
        "def ap_func(actual_list, recommend_list, k=7):\n",
        "    \n",
        "    m = len(actual_list)\n",
        "    recoms = []\n",
        "    precision = 0\n",
        "    for i, item_ in enumerate(recommend_list):\n",
        "        if item_ in actual_list:\n",
        "            recoms.append(1)\n",
        "            precision += round(sum(recoms[:i+1])/(i+1), 2)\n",
        "        else:\n",
        "            recoms.append(0)\n",
        "          \n",
        "    ap = round(precision/min(m, k), 2)\n",
        "    return ap"
      ],
      "execution_count": 0,
      "outputs": []
    },
    {
      "metadata": {
        "id": "9zNCMf8C2mq8",
        "colab_type": "code",
        "colab": {},
        "collapsed": true
      },
      "cell_type": "code",
      "source": [
        "actual_list = list(df_test_indexed[df_test_indexed.index == user_id]['project_id'].values)\n",
        "recommend_list = list(recommend_df['project_id'].values)\n",
        "ap = ap_func(actual_list, recommend_list, 7)"
      ],
      "execution_count": 0,
      "outputs": []
    },
    {
      "metadata": {
        "id": "ozmUhVsr2mq-",
        "colab_type": "code",
        "colab": {},
        "outputId": "7900c512-5a86-47c1-ad6c-4c24f2a1d310"
      },
      "cell_type": "code",
      "source": [
        "print(ap)"
      ],
      "execution_count": 0,
      "outputs": [
        {
          "output_type": "stream",
          "text": [
            "0.25\n"
          ],
          "name": "stdout"
        }
      ]
    },
    {
      "metadata": {
        "id": "LeBI6ut_2mrB",
        "colab_type": "text"
      },
      "cell_type": "markdown",
      "source": [
        "** ap = 0.25"
      ]
    },
    {
      "metadata": {
        "id": "RB58vnHE2mrB",
        "colab_type": "text"
      },
      "cell_type": "markdown",
      "source": [
        "#### For user_id = '435f1a34-21ca-d605-0968-cb1b5b3f9aeb'\n",
        "if you follow the default values of this lab, you'll get the result like below\n",
        "- recommend items before ignore interacted items: [8644, 8325, 9080, 4167, 1967, 4927, 7606]\n",
        "- recommend items after ignore interacted items: [8325, 9080, 4167, 1967, 9186, 8406, 2729]\n",
        "- ap = 0.25\n"
      ]
    },
    {
      "metadata": {
        "id": "Pix3A4Y62mrD",
        "colab_type": "text"
      },
      "cell_type": "markdown",
      "source": [
        "# Create your own data preparation for recommendation"
      ]
    },
    {
      "metadata": {
        "id": "i1PrMSen2mrD",
        "colab_type": "text"
      },
      "cell_type": "markdown",
      "source": [
        "In addition to 0/1 matrix, we can using other data for user-item matrix to caculate similarity ex. rating matrix or add user profile."
      ]
    },
    {
      "metadata": {
        "id": "qH21VqxU2mrD",
        "colab_type": "text"
      },
      "cell_type": "markdown",
      "source": [
        "### - Case 2: Rating matrix\n",
        "Define rating by number of interactions with each project and scale them by bining (look at the distribution of data and define boundary)\n",
        "\n",
        "ex. (0-1]   ==> rating = 1\n",
        "\n",
        "    (1-2]   ==> rating = 2\n",
        "    \n",
        "    (2-4]   ==> rating = 3\n",
        "    \n",
        "    (4-7]   ==> rating = 4\n",
        "    \n",
        "    (7-inf] ==> rating = 5\n",
        "\n",
        "```\n",
        "|------------+---+---+---+----+---|\n",
        "| project_id | 1 | 2 | 3 | .. | j |\n",
        "| userCode   |   |   |   |    |   |\n",
        "|------------+---+---+---+----+---|\n",
        "| user A     | 4 | 0 | 0 | .. | 2 |\n",
        "| user B     | 0 | 3 | 0 | .. | 1 |\n",
        "| user C     | 0 | 0 | 5 | .. | 0 |\n",
        "|  ..        | . | . | . | .. | . |\n",
        "|------------+---+---+---+----+---|\n",
        "\n",
        "\n",
        "```\n",
        "\n",
        "------------------------------------------------------------------------------------------\n",
        "\n",
        "#### ! TO DO: prepare rating user-item matrix like above *************************************\n",
        "------------------------------------------------------------------------------------------"
      ]
    },
    {
      "metadata": {
        "id": "Sr5n6XLj2mrE",
        "colab_type": "code",
        "colab": {},
        "outputId": "0393a1c0-0102-492f-9437-b93ce377bfcb"
      },
      "cell_type": "code",
      "source": [
        "# distribution of number of interactions\n",
        "df_train.groupby(['userCode', 'project_id']).size().reset_index()[[0]].boxplot()\n",
        "plt.show()"
      ],
      "execution_count": 0,
      "outputs": [
        {
          "output_type": "display_data",
          "data": {
            "image/png": "[encoded data removed]",
            "text/plain": [
              "<matplotlib.figure.Figure at 0x24085070320>"
            ]
          },
          "metadata": {
            "tags": []
          }
        }
      ]
    },
    {
      "metadata": {
        "id": "Bk5NKYjf2mrH",
        "colab_type": "code",
        "colab": {},
        "outputId": "c57043ae-8904-4e12-f4d1-9fc565d7e999"
      },
      "cell_type": "code",
      "source": [
        "# count number of interaction groupby userCode and project_id\n",
        "df_train_rating = df_train.groupby(['userCode', 'project_id']).size().reset_index()\n",
        "df_train_rating.head(3)"
      ],
      "execution_count": 0,
      "outputs": [
        {
          "output_type": "execute_result",
          "data": {
            "text/html": [
              "<div>\n",
              "<style>\n",
              "    .dataframe thead tr:only-child th {\n",
              "        text-align: right;\n",
              "    }\n",
              "\n",
              "    .dataframe thead th {\n",
              "        text-align: left;\n",
              "    }\n",
              "\n",
              "    .dataframe tbody tr th {\n",
              "        vertical-align: top;\n",
              "    }\n",
              "</style>\n",
              "<table border=\"1\" class=\"dataframe\">\n",
              "  <thead>\n",
              "    <tr style=\"text-align: right;\">\n",
              "      <th></th>\n",
              "      <th>userCode</th>\n",
              "      <th>project_id</th>\n",
              "      <th>0</th>\n",
              "    </tr>\n",
              "  </thead>\n",
              "  <tbody>\n",
              "    <tr>\n",
              "      <th>0</th>\n",
              "      <td>00051896-b6d5-27b2-1590-6445018f084b</td>\n",
              "      <td>7545</td>\n",
              "      <td>4</td>\n",
              "    </tr>\n",
              "    <tr>\n",
              "      <th>1</th>\n",
              "      <td>0009bd21-7539-62ff-f653-a6f6bac25380</td>\n",
              "      <td>1956</td>\n",
              "      <td>1</td>\n",
              "    </tr>\n",
              "    <tr>\n",
              "      <th>2</th>\n",
              "      <td>0009bd21-7539-62ff-f653-a6f6bac25380</td>\n",
              "      <td>4208</td>\n",
              "      <td>2</td>\n",
              "    </tr>\n",
              "  </tbody>\n",
              "</table>\n",
              "</div>"
            ],
            "text/plain": [
              "                               userCode  project_id  0\n",
              "0  00051896-b6d5-27b2-1590-6445018f084b        7545  4\n",
              "1  0009bd21-7539-62ff-f653-a6f6bac25380        1956  1\n",
              "2  0009bd21-7539-62ff-f653-a6f6bac25380        4208  2"
            ]
          },
          "metadata": {
            "tags": []
          },
          "execution_count": 33
        }
      ]
    },
    {
      "metadata": {
        "id": "uL2-jr_O2mrL",
        "colab_type": "code",
        "colab": {},
        "outputId": "bede290f-56d9-4537-9782-b9f791d2a649"
      },
      "cell_type": "code",
      "source": [
        "max_ = df_train_rating[0].max()\n",
        "bins = [1, 2, 3, 5, 7, max_]\n",
        "\n",
        "df_train_rating['rating'] = pd.cut(df_train_rating[0], bins, right=False, labels=False)\n",
        "df_train_rating['rating'] = df_train_rating['rating']+1\n",
        "df_train_rating.head(3)"
      ],
      "execution_count": 0,
      "outputs": [
        {
          "output_type": "execute_result",
          "data": {
            "text/html": [
              "<div>\n",
              "<style>\n",
              "    .dataframe thead tr:only-child th {\n",
              "        text-align: right;\n",
              "    }\n",
              "\n",
              "    .dataframe thead th {\n",
              "        text-align: left;\n",
              "    }\n",
              "\n",
              "    .dataframe tbody tr th {\n",
              "        vertical-align: top;\n",
              "    }\n",
              "</style>\n",
              "<table border=\"1\" class=\"dataframe\">\n",
              "  <thead>\n",
              "    <tr style=\"text-align: right;\">\n",
              "      <th></th>\n",
              "      <th>userCode</th>\n",
              "      <th>project_id</th>\n",
              "      <th>0</th>\n",
              "      <th>rating</th>\n",
              "    </tr>\n",
              "  </thead>\n",
              "  <tbody>\n",
              "    <tr>\n",
              "      <th>0</th>\n",
              "      <td>00051896-b6d5-27b2-1590-6445018f084b</td>\n",
              "      <td>7545</td>\n",
              "      <td>4</td>\n",
              "      <td>3.0</td>\n",
              "    </tr>\n",
              "    <tr>\n",
              "      <th>1</th>\n",
              "      <td>0009bd21-7539-62ff-f653-a6f6bac25380</td>\n",
              "      <td>1956</td>\n",
              "      <td>1</td>\n",
              "      <td>1.0</td>\n",
              "    </tr>\n",
              "    <tr>\n",
              "      <th>2</th>\n",
              "      <td>0009bd21-7539-62ff-f653-a6f6bac25380</td>\n",
              "      <td>4208</td>\n",
              "      <td>2</td>\n",
              "      <td>2.0</td>\n",
              "    </tr>\n",
              "  </tbody>\n",
              "</table>\n",
              "</div>"
            ],
            "text/plain": [
              "                               userCode  project_id  0  rating\n",
              "0  00051896-b6d5-27b2-1590-6445018f084b        7545  4     3.0\n",
              "1  0009bd21-7539-62ff-f653-a6f6bac25380        1956  1     1.0\n",
              "2  0009bd21-7539-62ff-f653-a6f6bac25380        4208  2     2.0"
            ]
          },
          "metadata": {
            "tags": []
          },
          "execution_count": 38
        }
      ]
    },
    {
      "metadata": {
        "id": "_pL8yhIV2mrO",
        "colab_type": "code",
        "colab": {},
        "outputId": "b899da68-9437-4eb3-9e13-d2c69782a90b"
      },
      "cell_type": "code",
      "source": [
        "df_train_rating_pivot = (df_train_rating.pivot(index = 'userCode'\n",
        "                                             ,columns = 'project_id'\n",
        "                                             ,values = 'rating')\n",
        "                                       .fillna(0))\n",
        "df_train_rating_pivot.head(3)"
      ],
      "execution_count": 0,
      "outputs": [
        {
          "output_type": "execute_result",
          "data": {
            "text/html": [
              "<div>\n",
              "<style>\n",
              "    .dataframe thead tr:only-child th {\n",
              "        text-align: right;\n",
              "    }\n",
              "\n",
              "    .dataframe thead th {\n",
              "        text-align: left;\n",
              "    }\n",
              "\n",
              "    .dataframe tbody tr th {\n",
              "        vertical-align: top;\n",
              "    }\n",
              "</style>\n",
              "<table border=\"1\" class=\"dataframe\">\n",
              "  <thead>\n",
              "    <tr style=\"text-align: right;\">\n",
              "      <th>project_id</th>\n",
              "      <th>24</th>\n",
              "      <th>29</th>\n",
              "      <th>41</th>\n",
              "      <th>45</th>\n",
              "      <th>133</th>\n",
              "      <th>141</th>\n",
              "      <th>156</th>\n",
              "      <th>157</th>\n",
              "      <th>161</th>\n",
              "      <th>189</th>\n",
              "      <th>...</th>\n",
              "      <th>9458</th>\n",
              "      <th>9459</th>\n",
              "      <th>9460</th>\n",
              "      <th>9461</th>\n",
              "      <th>9469</th>\n",
              "      <th>9471</th>\n",
              "      <th>9474</th>\n",
              "      <th>9477</th>\n",
              "      <th>9478</th>\n",
              "      <th>9484</th>\n",
              "    </tr>\n",
              "    <tr>\n",
              "      <th>userCode</th>\n",
              "      <th></th>\n",
              "      <th></th>\n",
              "      <th></th>\n",
              "      <th></th>\n",
              "      <th></th>\n",
              "      <th></th>\n",
              "      <th></th>\n",
              "      <th></th>\n",
              "      <th></th>\n",
              "      <th></th>\n",
              "      <th></th>\n",
              "      <th></th>\n",
              "      <th></th>\n",
              "      <th></th>\n",
              "      <th></th>\n",
              "      <th></th>\n",
              "      <th></th>\n",
              "      <th></th>\n",
              "      <th></th>\n",
              "      <th></th>\n",
              "      <th></th>\n",
              "    </tr>\n",
              "  </thead>\n",
              "  <tbody>\n",
              "    <tr>\n",
              "      <th>00051896-b6d5-27b2-1590-6445018f084b</th>\n",
              "      <td>0.0</td>\n",
              "      <td>0.0</td>\n",
              "      <td>0.0</td>\n",
              "      <td>0.0</td>\n",
              "      <td>0.0</td>\n",
              "      <td>0.0</td>\n",
              "      <td>0.0</td>\n",
              "      <td>0.0</td>\n",
              "      <td>0.0</td>\n",
              "      <td>0.0</td>\n",
              "      <td>...</td>\n",
              "      <td>0.0</td>\n",
              "      <td>0.0</td>\n",
              "      <td>0.0</td>\n",
              "      <td>0.0</td>\n",
              "      <td>0.0</td>\n",
              "      <td>0.0</td>\n",
              "      <td>0.0</td>\n",
              "      <td>0.0</td>\n",
              "      <td>0.0</td>\n",
              "      <td>0.0</td>\n",
              "    </tr>\n",
              "    <tr>\n",
              "      <th>0009bd21-7539-62ff-f653-a6f6bac25380</th>\n",
              "      <td>0.0</td>\n",
              "      <td>0.0</td>\n",
              "      <td>0.0</td>\n",
              "      <td>0.0</td>\n",
              "      <td>0.0</td>\n",
              "      <td>0.0</td>\n",
              "      <td>0.0</td>\n",
              "      <td>0.0</td>\n",
              "      <td>0.0</td>\n",
              "      <td>0.0</td>\n",
              "      <td>...</td>\n",
              "      <td>0.0</td>\n",
              "      <td>0.0</td>\n",
              "      <td>0.0</td>\n",
              "      <td>0.0</td>\n",
              "      <td>0.0</td>\n",
              "      <td>0.0</td>\n",
              "      <td>0.0</td>\n",
              "      <td>0.0</td>\n",
              "      <td>0.0</td>\n",
              "      <td>0.0</td>\n",
              "    </tr>\n",
              "    <tr>\n",
              "      <th>0014f96a-b816-5b96-af31-e7268b46061d</th>\n",
              "      <td>0.0</td>\n",
              "      <td>0.0</td>\n",
              "      <td>0.0</td>\n",
              "      <td>0.0</td>\n",
              "      <td>0.0</td>\n",
              "      <td>0.0</td>\n",
              "      <td>0.0</td>\n",
              "      <td>0.0</td>\n",
              "      <td>0.0</td>\n",
              "      <td>0.0</td>\n",
              "      <td>...</td>\n",
              "      <td>0.0</td>\n",
              "      <td>0.0</td>\n",
              "      <td>0.0</td>\n",
              "      <td>0.0</td>\n",
              "      <td>0.0</td>\n",
              "      <td>0.0</td>\n",
              "      <td>0.0</td>\n",
              "      <td>0.0</td>\n",
              "      <td>0.0</td>\n",
              "      <td>0.0</td>\n",
              "    </tr>\n",
              "  </tbody>\n",
              "</table>\n",
              "<p>3 rows × 3853 columns</p>\n",
              "</div>"
            ],
            "text/plain": [
              "project_id                            24    29    41    45    133   141   \\\n",
              "userCode                                                                   \n",
              "00051896-b6d5-27b2-1590-6445018f084b   0.0   0.0   0.0   0.0   0.0   0.0   \n",
              "0009bd21-7539-62ff-f653-a6f6bac25380   0.0   0.0   0.0   0.0   0.0   0.0   \n",
              "0014f96a-b816-5b96-af31-e7268b46061d   0.0   0.0   0.0   0.0   0.0   0.0   \n",
              "\n",
              "project_id                            156   157   161   189   ...   9458  \\\n",
              "userCode                                                      ...          \n",
              "00051896-b6d5-27b2-1590-6445018f084b   0.0   0.0   0.0   0.0  ...    0.0   \n",
              "0009bd21-7539-62ff-f653-a6f6bac25380   0.0   0.0   0.0   0.0  ...    0.0   \n",
              "0014f96a-b816-5b96-af31-e7268b46061d   0.0   0.0   0.0   0.0  ...    0.0   \n",
              "\n",
              "project_id                            9459  9460  9461  9469  9471  9474  \\\n",
              "userCode                                                                   \n",
              "00051896-b6d5-27b2-1590-6445018f084b   0.0   0.0   0.0   0.0   0.0   0.0   \n",
              "0009bd21-7539-62ff-f653-a6f6bac25380   0.0   0.0   0.0   0.0   0.0   0.0   \n",
              "0014f96a-b816-5b96-af31-e7268b46061d   0.0   0.0   0.0   0.0   0.0   0.0   \n",
              "\n",
              "project_id                            9477  9478  9484  \n",
              "userCode                                                \n",
              "00051896-b6d5-27b2-1590-6445018f084b   0.0   0.0   0.0  \n",
              "0009bd21-7539-62ff-f653-a6f6bac25380   0.0   0.0   0.0  \n",
              "0014f96a-b816-5b96-af31-e7268b46061d   0.0   0.0   0.0  \n",
              "\n",
              "[3 rows x 3853 columns]"
            ]
          },
          "metadata": {
            "tags": []
          },
          "execution_count": 39
        }
      ]
    },
    {
      "metadata": {
        "id": "zPEUxE372mrZ",
        "colab_type": "code",
        "colab": {},
        "outputId": "11cf130c-e2de-4c5d-c04d-c245175a45a5"
      },
      "cell_type": "code",
      "source": [
        "df_train_rating_matrix = df_train_rating_pivot.values\n",
        "print(df_train_rating_matrix.shape)"
      ],
      "execution_count": 0,
      "outputs": [
        {
          "output_type": "stream",
          "text": [
            "(4566, 3853)\n"
          ],
          "name": "stdout"
        }
      ]
    },
    {
      "metadata": {
        "id": "m1HrRsZG2mre",
        "colab_type": "code",
        "colab": {},
        "collapsed": true
      },
      "cell_type": "code",
      "source": [
        "df_train_rating_index = df_train_rating.set_index(['userCode'])"
      ],
      "execution_count": 0,
      "outputs": []
    },
    {
      "metadata": {
        "id": "qb7CQBrL2mrh",
        "colab_type": "text"
      },
      "cell_type": "markdown",
      "source": [
        "### - Case 3: Rating + user profile matrix\n",
        "Using above rating matrix and concat with user profile ex. weekday etc.\n",
        "\n",
        "```\n",
        "|------------+---+---+---+----+---+-----+-----+-----+-----+-----+-----+-----|\n",
        "| project_id | 1 | 2 | 3 | .. | j | Mon | Tue | Wed | Thu | Fri | Sat | Sun |\n",
        "| userCode   |   |   |   |    |   |     |     |     |     |     |     |     |\n",
        "|------------+---+---+---+----+---|-----+-----+-----+-----+-----+-----+-----+\n",
        "| user A     | 4 | 0 | 0 | .. | 2 | 0.1 | 0.3 | 0.2 | 0.0 | 0.0 | 0.1 | 0.3 |\n",
        "| user B     | 0 | 3 | 0 | .. | 1 | 0.2 | 0.2 | 0.1 | 0.1 | 0.1 | 0.3 | 0.0 |\n",
        "| user C     | 0 | 0 | 5 | .. | 0 | 0.0 | 0.1 | 0.1 | 0.0 | 0.0 | 0.5 | 0.3 |\n",
        "|  ..        | . | . | . | .. | . | ... | ... | ... | ... | ... | ... | ... |\n",
        "|------------+---+---+---+----+---+-----+-----+-----+-----+-----+-----+-----|\n",
        "```\n"
      ]
    },
    {
      "metadata": {
        "id": "7yMesGLt2mrh",
        "colab_type": "code",
        "colab": {},
        "outputId": "42aefa9d-9219-4213-87bb-226bc6c132ed"
      },
      "cell_type": "code",
      "source": [
        "df_train['weekday'] = df_train['datetime'].dt.dayofweek"
      ],
      "execution_count": 0,
      "outputs": [
        {
          "output_type": "stream",
          "text": [
            "C:\\ProgramData\\Anaconda3\\lib\\site-packages\\ipykernel_launcher.py:1: SettingWithCopyWarning: \n",
            "A value is trying to be set on a copy of a slice from a DataFrame.\n",
            "Try using .loc[row_indexer,col_indexer] = value instead\n",
            "\n",
            "See the caveats in the documentation: http://pandas.pydata.org/pandas-docs/stable/indexing.html#indexing-view-versus-copy\n",
            "  \"\"\"Entry point for launching an IPython kernel.\n"
          ],
          "name": "stderr"
        }
      ]
    },
    {
      "metadata": {
        "id": "qIGxz0ic2mrm",
        "colab_type": "code",
        "colab": {},
        "outputId": "ea30550e-87c1-4699-ff8d-a64b62cece58"
      },
      "cell_type": "code",
      "source": [
        "# proportion of #interactions by time interval\n",
        "weekday = df_train.groupby(['userCode', 'weekday']).size()\n",
        "weekday = weekday.groupby(level = 0).apply(lambda x: round(x/float(x.sum()), 2)).reset_index()\n",
        "weekday.columns.values[2] = 0\n",
        "user_weekday = weekday.pivot(index = 'userCode', columns = 'weekday', values = 0).fillna(0).reset_index()\n",
        "user_weekday.columns =  list(user_weekday.columns.values[:1]) + ['day' + str(col) for col in user_weekday.columns.values[1:]]\n",
        "user_weekday.head(3)"
      ],
      "execution_count": 0,
      "outputs": [
        {
          "output_type": "execute_result",
          "data": {
            "text/html": [
              "<div>\n",
              "<style>\n",
              "    .dataframe thead tr:only-child th {\n",
              "        text-align: right;\n",
              "    }\n",
              "\n",
              "    .dataframe thead th {\n",
              "        text-align: left;\n",
              "    }\n",
              "\n",
              "    .dataframe tbody tr th {\n",
              "        vertical-align: top;\n",
              "    }\n",
              "</style>\n",
              "<table border=\"1\" class=\"dataframe\">\n",
              "  <thead>\n",
              "    <tr style=\"text-align: right;\">\n",
              "      <th></th>\n",
              "      <th>userCode</th>\n",
              "      <th>day0</th>\n",
              "      <th>day1</th>\n",
              "      <th>day2</th>\n",
              "      <th>day3</th>\n",
              "      <th>day4</th>\n",
              "      <th>day5</th>\n",
              "      <th>day6</th>\n",
              "    </tr>\n",
              "  </thead>\n",
              "  <tbody>\n",
              "    <tr>\n",
              "      <th>0</th>\n",
              "      <td>00051896-b6d5-27b2-1590-6445018f084b</td>\n",
              "      <td>1.0</td>\n",
              "      <td>0.0</td>\n",
              "      <td>0.0</td>\n",
              "      <td>0.0</td>\n",
              "      <td>0.0</td>\n",
              "      <td>0.0</td>\n",
              "      <td>0.0</td>\n",
              "    </tr>\n",
              "    <tr>\n",
              "      <th>1</th>\n",
              "      <td>0009bd21-7539-62ff-f653-a6f6bac25380</td>\n",
              "      <td>1.0</td>\n",
              "      <td>0.0</td>\n",
              "      <td>0.0</td>\n",
              "      <td>0.0</td>\n",
              "      <td>0.0</td>\n",
              "      <td>0.0</td>\n",
              "      <td>0.0</td>\n",
              "    </tr>\n",
              "    <tr>\n",
              "      <th>2</th>\n",
              "      <td>0014f96a-b816-5b96-af31-e7268b46061d</td>\n",
              "      <td>1.0</td>\n",
              "      <td>0.0</td>\n",
              "      <td>0.0</td>\n",
              "      <td>0.0</td>\n",
              "      <td>0.0</td>\n",
              "      <td>0.0</td>\n",
              "      <td>0.0</td>\n",
              "    </tr>\n",
              "  </tbody>\n",
              "</table>\n",
              "</div>"
            ],
            "text/plain": [
              "                               userCode  day0  day1  day2  day3  day4  day5  \\\n",
              "0  00051896-b6d5-27b2-1590-6445018f084b   1.0   0.0   0.0   0.0   0.0   0.0   \n",
              "1  0009bd21-7539-62ff-f653-a6f6bac25380   1.0   0.0   0.0   0.0   0.0   0.0   \n",
              "2  0014f96a-b816-5b96-af31-e7268b46061d   1.0   0.0   0.0   0.0   0.0   0.0   \n",
              "\n",
              "   day6  \n",
              "0   0.0  \n",
              "1   0.0  \n",
              "2   0.0  "
            ]
          },
          "metadata": {
            "tags": []
          },
          "execution_count": 209
        }
      ]
    },
    {
      "metadata": {
        "id": "8agqugRj2mro",
        "colab_type": "text"
      },
      "cell_type": "markdown",
      "source": [
        "------------------------------------------------------------------------------------------\n",
        "\n",
        "#### ! TO DO: **\n",
        "- create other user profile\n",
        "- merge user profile and user rating\n",
        "- create matrix \n",
        "\n",
        "------------------------------------------------------------------------------------------"
      ]
    },
    {
      "metadata": {
        "id": "IfNWfDRp2mro",
        "colab_type": "code",
        "colab": {},
        "collapsed": true
      },
      "cell_type": "code",
      "source": [
        "class UserProfile:\n",
        "\n",
        "    def __init__(self, df):\n",
        "        self.df = df\n",
        "\n",
        "    def hour(self):\n",
        "        df = self.df\n",
        "        time_interval = df.groupby(['userCode', 'time_interval']).size()\n",
        "        time_interval = time_interval.groupby(level = 0).apply(lambda x: round(x/float(x.sum()), 2)).reset_index()\n",
        "        time_interval.columns.values[2] = 0\n",
        "        user_time = time_interval.pivot(index = 'userCode', columns = 'time_interval', values = 0).fillna(0).reset_index()\n",
        "        return user_time\n",
        "\n",
        "    def device(self):\n",
        "        df = self.df\n",
        "        device = df.groupby(['userCode', 'requestedDevice']).size()\n",
        "        device = device.groupby(level = 0).apply(lambda x: round(x/float(x.sum()), 2)).reset_index()\n",
        "        device.columns.values[2] = 0\n",
        "        user_device = device.pivot(index = 'userCode', columns = 'requestedDevice', values = 0).fillna(0).reset_index()\n",
        "        return user_device\n",
        "    \n",
        "    def agent(self):\n",
        "        df = self.df\n",
        "        agent = df.groupby(['userCode', 'userAgent']).size()\n",
        "        agent = agent.groupby(level = 0).apply(lambda x: round(x/float(x.sum()), 2)).reset_index()\n",
        "        agent.columns.values[2] = 0\n",
        "        user_agent = agent.pivot(index = 'userCode', columns = 'userAgent', values = 0).fillna(0).reset_index()\n",
        "        return user_agent\n",
        "    \n",
        "    def pagerefer(self):\n",
        "        df = self.df\n",
        "        pagerefer = df.groupby(['userCode', 'pageReferrer']).size()\n",
        "        pagerefer = pagerefer.groupby(level = 0).apply(lambda x: round(x/float(x.sum()), 2)).reset_index()\n",
        "        pagerefer.columns.values[2] = 0\n",
        "        user_pagerefer = pagerefer.pivot(index = 'userCode', columns = 'pageReferrer', values = 0).fillna(0).reset_index()\n",
        "        return user_pagerefer\n",
        "    \n",
        "    def all(self):\n",
        "        df = self.df\n",
        "        user_time = self.hour()\n",
        "        print('- time --')\n",
        "        user_device = self.device()\n",
        "        print('- device --')\n",
        "        user_agent = self.agent()\n",
        "        print('- agent --')\n",
        "        user_pagerefer = self.pagerefer()\n",
        "        print('- pagerefer --')\n",
        "\n",
        "        user_profile = pd.merge(user_weekday, user_time, how = 'outer', on = 'userCode')\n",
        "        print('- merge --')\n",
        "        user_profile = pd.merge(user_profile, user_device, how = 'outer', on = 'userCode')\n",
        "        print('- merge --')\n",
        "        user_profile = pd.merge(user_profile, user_agent, how = 'outer', on = 'userCode')\n",
        "        print('- merge --')\n",
        "        user_profile = pd.merge(user_profile, user_pagerefer, how = 'outer', on = 'userCode')\n",
        "        print('- merge --')\n",
        "        return user_profile\n"
      ],
      "execution_count": 0,
      "outputs": []
    },
    {
      "metadata": {
        "id": "GGKyOH0r2mrs",
        "colab_type": "code",
        "colab": {},
        "outputId": "d8632ad4-038b-473b-c576-de7353b0feae"
      },
      "cell_type": "code",
      "source": [
        "df_train['time_interval'] = '20-23'\n",
        "df_train['time_interval'] = np.where((df_train['hour'] >= 0) & (df_train['hour'] < 9), '0-8', df_train['time_interval'])\n",
        "df_train['time_interval'] = np.where((df_train['hour'] >= 9) & (df_train['hour'] < 20), '9-19', df_train['time_interval'])"
      ],
      "execution_count": 0,
      "outputs": [
        {
          "output_type": "stream",
          "text": [
            "C:\\ProgramData\\Anaconda3\\lib\\site-packages\\ipykernel_launcher.py:1: SettingWithCopyWarning: \n",
            "A value is trying to be set on a copy of a slice from a DataFrame.\n",
            "Try using .loc[row_indexer,col_indexer] = value instead\n",
            "\n",
            "See the caveats in the documentation: http://pandas.pydata.org/pandas-docs/stable/indexing.html#indexing-view-versus-copy\n",
            "  \"\"\"Entry point for launching an IPython kernel.\n",
            "C:\\ProgramData\\Anaconda3\\lib\\site-packages\\ipykernel_launcher.py:2: SettingWithCopyWarning: \n",
            "A value is trying to be set on a copy of a slice from a DataFrame.\n",
            "Try using .loc[row_indexer,col_indexer] = value instead\n",
            "\n",
            "See the caveats in the documentation: http://pandas.pydata.org/pandas-docs/stable/indexing.html#indexing-view-versus-copy\n",
            "  \n",
            "C:\\ProgramData\\Anaconda3\\lib\\site-packages\\ipykernel_launcher.py:3: SettingWithCopyWarning: \n",
            "A value is trying to be set on a copy of a slice from a DataFrame.\n",
            "Try using .loc[row_indexer,col_indexer] = value instead\n",
            "\n",
            "See the caveats in the documentation: http://pandas.pydata.org/pandas-docs/stable/indexing.html#indexing-view-versus-copy\n",
            "  This is separate from the ipykernel package so we can avoid doing imports until\n"
          ],
          "name": "stderr"
        }
      ]
    },
    {
      "metadata": {
        "id": "f6yToOFx2mry",
        "colab_type": "code",
        "colab": {},
        "outputId": "1e47f26b-b7ce-496e-8854-dfffaf0a43ff"
      },
      "cell_type": "code",
      "source": [
        "User_profile = UserProfile(df_train)\n",
        "user_profile = User_profile.all()\n",
        "user_profile = pd.merge(user_profile, user_weekday, how='left', on=['userCode'])\n",
        "user_profile.head(3)"
      ],
      "execution_count": 0,
      "outputs": [
        {
          "output_type": "stream",
          "text": [
            "- time --\n",
            "- device --\n",
            "- agent --\n",
            "- pagerefer --\n",
            "- merge --\n",
            "- merge --\n",
            "- merge --\n",
            "- merge --\n"
          ],
          "name": "stdout"
        },
        {
          "output_type": "execute_result",
          "data": {
            "text/html": [
              "<div>\n",
              "<style>\n",
              "    .dataframe thead tr:only-child th {\n",
              "        text-align: right;\n",
              "    }\n",
              "\n",
              "    .dataframe thead th {\n",
              "        text-align: left;\n",
              "    }\n",
              "\n",
              "    .dataframe tbody tr th {\n",
              "        vertical-align: top;\n",
              "    }\n",
              "</style>\n",
              "<table border=\"1\" class=\"dataframe\">\n",
              "  <thead>\n",
              "    <tr style=\"text-align: right;\">\n",
              "      <th></th>\n",
              "      <th>userCode</th>\n",
              "      <th>day0_x</th>\n",
              "      <th>day1_x</th>\n",
              "      <th>day2_x</th>\n",
              "      <th>day3_x</th>\n",
              "      <th>day4_x</th>\n",
              "      <th>day5_x</th>\n",
              "      <th>day6_x</th>\n",
              "      <th>0-8</th>\n",
              "      <th>20-23</th>\n",
              "      <th>...</th>\n",
              "      <th>Google</th>\n",
              "      <th>HomeWebsite</th>\n",
              "      <th>Other_PageReferer</th>\n",
              "      <th>day0_y</th>\n",
              "      <th>day1_y</th>\n",
              "      <th>day2_y</th>\n",
              "      <th>day3_y</th>\n",
              "      <th>day4_y</th>\n",
              "      <th>day5_y</th>\n",
              "      <th>day6_y</th>\n",
              "    </tr>\n",
              "  </thead>\n",
              "  <tbody>\n",
              "    <tr>\n",
              "      <th>0</th>\n",
              "      <td>00051896-b6d5-27b2-1590-6445018f084b</td>\n",
              "      <td>1.0</td>\n",
              "      <td>0.0</td>\n",
              "      <td>0.0</td>\n",
              "      <td>0.0</td>\n",
              "      <td>0.0</td>\n",
              "      <td>0.0</td>\n",
              "      <td>0.0</td>\n",
              "      <td>1.0</td>\n",
              "      <td>0.00</td>\n",
              "      <td>...</td>\n",
              "      <td>1.0</td>\n",
              "      <td>0.0</td>\n",
              "      <td>0.0</td>\n",
              "      <td>1.0</td>\n",
              "      <td>0.0</td>\n",
              "      <td>0.0</td>\n",
              "      <td>0.0</td>\n",
              "      <td>0.0</td>\n",
              "      <td>0.0</td>\n",
              "      <td>0.0</td>\n",
              "    </tr>\n",
              "    <tr>\n",
              "      <th>1</th>\n",
              "      <td>0009bd21-7539-62ff-f653-a6f6bac25380</td>\n",
              "      <td>1.0</td>\n",
              "      <td>0.0</td>\n",
              "      <td>0.0</td>\n",
              "      <td>0.0</td>\n",
              "      <td>0.0</td>\n",
              "      <td>0.0</td>\n",
              "      <td>0.0</td>\n",
              "      <td>0.0</td>\n",
              "      <td>0.17</td>\n",
              "      <td>...</td>\n",
              "      <td>0.0</td>\n",
              "      <td>1.0</td>\n",
              "      <td>0.0</td>\n",
              "      <td>1.0</td>\n",
              "      <td>0.0</td>\n",
              "      <td>0.0</td>\n",
              "      <td>0.0</td>\n",
              "      <td>0.0</td>\n",
              "      <td>0.0</td>\n",
              "      <td>0.0</td>\n",
              "    </tr>\n",
              "    <tr>\n",
              "      <th>2</th>\n",
              "      <td>0014f96a-b816-5b96-af31-e7268b46061d</td>\n",
              "      <td>1.0</td>\n",
              "      <td>0.0</td>\n",
              "      <td>0.0</td>\n",
              "      <td>0.0</td>\n",
              "      <td>0.0</td>\n",
              "      <td>0.0</td>\n",
              "      <td>0.0</td>\n",
              "      <td>0.0</td>\n",
              "      <td>0.00</td>\n",
              "      <td>...</td>\n",
              "      <td>0.0</td>\n",
              "      <td>1.0</td>\n",
              "      <td>0.0</td>\n",
              "      <td>1.0</td>\n",
              "      <td>0.0</td>\n",
              "      <td>0.0</td>\n",
              "      <td>0.0</td>\n",
              "      <td>0.0</td>\n",
              "      <td>0.0</td>\n",
              "      <td>0.0</td>\n",
              "    </tr>\n",
              "  </tbody>\n",
              "</table>\n",
              "<p>3 rows × 30 columns</p>\n",
              "</div>"
            ],
            "text/plain": [
              "                               userCode  day0_x  day1_x  day2_x  day3_x  \\\n",
              "0  00051896-b6d5-27b2-1590-6445018f084b     1.0     0.0     0.0     0.0   \n",
              "1  0009bd21-7539-62ff-f653-a6f6bac25380     1.0     0.0     0.0     0.0   \n",
              "2  0014f96a-b816-5b96-af31-e7268b46061d     1.0     0.0     0.0     0.0   \n",
              "\n",
              "   day4_x  day5_x  day6_x  0-8  20-23   ...    Google  HomeWebsite  \\\n",
              "0     0.0     0.0     0.0  1.0   0.00   ...       1.0          0.0   \n",
              "1     0.0     0.0     0.0  0.0   0.17   ...       0.0          1.0   \n",
              "2     0.0     0.0     0.0  0.0   0.00   ...       0.0          1.0   \n",
              "\n",
              "   Other_PageReferer  day0_y  day1_y  day2_y  day3_y  day4_y  day5_y  day6_y  \n",
              "0                0.0     1.0     0.0     0.0     0.0     0.0     0.0     0.0  \n",
              "1                0.0     1.0     0.0     0.0     0.0     0.0     0.0     0.0  \n",
              "2                0.0     1.0     0.0     0.0     0.0     0.0     0.0     0.0  \n",
              "\n",
              "[3 rows x 30 columns]"
            ]
          },
          "metadata": {
            "tags": []
          },
          "execution_count": 212
        }
      ]
    },
    {
      "metadata": {
        "id": "m1DRkoRM2mrz",
        "colab_type": "code",
        "colab": {},
        "outputId": "a269d7ba-33f9-447d-a2c8-160e570c6729"
      },
      "cell_type": "code",
      "source": [
        "df_train_userprofile = pd.merge(df_train_pivot.reset_index()\n",
        "                                , user_profile\n",
        "                                , how='left'\n",
        "                                , on=['userCode'])\n",
        "df_train_userprofile.head(3)"
      ],
      "execution_count": 0,
      "outputs": [
        {
          "output_type": "execute_result",
          "data": {
            "text/html": [
              "<div>\n",
              "<style>\n",
              "    .dataframe thead tr:only-child th {\n",
              "        text-align: right;\n",
              "    }\n",
              "\n",
              "    .dataframe thead th {\n",
              "        text-align: left;\n",
              "    }\n",
              "\n",
              "    .dataframe tbody tr th {\n",
              "        vertical-align: top;\n",
              "    }\n",
              "</style>\n",
              "<table border=\"1\" class=\"dataframe\">\n",
              "  <thead>\n",
              "    <tr style=\"text-align: right;\">\n",
              "      <th></th>\n",
              "      <th>userCode</th>\n",
              "      <th>24</th>\n",
              "      <th>29</th>\n",
              "      <th>41</th>\n",
              "      <th>45</th>\n",
              "      <th>133</th>\n",
              "      <th>141</th>\n",
              "      <th>156</th>\n",
              "      <th>157</th>\n",
              "      <th>161</th>\n",
              "      <th>...</th>\n",
              "      <th>Google</th>\n",
              "      <th>HomeWebsite</th>\n",
              "      <th>Other_PageReferer</th>\n",
              "      <th>day0_y</th>\n",
              "      <th>day1_y</th>\n",
              "      <th>day2_y</th>\n",
              "      <th>day3_y</th>\n",
              "      <th>day4_y</th>\n",
              "      <th>day5_y</th>\n",
              "      <th>day6_y</th>\n",
              "    </tr>\n",
              "  </thead>\n",
              "  <tbody>\n",
              "    <tr>\n",
              "      <th>0</th>\n",
              "      <td>00051896-b6d5-27b2-1590-6445018f084b</td>\n",
              "      <td>0.0</td>\n",
              "      <td>0.0</td>\n",
              "      <td>0.0</td>\n",
              "      <td>0.0</td>\n",
              "      <td>0.0</td>\n",
              "      <td>0.0</td>\n",
              "      <td>0.0</td>\n",
              "      <td>0.0</td>\n",
              "      <td>0.0</td>\n",
              "      <td>...</td>\n",
              "      <td>1.0</td>\n",
              "      <td>0.0</td>\n",
              "      <td>0.0</td>\n",
              "      <td>1.0</td>\n",
              "      <td>0.0</td>\n",
              "      <td>0.0</td>\n",
              "      <td>0.0</td>\n",
              "      <td>0.0</td>\n",
              "      <td>0.0</td>\n",
              "      <td>0.0</td>\n",
              "    </tr>\n",
              "    <tr>\n",
              "      <th>1</th>\n",
              "      <td>0009bd21-7539-62ff-f653-a6f6bac25380</td>\n",
              "      <td>0.0</td>\n",
              "      <td>0.0</td>\n",
              "      <td>0.0</td>\n",
              "      <td>0.0</td>\n",
              "      <td>0.0</td>\n",
              "      <td>0.0</td>\n",
              "      <td>0.0</td>\n",
              "      <td>0.0</td>\n",
              "      <td>0.0</td>\n",
              "      <td>...</td>\n",
              "      <td>0.0</td>\n",
              "      <td>1.0</td>\n",
              "      <td>0.0</td>\n",
              "      <td>1.0</td>\n",
              "      <td>0.0</td>\n",
              "      <td>0.0</td>\n",
              "      <td>0.0</td>\n",
              "      <td>0.0</td>\n",
              "      <td>0.0</td>\n",
              "      <td>0.0</td>\n",
              "    </tr>\n",
              "    <tr>\n",
              "      <th>2</th>\n",
              "      <td>0014f96a-b816-5b96-af31-e7268b46061d</td>\n",
              "      <td>0.0</td>\n",
              "      <td>0.0</td>\n",
              "      <td>0.0</td>\n",
              "      <td>0.0</td>\n",
              "      <td>0.0</td>\n",
              "      <td>0.0</td>\n",
              "      <td>0.0</td>\n",
              "      <td>0.0</td>\n",
              "      <td>0.0</td>\n",
              "      <td>...</td>\n",
              "      <td>0.0</td>\n",
              "      <td>1.0</td>\n",
              "      <td>0.0</td>\n",
              "      <td>1.0</td>\n",
              "      <td>0.0</td>\n",
              "      <td>0.0</td>\n",
              "      <td>0.0</td>\n",
              "      <td>0.0</td>\n",
              "      <td>0.0</td>\n",
              "      <td>0.0</td>\n",
              "    </tr>\n",
              "  </tbody>\n",
              "</table>\n",
              "<p>3 rows × 3883 columns</p>\n",
              "</div>"
            ],
            "text/plain": [
              "                               userCode   24   29   41   45  133  141  156  \\\n",
              "0  00051896-b6d5-27b2-1590-6445018f084b  0.0  0.0  0.0  0.0  0.0  0.0  0.0   \n",
              "1  0009bd21-7539-62ff-f653-a6f6bac25380  0.0  0.0  0.0  0.0  0.0  0.0  0.0   \n",
              "2  0014f96a-b816-5b96-af31-e7268b46061d  0.0  0.0  0.0  0.0  0.0  0.0  0.0   \n",
              "\n",
              "   157  161   ...    Google  HomeWebsite  Other_PageReferer  day0_y  day1_y  \\\n",
              "0  0.0  0.0   ...       1.0          0.0                0.0     1.0     0.0   \n",
              "1  0.0  0.0   ...       0.0          1.0                0.0     1.0     0.0   \n",
              "2  0.0  0.0   ...       0.0          1.0                0.0     1.0     0.0   \n",
              "\n",
              "   day2_y  day3_y  day4_y  day5_y  day6_y  \n",
              "0     0.0     0.0     0.0     0.0     0.0  \n",
              "1     0.0     0.0     0.0     0.0     0.0  \n",
              "2     0.0     0.0     0.0     0.0     0.0  \n",
              "\n",
              "[3 rows x 3883 columns]"
            ]
          },
          "metadata": {
            "tags": []
          },
          "execution_count": 213
        }
      ]
    },
    {
      "metadata": {
        "id": "q1uyOz1Z2mr2",
        "colab_type": "text"
      },
      "cell_type": "markdown",
      "source": [
        "set \"userCode\" to be index for fast search and create matrix user-item matrix"
      ]
    },
    {
      "metadata": {
        "id": "vMBjNqIw2mr2",
        "colab_type": "code",
        "colab": {},
        "outputId": "214c2ba1-9bf3-4c71-d0cb-5f9deb5fb4d8"
      },
      "cell_type": "code",
      "source": [
        "df_train_userprofile_indexed = df_train_userprofile.set_index(['userCode'])\n",
        "df_train_userprofile_matrix = df_train_userprofile_indexed.values\n",
        "df_train_userprofile_matrix[0]"
      ],
      "execution_count": 0,
      "outputs": [
        {
          "output_type": "execute_result",
          "data": {
            "text/plain": [
              "array([ 0.,  0.,  0., ...,  0.,  0.,  0.])"
            ]
          },
          "metadata": {
            "tags": []
          },
          "execution_count": 214
        }
      ]
    },
    {
      "metadata": {
        "id": "1EBSHPLU2mr5",
        "colab_type": "text"
      },
      "cell_type": "markdown",
      "source": [
        "### Create function for items recommendation"
      ]
    },
    {
      "metadata": {
        "id": "CwndKRc22mr5",
        "colab_type": "code",
        "colab": {},
        "outputId": "ff0a42f4-e7ea-40e8-9135-56b8ffa53103"
      },
      "cell_type": "code",
      "source": [
        "n_neighbors = 30\n",
        "model = NearestNeighbors(metric = 'cosine', algorithm = 'brute',  n_neighbors = n_neighbors) # euclidean\n",
        "model.fit(df_train_userprofile_matrix)"
      ],
      "execution_count": 0,
      "outputs": [
        {
          "output_type": "execute_result",
          "data": {
            "text/plain": [
              "NearestNeighbors(algorithm='brute', leaf_size=30, metric='cosine',\n",
              "         metric_params=None, n_jobs=1, n_neighbors=30, p=2, radius=1.0)"
            ]
          },
          "metadata": {
            "tags": []
          },
          "execution_count": 215
        }
      ]
    },
    {
      "metadata": {
        "id": "LhNQ1lGC2mr8",
        "colab_type": "code",
        "colab": {},
        "collapsed": true
      },
      "cell_type": "code",
      "source": [
        "def recommend_items(user_id, model, df_users, df_rating, prodect_cols, items_to_ignore=[], topn=7, n_neighbors=n_neighbors):\n",
        "    \n",
        "    distances, indices = model.kneighbors(df_users[df_users.index == user_id].iloc[0].values.reshape(1, -1)\n",
        "                                       , n_neighbors = n_neighbors)\n",
        "    \n",
        "    interacted = np.zeros((n_neighbors, df_rating.shape[1]))\n",
        "    n = np.zeros((n_neighbors, df_rating.shape[1]))\n",
        "    \n",
        "    sim = 0\n",
        "    n_user = len(distances.flatten())\n",
        "    for i in range(1, n_user):\n",
        "        \n",
        "        sim_ = 1 - distances.flatten()[i]\n",
        "        sim += sim_\n",
        "        rating = df_rating.loc[df_rating.index[indices.flatten()[i]]].values\n",
        "        value = rating * sim\n",
        "        interacted[i:i+1] += value\n",
        "    \n",
        "    k_weight_rating = sum(interacted)/sim\n",
        "    \n",
        "    recommend_df = pd.DataFrame({\"project_id\":prodect_cols, \"k_weight_rating\": k_weight_rating})\n",
        "    recommend_df = (recommend_df[~recommend_df['project_id'].isin(items_to_ignore)]\n",
        "                             .sort_values('k_weight_rating', ascending = False)\n",
        "                             .head(topn))\n",
        "    \n",
        "    recommend_items = recommend_df['project_id'].values\n",
        "    recommendation_df = pd.DataFrame({\"userCode\": user_id, \"project_id\": recommend_items})\n",
        "    return recommendation_df, recommend_items"
      ],
      "execution_count": 0,
      "outputs": []
    },
    {
      "metadata": {
        "id": "bRkiLnXX2mr-",
        "colab_type": "code",
        "colab": {}
      },
      "cell_type": "code",
      "source": [
        "prodect_cols = df_train_pivot.columns\n",
        "user_id = '435f1a34-21ca-d605-0968-cb1b5b3f9aeb'\n",
        "model = model\n",
        "df_users = df_train_userprofile_indexed # dataframe to select user_id to calculate similarity\n",
        "df_rating = df_train_pivot # matrix to calculate weight\n",
        "items_to_ignore = get_item_interacted(df_train_indexed, user_id)\n",
        "recommend_df, items = recommend_items(user_id, model, df_users, df_rating, prodect_cols, items_to_ignore, 7, 30)"
      ],
      "execution_count": 0,
      "outputs": []
    },
    {
      "metadata": {
        "id": "Pd2bs4Ws2mr_",
        "colab_type": "code",
        "colab": {},
        "outputId": "aa14888d-c8b6-41ab-d9c3-29c323dbd0cb"
      },
      "cell_type": "code",
      "source": [
        "recommend_df"
      ],
      "execution_count": 0,
      "outputs": [
        {
          "output_type": "execute_result",
          "data": {
            "text/html": [
              "<div>\n",
              "<style>\n",
              "    .dataframe thead tr:only-child th {\n",
              "        text-align: right;\n",
              "    }\n",
              "\n",
              "    .dataframe thead th {\n",
              "        text-align: left;\n",
              "    }\n",
              "\n",
              "    .dataframe tbody tr th {\n",
              "        vertical-align: top;\n",
              "    }\n",
              "</style>\n",
              "<table border=\"1\" class=\"dataframe\">\n",
              "  <thead>\n",
              "    <tr style=\"text-align: right;\">\n",
              "      <th></th>\n",
              "      <th>project_id</th>\n",
              "      <th>userCode</th>\n",
              "    </tr>\n",
              "  </thead>\n",
              "  <tbody>\n",
              "    <tr>\n",
              "      <th>0</th>\n",
              "      <td>8732</td>\n",
              "      <td>435f1a34-21ca-d605-0968-cb1b5b3f9aeb</td>\n",
              "    </tr>\n",
              "    <tr>\n",
              "      <th>1</th>\n",
              "      <td>8348</td>\n",
              "      <td>435f1a34-21ca-d605-0968-cb1b5b3f9aeb</td>\n",
              "    </tr>\n",
              "    <tr>\n",
              "      <th>2</th>\n",
              "      <td>4417</td>\n",
              "      <td>435f1a34-21ca-d605-0968-cb1b5b3f9aeb</td>\n",
              "    </tr>\n",
              "    <tr>\n",
              "      <th>3</th>\n",
              "      <td>8833</td>\n",
              "      <td>435f1a34-21ca-d605-0968-cb1b5b3f9aeb</td>\n",
              "    </tr>\n",
              "    <tr>\n",
              "      <th>4</th>\n",
              "      <td>8783</td>\n",
              "      <td>435f1a34-21ca-d605-0968-cb1b5b3f9aeb</td>\n",
              "    </tr>\n",
              "    <tr>\n",
              "      <th>5</th>\n",
              "      <td>7934</td>\n",
              "      <td>435f1a34-21ca-d605-0968-cb1b5b3f9aeb</td>\n",
              "    </tr>\n",
              "    <tr>\n",
              "      <th>6</th>\n",
              "      <td>9059</td>\n",
              "      <td>435f1a34-21ca-d605-0968-cb1b5b3f9aeb</td>\n",
              "    </tr>\n",
              "  </tbody>\n",
              "</table>\n",
              "</div>"
            ],
            "text/plain": [
              "   project_id                              userCode\n",
              "0        8732  435f1a34-21ca-d605-0968-cb1b5b3f9aeb\n",
              "1        8348  435f1a34-21ca-d605-0968-cb1b5b3f9aeb\n",
              "2        4417  435f1a34-21ca-d605-0968-cb1b5b3f9aeb\n",
              "3        8833  435f1a34-21ca-d605-0968-cb1b5b3f9aeb\n",
              "4        8783  435f1a34-21ca-d605-0968-cb1b5b3f9aeb\n",
              "5        7934  435f1a34-21ca-d605-0968-cb1b5b3f9aeb\n",
              "6        9059  435f1a34-21ca-d605-0968-cb1b5b3f9aeb"
            ]
          },
          "metadata": {
            "tags": []
          },
          "execution_count": 221
        }
      ]
    },
    {
      "metadata": {
        "id": "x0DHrw-h2msC",
        "colab_type": "text"
      },
      "cell_type": "markdown",
      "source": [
        "### Transform data for submit to kaggle\n",
        "\n",
        "Format of dataframe for 'transform_to_kaggle' function, consist of 2 columns\n",
        "- userCode\n",
        "- project_id : order by sequence of recommendation (7 sequences)\n",
        "\n",
        "```\n",
        "|------------+--------------|\n",
        "|  userCode  |  project_id  |\n",
        "|------------+--------------|\n",
        "| user A     |      4       |\n",
        "| user A     |     21       |\n",
        "| user A     |     34       |\n",
        "|  ..        |     ..       |\n",
        "```"
      ]
    },
    {
      "metadata": {
        "id": "cXOOyosy2msC",
        "colab_type": "code",
        "colab": {},
        "collapsed": true
      },
      "cell_type": "code",
      "source": [
        "def transform_to_kaggle(recommend_df):\n",
        "    \n",
        "    \"\"\"\n",
        "    Input:\n",
        "        - recommed_df: userCode and project_id\n",
        "    \n",
        "    Returns:\n",
        "        - recommed_df: \n",
        "    \"\"\"\n",
        "    testing_dataset = []\n",
        "    recommend_df_indexed = recommend_df.set_index('userCode')\n",
        "    \n",
        "    for idx, user_id in enumerate(list(recommend_df_indexed.index.unique().values)):\n",
        "        \n",
        "        interacted_testset = recommend_df_indexed[recommend_df_indexed.index == user_id]\n",
        "        rank_actual = list(interacted_testset['project_id'].values)\n",
        "\n",
        "        if len(rank_actual) > 0:\n",
        "            rank_actual_str = ' '.join(str(r) for r in rank_actual)\n",
        "            testing_dataset.append({\"userCode\": user_id\n",
        "                                   ,\"project_id\": rank_actual_str})\n",
        "            \n",
        "    testing_df = pd.DataFrame(testing_dataset)\n",
        "    testing_df = testing_df[['userCode', 'project_id']]\n",
        "    return testing_df"
      ],
      "execution_count": 0,
      "outputs": []
    },
    {
      "metadata": {
        "id": "dfTDr7SJ2msD",
        "colab_type": "code",
        "colab": {},
        "collapsed": true
      },
      "cell_type": "code",
      "source": [
        "submit_file = transform_to_kaggle(recommend_df)"
      ],
      "execution_count": 0,
      "outputs": []
    },
    {
      "metadata": {
        "id": "2oKaLbGs2msF",
        "colab_type": "code",
        "colab": {},
        "outputId": "39f75224-e20a-4aa4-e79e-2af8472cca81"
      },
      "cell_type": "code",
      "source": [
        "submit_file"
      ],
      "execution_count": 0,
      "outputs": [
        {
          "output_type": "execute_result",
          "data": {
            "text/html": [
              "<div>\n",
              "<style>\n",
              "    .dataframe thead tr:only-child th {\n",
              "        text-align: right;\n",
              "    }\n",
              "\n",
              "    .dataframe thead th {\n",
              "        text-align: left;\n",
              "    }\n",
              "\n",
              "    .dataframe tbody tr th {\n",
              "        vertical-align: top;\n",
              "    }\n",
              "</style>\n",
              "<table border=\"1\" class=\"dataframe\">\n",
              "  <thead>\n",
              "    <tr style=\"text-align: right;\">\n",
              "      <th></th>\n",
              "      <th>userCode</th>\n",
              "      <th>project_id</th>\n",
              "    </tr>\n",
              "  </thead>\n",
              "  <tbody>\n",
              "    <tr>\n",
              "      <th>0</th>\n",
              "      <td>435f1a34-21ca-d605-0968-cb1b5b3f9aeb</td>\n",
              "      <td>8325 9080 4167 1967 9186 8406 2729 4312 6305 5099</td>\n",
              "    </tr>\n",
              "  </tbody>\n",
              "</table>\n",
              "</div>"
            ],
            "text/plain": [
              "                               userCode  \\\n",
              "0  435f1a34-21ca-d605-0968-cb1b5b3f9aeb   \n",
              "\n",
              "                                          project_id  \n",
              "0  8325 9080 4167 1967 9186 8406 2729 4312 6305 5099  "
            ]
          },
          "metadata": {
            "tags": []
          },
          "execution_count": 197
        }
      ]
    },
    {
      "metadata": {
        "id": "YuqLnHN82msI",
        "colab_type": "code",
        "colab": {},
        "collapsed": true
      },
      "cell_type": "code",
      "source": [
        ""
      ],
      "execution_count": 0,
      "outputs": []
    }
  ]
}