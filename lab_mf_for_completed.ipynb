{
  "nbformat": 4,
  "nbformat_minor": 0,
  "metadata": {
    "colab": {
      "name": "lab_mf_for_completed.ipynb",
      "version": "0.3.2",
      "provenance": []
    },
    "kernelspec": {
      "display_name": "Python 3",
      "language": "python",
      "name": "python3"
    }
  },
  "cells": [
    {
      "metadata": {
        "id": "6w54V_Ljf56T",
        "colab_type": "code",
        "colab": {}
      },
      "cell_type": "code",
      "source": [
        "# required library\n",
        "import pandas as pd\n",
        "import numpy as np\n",
        "import matplotlib.pyplot as plt\n",
        "import datetime"
      ],
      "execution_count": 0,
      "outputs": []
    },
    {
      "metadata": {
        "id": "dwtFtCfxf56X",
        "colab_type": "code",
        "colab": {
          "base_uri": "https://localhost:8080/",
          "height": 142
        },
        "outputId": "b7adc289-be82-418a-f66a-0c4886623cee"
      },
      "cell_type": "code",
      "source": [
        "\n",
        "df = pd.read_csv('https://raw.githubusercontent.com/PanthonImem/Content-Based-Lab-Notebook/master/userLog_201801_201802_for_participants.csv', delimiter = ';', error_bad_lines = False, low_memory = False)\n",
        "df.head(3)"
      ],
      "execution_count": 19,
      "outputs": [
        {
          "output_type": "execute_result",
          "data": {
            "text/html": [
              "<div>\n",
              "<style scoped>\n",
              "    .dataframe tbody tr th:only-of-type {\n",
              "        vertical-align: middle;\n",
              "    }\n",
              "\n",
              "    .dataframe tbody tr th {\n",
              "        vertical-align: top;\n",
              "    }\n",
              "\n",
              "    .dataframe thead th {\n",
              "        text-align: right;\n",
              "    }\n",
              "</style>\n",
              "<table border=\"1\" class=\"dataframe\">\n",
              "  <thead>\n",
              "    <tr style=\"text-align: right;\">\n",
              "      <th></th>\n",
              "      <th>userCode</th>\n",
              "      <th>project_id</th>\n",
              "      <th>requestedDevice</th>\n",
              "      <th>userAgent</th>\n",
              "      <th>pageReferrer</th>\n",
              "      <th>year</th>\n",
              "      <th>month</th>\n",
              "      <th>day</th>\n",
              "      <th>hour</th>\n",
              "    </tr>\n",
              "  </thead>\n",
              "  <tbody>\n",
              "    <tr>\n",
              "      <th>0</th>\n",
              "      <td>7717bdc2-ea3e-e8ad-5d6b-178bd71c38b2</td>\n",
              "      <td>7956</td>\n",
              "      <td>Mobile</td>\n",
              "      <td>Android</td>\n",
              "      <td>HomeWebsite</td>\n",
              "      <td>2018</td>\n",
              "      <td>1</td>\n",
              "      <td>1</td>\n",
              "      <td>0</td>\n",
              "    </tr>\n",
              "    <tr>\n",
              "      <th>1</th>\n",
              "      <td>7717bdc2-ea3e-e8ad-5d6b-178bd71c38b2</td>\n",
              "      <td>7956</td>\n",
              "      <td>Mobile</td>\n",
              "      <td>Android</td>\n",
              "      <td>HomeWebsite</td>\n",
              "      <td>2018</td>\n",
              "      <td>1</td>\n",
              "      <td>1</td>\n",
              "      <td>0</td>\n",
              "    </tr>\n",
              "    <tr>\n",
              "      <th>2</th>\n",
              "      <td>cb5b4b68-cc01-6db6-f54b-4a0f881301c5</td>\n",
              "      <td>5067</td>\n",
              "      <td>Mobile</td>\n",
              "      <td>iPhone</td>\n",
              "      <td>HomeWebsite</td>\n",
              "      <td>2018</td>\n",
              "      <td>1</td>\n",
              "      <td>1</td>\n",
              "      <td>0</td>\n",
              "    </tr>\n",
              "  </tbody>\n",
              "</table>\n",
              "</div>"
            ],
            "text/plain": [
              "                               userCode  project_id requestedDevice userAgent  \\\n",
              "0  7717bdc2-ea3e-e8ad-5d6b-178bd71c38b2        7956          Mobile   Android   \n",
              "1  7717bdc2-ea3e-e8ad-5d6b-178bd71c38b2        7956          Mobile   Android   \n",
              "2  cb5b4b68-cc01-6db6-f54b-4a0f881301c5        5067          Mobile    iPhone   \n",
              "\n",
              "  pageReferrer  year  month  day  hour  \n",
              "0  HomeWebsite  2018      1    1     0  \n",
              "1  HomeWebsite  2018      1    1     0  \n",
              "2  HomeWebsite  2018      1    1     0  "
            ]
          },
          "metadata": {
            "tags": []
          },
          "execution_count": 19
        }
      ]
    },
    {
      "metadata": {
        "id": "-56G2Z5_f56c",
        "colab_type": "code",
        "colab": {
          "base_uri": "https://localhost:8080/",
          "height": 142
        },
        "outputId": "225b49a9-4163-465b-b163-6ce5f5733d0f"
      },
      "cell_type": "code",
      "source": [
        "test_users = pd.read_csv('https://raw.githubusercontent.com/PanthonImem/KNN-Recommedation/master/200_users.csv', delimiter = ';', error_bad_lines = False, low_memory = False)\n",
        "test_users.head(3)"
      ],
      "execution_count": 20,
      "outputs": [
        {
          "output_type": "execute_result",
          "data": {
            "text/html": [
              "<div>\n",
              "<style scoped>\n",
              "    .dataframe tbody tr th:only-of-type {\n",
              "        vertical-align: middle;\n",
              "    }\n",
              "\n",
              "    .dataframe tbody tr th {\n",
              "        vertical-align: top;\n",
              "    }\n",
              "\n",
              "    .dataframe thead th {\n",
              "        text-align: right;\n",
              "    }\n",
              "</style>\n",
              "<table border=\"1\" class=\"dataframe\">\n",
              "  <thead>\n",
              "    <tr style=\"text-align: right;\">\n",
              "      <th></th>\n",
              "      <th>userCode</th>\n",
              "    </tr>\n",
              "  </thead>\n",
              "  <tbody>\n",
              "    <tr>\n",
              "      <th>0</th>\n",
              "      <td>003b2f18-60b4-37be-c63d-0caead1afa97</td>\n",
              "    </tr>\n",
              "    <tr>\n",
              "      <th>1</th>\n",
              "      <td>02b44422-25f6-56bb-459c-5944b346badb</td>\n",
              "    </tr>\n",
              "    <tr>\n",
              "      <th>2</th>\n",
              "      <td>0419a38a-d883-3bb7-fa1a-8e1a256b89d3</td>\n",
              "    </tr>\n",
              "  </tbody>\n",
              "</table>\n",
              "</div>"
            ],
            "text/plain": [
              "                               userCode\n",
              "0  003b2f18-60b4-37be-c63d-0caead1afa97\n",
              "1  02b44422-25f6-56bb-459c-5944b346badb\n",
              "2  0419a38a-d883-3bb7-fa1a-8e1a256b89d3"
            ]
          },
          "metadata": {
            "tags": []
          },
          "execution_count": 20
        }
      ]
    },
    {
      "metadata": {
        "id": "OQQTKGmRf56f",
        "colab_type": "code",
        "colab": {
          "base_uri": "https://localhost:8080/",
          "height": 119
        },
        "outputId": "493cfad4-a47d-49a8-c81a-01ec7aa4ec02"
      },
      "cell_type": "code",
      "source": [
        "df_train = df[df['userCode'].isin(set(test_users['userCode']))]\n",
        "df_train['interacted'] = 1"
      ],
      "execution_count": 21,
      "outputs": [
        {
          "output_type": "stream",
          "text": [
            "/usr/local/lib/python3.6/dist-packages/ipykernel_launcher.py:2: SettingWithCopyWarning: \n",
            "A value is trying to be set on a copy of a slice from a DataFrame.\n",
            "Try using .loc[row_indexer,col_indexer] = value instead\n",
            "\n",
            "See the caveats in the documentation: http://pandas.pydata.org/pandas-docs/stable/indexing.html#indexing-view-versus-copy\n",
            "  \n"
          ],
          "name": "stderr"
        }
      ]
    },
    {
      "metadata": {
        "id": "y7CwN_Jqf56j",
        "colab_type": "code",
        "colab": {
          "base_uri": "https://localhost:8080/",
          "height": 253
        },
        "outputId": "1ec3a294-37c8-4f2f-a63f-816a975fb276"
      },
      "cell_type": "code",
      "source": [
        "# Convert the dataframe into a matrix using pivot() and set index of df_train for fast search \n",
        "df_train_indexed = df_train[['userCode', 'project_id', 'interacted']].drop_duplicates()\n",
        "df_train_pivot = (df_train_indexed.pivot(index = 'userCode', columns = 'project_id', values = 'interacted')\n",
        "                                  .fillna(0))\n",
        "df_train_pivot.head(3)"
      ],
      "execution_count": 22,
      "outputs": [
        {
          "output_type": "execute_result",
          "data": {
            "text/html": [
              "<div>\n",
              "<style scoped>\n",
              "    .dataframe tbody tr th:only-of-type {\n",
              "        vertical-align: middle;\n",
              "    }\n",
              "\n",
              "    .dataframe tbody tr th {\n",
              "        vertical-align: top;\n",
              "    }\n",
              "\n",
              "    .dataframe thead th {\n",
              "        text-align: right;\n",
              "    }\n",
              "</style>\n",
              "<table border=\"1\" class=\"dataframe\">\n",
              "  <thead>\n",
              "    <tr style=\"text-align: right;\">\n",
              "      <th>project_id</th>\n",
              "      <th>192</th>\n",
              "      <th>271</th>\n",
              "      <th>291</th>\n",
              "      <th>368</th>\n",
              "      <th>934</th>\n",
              "      <th>1093</th>\n",
              "      <th>1903</th>\n",
              "      <th>1908</th>\n",
              "      <th>1936</th>\n",
              "      <th>1967</th>\n",
              "      <th>...</th>\n",
              "      <th>9352</th>\n",
              "      <th>9367</th>\n",
              "      <th>9378</th>\n",
              "      <th>9385</th>\n",
              "      <th>9389</th>\n",
              "      <th>9426</th>\n",
              "      <th>9428</th>\n",
              "      <th>9447</th>\n",
              "      <th>9477</th>\n",
              "      <th>9483</th>\n",
              "    </tr>\n",
              "    <tr>\n",
              "      <th>userCode</th>\n",
              "      <th></th>\n",
              "      <th></th>\n",
              "      <th></th>\n",
              "      <th></th>\n",
              "      <th></th>\n",
              "      <th></th>\n",
              "      <th></th>\n",
              "      <th></th>\n",
              "      <th></th>\n",
              "      <th></th>\n",
              "      <th></th>\n",
              "      <th></th>\n",
              "      <th></th>\n",
              "      <th></th>\n",
              "      <th></th>\n",
              "      <th></th>\n",
              "      <th></th>\n",
              "      <th></th>\n",
              "      <th></th>\n",
              "      <th></th>\n",
              "      <th></th>\n",
              "    </tr>\n",
              "  </thead>\n",
              "  <tbody>\n",
              "    <tr>\n",
              "      <th>003b2f18-60b4-37be-c63d-0caead1afa97</th>\n",
              "      <td>0.0</td>\n",
              "      <td>0.0</td>\n",
              "      <td>0.0</td>\n",
              "      <td>0.0</td>\n",
              "      <td>0.0</td>\n",
              "      <td>0.0</td>\n",
              "      <td>0.0</td>\n",
              "      <td>0.0</td>\n",
              "      <td>0.0</td>\n",
              "      <td>0.0</td>\n",
              "      <td>...</td>\n",
              "      <td>0.0</td>\n",
              "      <td>0.0</td>\n",
              "      <td>0.0</td>\n",
              "      <td>0.0</td>\n",
              "      <td>0.0</td>\n",
              "      <td>0.0</td>\n",
              "      <td>0.0</td>\n",
              "      <td>0.0</td>\n",
              "      <td>0.0</td>\n",
              "      <td>0.0</td>\n",
              "    </tr>\n",
              "    <tr>\n",
              "      <th>02b44422-25f6-56bb-459c-5944b346badb</th>\n",
              "      <td>0.0</td>\n",
              "      <td>0.0</td>\n",
              "      <td>0.0</td>\n",
              "      <td>0.0</td>\n",
              "      <td>0.0</td>\n",
              "      <td>0.0</td>\n",
              "      <td>0.0</td>\n",
              "      <td>0.0</td>\n",
              "      <td>0.0</td>\n",
              "      <td>0.0</td>\n",
              "      <td>...</td>\n",
              "      <td>0.0</td>\n",
              "      <td>0.0</td>\n",
              "      <td>0.0</td>\n",
              "      <td>0.0</td>\n",
              "      <td>0.0</td>\n",
              "      <td>0.0</td>\n",
              "      <td>0.0</td>\n",
              "      <td>0.0</td>\n",
              "      <td>0.0</td>\n",
              "      <td>0.0</td>\n",
              "    </tr>\n",
              "    <tr>\n",
              "      <th>0419a38a-d883-3bb7-fa1a-8e1a256b89d3</th>\n",
              "      <td>0.0</td>\n",
              "      <td>0.0</td>\n",
              "      <td>0.0</td>\n",
              "      <td>0.0</td>\n",
              "      <td>0.0</td>\n",
              "      <td>0.0</td>\n",
              "      <td>0.0</td>\n",
              "      <td>0.0</td>\n",
              "      <td>0.0</td>\n",
              "      <td>0.0</td>\n",
              "      <td>...</td>\n",
              "      <td>0.0</td>\n",
              "      <td>0.0</td>\n",
              "      <td>0.0</td>\n",
              "      <td>0.0</td>\n",
              "      <td>0.0</td>\n",
              "      <td>0.0</td>\n",
              "      <td>0.0</td>\n",
              "      <td>0.0</td>\n",
              "      <td>0.0</td>\n",
              "      <td>0.0</td>\n",
              "    </tr>\n",
              "  </tbody>\n",
              "</table>\n",
              "<p>3 rows × 477 columns</p>\n",
              "</div>"
            ],
            "text/plain": [
              "project_id                            192   271   291   368   934   1093  \\\n",
              "userCode                                                                   \n",
              "003b2f18-60b4-37be-c63d-0caead1afa97   0.0   0.0   0.0   0.0   0.0   0.0   \n",
              "02b44422-25f6-56bb-459c-5944b346badb   0.0   0.0   0.0   0.0   0.0   0.0   \n",
              "0419a38a-d883-3bb7-fa1a-8e1a256b89d3   0.0   0.0   0.0   0.0   0.0   0.0   \n",
              "\n",
              "project_id                            1903  1908  1936  1967  ...   9352  \\\n",
              "userCode                                                      ...          \n",
              "003b2f18-60b4-37be-c63d-0caead1afa97   0.0   0.0   0.0   0.0  ...    0.0   \n",
              "02b44422-25f6-56bb-459c-5944b346badb   0.0   0.0   0.0   0.0  ...    0.0   \n",
              "0419a38a-d883-3bb7-fa1a-8e1a256b89d3   0.0   0.0   0.0   0.0  ...    0.0   \n",
              "\n",
              "project_id                            9367  9378  9385  9389  9426  9428  \\\n",
              "userCode                                                                   \n",
              "003b2f18-60b4-37be-c63d-0caead1afa97   0.0   0.0   0.0   0.0   0.0   0.0   \n",
              "02b44422-25f6-56bb-459c-5944b346badb   0.0   0.0   0.0   0.0   0.0   0.0   \n",
              "0419a38a-d883-3bb7-fa1a-8e1a256b89d3   0.0   0.0   0.0   0.0   0.0   0.0   \n",
              "\n",
              "project_id                            9447  9477  9483  \n",
              "userCode                                                \n",
              "003b2f18-60b4-37be-c63d-0caead1afa97   0.0   0.0   0.0  \n",
              "02b44422-25f6-56bb-459c-5944b346badb   0.0   0.0   0.0  \n",
              "0419a38a-d883-3bb7-fa1a-8e1a256b89d3   0.0   0.0   0.0  \n",
              "\n",
              "[3 rows x 477 columns]"
            ]
          },
          "metadata": {
            "tags": []
          },
          "execution_count": 22
        }
      ]
    },
    {
      "metadata": {
        "id": "V2MTAJcif56n",
        "colab_type": "code",
        "colab": {
          "base_uri": "https://localhost:8080/",
          "height": 34
        },
        "outputId": "4d38f02e-7528-482d-9ff7-2e7916609447"
      },
      "cell_type": "code",
      "source": [
        "df_train_matrix = df_train_pivot.values\n",
        "df_train_matrix.shape"
      ],
      "execution_count": 23,
      "outputs": [
        {
          "output_type": "execute_result",
          "data": {
            "text/plain": [
              "(200, 477)"
            ]
          },
          "metadata": {
            "tags": []
          },
          "execution_count": 23
        }
      ]
    },
    {
      "metadata": {
        "id": "E2RteOXjf56s",
        "colab_type": "code",
        "colab": {
          "base_uri": "https://localhost:8080/",
          "height": 173
        },
        "outputId": "b7d906eb-709e-4b59-8c8e-295649970e8b"
      },
      "cell_type": "code",
      "source": [
        "df_train_indexed = df_train_indexed.set_index('userCode')\n",
        "df_train_indexed.head(3)"
      ],
      "execution_count": 24,
      "outputs": [
        {
          "output_type": "execute_result",
          "data": {
            "text/html": [
              "<div>\n",
              "<style scoped>\n",
              "    .dataframe tbody tr th:only-of-type {\n",
              "        vertical-align: middle;\n",
              "    }\n",
              "\n",
              "    .dataframe tbody tr th {\n",
              "        vertical-align: top;\n",
              "    }\n",
              "\n",
              "    .dataframe thead th {\n",
              "        text-align: right;\n",
              "    }\n",
              "</style>\n",
              "<table border=\"1\" class=\"dataframe\">\n",
              "  <thead>\n",
              "    <tr style=\"text-align: right;\">\n",
              "      <th></th>\n",
              "      <th>project_id</th>\n",
              "      <th>interacted</th>\n",
              "    </tr>\n",
              "    <tr>\n",
              "      <th>userCode</th>\n",
              "      <th></th>\n",
              "      <th></th>\n",
              "    </tr>\n",
              "  </thead>\n",
              "  <tbody>\n",
              "    <tr>\n",
              "      <th>7efda6e1-5990-f0f7-9cee-2ea77afcc4b2</th>\n",
              "      <td>6529</td>\n",
              "      <td>1</td>\n",
              "    </tr>\n",
              "    <tr>\n",
              "      <th>04da975f-e725-5008-70f2-0506905a1a96</th>\n",
              "      <td>4386</td>\n",
              "      <td>1</td>\n",
              "    </tr>\n",
              "    <tr>\n",
              "      <th>4f91b4c7-f4af-4247-4867-14ad6fa99335</th>\n",
              "      <td>9018</td>\n",
              "      <td>1</td>\n",
              "    </tr>\n",
              "  </tbody>\n",
              "</table>\n",
              "</div>"
            ],
            "text/plain": [
              "                                      project_id  interacted\n",
              "userCode                                                    \n",
              "7efda6e1-5990-f0f7-9cee-2ea77afcc4b2        6529           1\n",
              "04da975f-e725-5008-70f2-0506905a1a96        4386           1\n",
              "4f91b4c7-f4af-4247-4867-14ad6fa99335        9018           1"
            ]
          },
          "metadata": {
            "tags": []
          },
          "execution_count": 24
        }
      ]
    },
    {
      "metadata": {
        "id": "IIp1m1UTf56x",
        "colab_type": "text"
      },
      "cell_type": "markdown",
      "source": [
        "## Implementing matrix factorisation for recommender system\n",
        "For more infomation, http://nimfa.biolab.si/"
      ]
    },
    {
      "metadata": {
        "id": "gmZQG39Vf56z",
        "colab_type": "code",
        "colab": {
          "base_uri": "https://localhost:8080/",
          "height": 68
        },
        "outputId": "0d5b29aa-1e63-4f4e-c7a2-5feb0525c2e3"
      },
      "cell_type": "code",
      "source": [
        "!pip3 install nimfa\n",
        "import nimfa"
      ],
      "execution_count": 25,
      "outputs": [
        {
          "output_type": "stream",
          "text": [
            "Requirement already satisfied: nimfa in /usr/local/lib/python3.6/dist-packages (1.3.4)\r\n",
            "Requirement already satisfied: scipy>=0.12.0 in /usr/local/lib/python3.6/dist-packages (from nimfa) (0.19.1)\n",
            "Requirement already satisfied: numpy>=1.7.0 in /usr/local/lib/python3.6/dist-packages (from nimfa) (1.14.5)\n"
          ],
          "name": "stdout"
        }
      ]
    },
    {
      "metadata": {
        "id": "aNDzpSvXf561",
        "colab_type": "code",
        "colab": {
          "base_uri": "https://localhost:8080/",
          "height": 751
        },
        "outputId": "b63c6a2b-9119-412e-faac-dae551d1a2ce"
      },
      "cell_type": "code",
      "source": [
        "snmf = nimfa.Snmf(df_train_matrix, seed=\"random_vcol\", rank=70, max_iter=12, rel_error=1e-5)\n",
        "snmf_fit = snmf()"
      ],
      "execution_count": 0,
      "outputs": [
        {
          "output_type": "stream",
          "text": [
            "/usr/local/lib/python3.6/dist-packages/nimfa/methods/factorization/snmf.py:605: FutureWarning: `rcond` parameter will change to the default of machine precision times ``max(M, N)`` where M and N are the input matrix dimensions.\n",
            "To use the future default and silence this warning we advise to pass `rcond=None`, to keep using the old, explicitly pass `rcond=-1`.\n",
            "  K = np.linalg.lstsq(CtC, CtA)[0]\n",
            "/usr/local/lib/python3.6/dist-packages/nimfa/methods/factorization/snmf.py:622: FutureWarning: `rcond` parameter will change to the default of machine precision times ``max(M, N)`` where M and N are the input matrix dimensions.\n",
            "To use the future default and silence this warning we advise to pass `rcond=None`, to keep using the old, explicitly pass `rcond=-1`.\n",
            "  sol = np.linalg.lstsq(A, B)[0]\n",
            "/usr/local/lib/python3.6/dist-packages/nimfa/methods/factorization/snmf.py:622: FutureWarning: `rcond` parameter will change to the default of machine precision times ``max(M, N)`` where M and N are the input matrix dimensions.\n",
            "To use the future default and silence this warning we advise to pass `rcond=None`, to keep using the old, explicitly pass `rcond=-1`.\n",
            "  sol = np.linalg.lstsq(A, B)[0]\n",
            "/usr/local/lib/python3.6/dist-packages/nimfa/methods/factorization/snmf.py:622: FutureWarning: `rcond` parameter will change to the default of machine precision times ``max(M, N)`` where M and N are the input matrix dimensions.\n",
            "To use the future default and silence this warning we advise to pass `rcond=None`, to keep using the old, explicitly pass `rcond=-1`.\n",
            "  sol = np.linalg.lstsq(A, B)[0]\n",
            "/usr/local/lib/python3.6/dist-packages/nimfa/methods/factorization/snmf.py:622: FutureWarning: `rcond` parameter will change to the default of machine precision times ``max(M, N)`` where M and N are the input matrix dimensions.\n",
            "To use the future default and silence this warning we advise to pass `rcond=None`, to keep using the old, explicitly pass `rcond=-1`.\n",
            "  sol = np.linalg.lstsq(A, B)[0]\n",
            "/usr/local/lib/python3.6/dist-packages/nimfa/methods/factorization/snmf.py:622: FutureWarning: `rcond` parameter will change to the default of machine precision times ``max(M, N)`` where M and N are the input matrix dimensions.\n",
            "To use the future default and silence this warning we advise to pass `rcond=None`, to keep using the old, explicitly pass `rcond=-1`.\n",
            "  sol = np.linalg.lstsq(A, B)[0]\n",
            "/usr/local/lib/python3.6/dist-packages/nimfa/methods/factorization/snmf.py:622: FutureWarning: `rcond` parameter will change to the default of machine precision times ``max(M, N)`` where M and N are the input matrix dimensions.\n",
            "To use the future default and silence this warning we advise to pass `rcond=None`, to keep using the old, explicitly pass `rcond=-1`.\n",
            "  sol = np.linalg.lstsq(A, B)[0]\n",
            "/usr/local/lib/python3.6/dist-packages/nimfa/methods/factorization/snmf.py:622: FutureWarning: `rcond` parameter will change to the default of machine precision times ``max(M, N)`` where M and N are the input matrix dimensions.\n",
            "To use the future default and silence this warning we advise to pass `rcond=None`, to keep using the old, explicitly pass `rcond=-1`.\n",
            "  sol = np.linalg.lstsq(A, B)[0]\n",
            "/usr/local/lib/python3.6/dist-packages/nimfa/methods/factorization/snmf.py:622: FutureWarning: `rcond` parameter will change to the default of machine precision times ``max(M, N)`` where M and N are the input matrix dimensions.\n",
            "To use the future default and silence this warning we advise to pass `rcond=None`, to keep using the old, explicitly pass `rcond=-1`.\n",
            "  sol = np.linalg.lstsq(A, B)[0]\n",
            "/usr/local/lib/python3.6/dist-packages/nimfa/methods/factorization/snmf.py:622: FutureWarning: `rcond` parameter will change to the default of machine precision times ``max(M, N)`` where M and N are the input matrix dimensions.\n",
            "To use the future default and silence this warning we advise to pass `rcond=None`, to keep using the old, explicitly pass `rcond=-1`.\n",
            "  sol = np.linalg.lstsq(A, B)[0]\n",
            "/usr/local/lib/python3.6/dist-packages/nimfa/methods/factorization/snmf.py:622: FutureWarning: `rcond` parameter will change to the default of machine precision times ``max(M, N)`` where M and N are the input matrix dimensions.\n",
            "To use the future default and silence this warning we advise to pass `rcond=None`, to keep using the old, explicitly pass `rcond=-1`.\n",
            "  sol = np.linalg.lstsq(A, B)[0]\n",
            "/usr/local/lib/python3.6/dist-packages/nimfa/methods/factorization/snmf.py:622: FutureWarning: `rcond` parameter will change to the default of machine precision times ``max(M, N)`` where M and N are the input matrix dimensions.\n",
            "To use the future default and silence this warning we advise to pass `rcond=None`, to keep using the old, explicitly pass `rcond=-1`.\n",
            "  sol = np.linalg.lstsq(A, B)[0]\n",
            "/usr/local/lib/python3.6/dist-packages/nimfa/methods/factorization/snmf.py:622: FutureWarning: `rcond` parameter will change to the default of machine precision times ``max(M, N)`` where M and N are the input matrix dimensions.\n",
            "To use the future default and silence this warning we advise to pass `rcond=None`, to keep using the old, explicitly pass `rcond=-1`.\n",
            "  sol = np.linalg.lstsq(A, B)[0]\n",
            "/usr/local/lib/python3.6/dist-packages/nimfa/methods/factorization/snmf.py:622: FutureWarning: `rcond` parameter will change to the default of machine precision times ``max(M, N)`` where M and N are the input matrix dimensions.\n",
            "To use the future default and silence this warning we advise to pass `rcond=None`, to keep using the old, explicitly pass `rcond=-1`.\n",
            "  sol = np.linalg.lstsq(A, B)[0]\n"
          ],
          "name": "stderr"
        }
      ]
    },
    {
      "metadata": {
        "id": "UMjYcgVAf567",
        "colab_type": "code",
        "colab": {}
      },
      "cell_type": "code",
      "source": [
        "W = snmf_fit.basis()\n",
        "H = snmf_fit.coef()"
      ],
      "execution_count": 0,
      "outputs": []
    },
    {
      "metadata": {
        "id": "Lx2gL-dPf56-",
        "colab_type": "code",
        "colab": {},
        "outputId": "128e415e-b77c-4d97-9381-f90b12412471"
      },
      "cell_type": "code",
      "source": [
        "result = (W*H)\n",
        "result.shape"
      ],
      "execution_count": 0,
      "outputs": [
        {
          "output_type": "execute_result",
          "data": {
            "text/plain": [
              "(7408, 3477)"
            ]
          },
          "metadata": {
            "tags": []
          },
          "execution_count": 14
        }
      ]
    },
    {
      "metadata": {
        "id": "q6t3dObUf57B",
        "colab_type": "code",
        "colab": {}
      },
      "cell_type": "code",
      "source": [
        "colnames = df_train_pivot.columns\n",
        "user_list = list(df_train_pivot.index)"
      ],
      "execution_count": 0,
      "outputs": []
    },
    {
      "metadata": {
        "id": "5VdMbdI5f57D",
        "colab_type": "code",
        "colab": {},
        "outputId": "1433d2d2-bec7-4631-d166-6bdb5040c2e3"
      },
      "cell_type": "code",
      "source": [
        "result_df = pd.DataFrame(result)\n",
        "result_df['userCode'] = user_list\n",
        "result_df = result_df.set_index(['userCode'])\n",
        "result_df.columns = colnames\n",
        "result_df.head(3)"
      ],
      "execution_count": 0,
      "outputs": [
        {
          "output_type": "execute_result",
          "data": {
            "text/html": [
              "<div>\n",
              "<style>\n",
              "    .dataframe thead tr:only-child th {\n",
              "        text-align: right;\n",
              "    }\n",
              "\n",
              "    .dataframe thead th {\n",
              "        text-align: left;\n",
              "    }\n",
              "\n",
              "    .dataframe tbody tr th {\n",
              "        vertical-align: top;\n",
              "    }\n",
              "</style>\n",
              "<table border=\"1\" class=\"dataframe\">\n",
              "  <thead>\n",
              "    <tr style=\"text-align: right;\">\n",
              "      <th>project_id</th>\n",
              "      <th>4</th>\n",
              "      <th>44</th>\n",
              "      <th>45</th>\n",
              "      <th>73</th>\n",
              "      <th>115</th>\n",
              "      <th>133</th>\n",
              "      <th>189</th>\n",
              "      <th>192</th>\n",
              "      <th>219</th>\n",
              "      <th>223</th>\n",
              "      <th>...</th>\n",
              "      <th>9483</th>\n",
              "      <th>9484</th>\n",
              "      <th>9486</th>\n",
              "      <th>9489</th>\n",
              "      <th>9491</th>\n",
              "      <th>9492</th>\n",
              "      <th>9493</th>\n",
              "      <th>9494</th>\n",
              "      <th>9496</th>\n",
              "      <th>9499</th>\n",
              "    </tr>\n",
              "    <tr>\n",
              "      <th>userCode</th>\n",
              "      <th></th>\n",
              "      <th></th>\n",
              "      <th></th>\n",
              "      <th></th>\n",
              "      <th></th>\n",
              "      <th></th>\n",
              "      <th></th>\n",
              "      <th></th>\n",
              "      <th></th>\n",
              "      <th></th>\n",
              "      <th></th>\n",
              "      <th></th>\n",
              "      <th></th>\n",
              "      <th></th>\n",
              "      <th></th>\n",
              "      <th></th>\n",
              "      <th></th>\n",
              "      <th></th>\n",
              "      <th></th>\n",
              "      <th></th>\n",
              "      <th></th>\n",
              "    </tr>\n",
              "  </thead>\n",
              "  <tbody>\n",
              "    <tr>\n",
              "      <th>0015e266-4175-bd2b-f3c2-945e61ad0cb6</th>\n",
              "      <td>9.602127e-07</td>\n",
              "      <td>0.000022</td>\n",
              "      <td>0.000072</td>\n",
              "      <td>1.768465e-16</td>\n",
              "      <td>0.000001</td>\n",
              "      <td>2.140914e-17</td>\n",
              "      <td>0.000078</td>\n",
              "      <td>0.000036</td>\n",
              "      <td>0.000106</td>\n",
              "      <td>0.000117</td>\n",
              "      <td>...</td>\n",
              "      <td>1.242429e-15</td>\n",
              "      <td>1.147677e-04</td>\n",
              "      <td>7.290279e-18</td>\n",
              "      <td>9.137139e-10</td>\n",
              "      <td>2.065618e-05</td>\n",
              "      <td>3.023071e-07</td>\n",
              "      <td>0.000001</td>\n",
              "      <td>8.903326e-18</td>\n",
              "      <td>1.620090e-17</td>\n",
              "      <td>3.136501e-06</td>\n",
              "    </tr>\n",
              "    <tr>\n",
              "      <th>00306a7d-e425-653c-03cb-ce4a3a478dcb</th>\n",
              "      <td>2.001155e-04</td>\n",
              "      <td>0.000645</td>\n",
              "      <td>0.000115</td>\n",
              "      <td>4.167887e-03</td>\n",
              "      <td>0.000428</td>\n",
              "      <td>1.254775e-04</td>\n",
              "      <td>0.000799</td>\n",
              "      <td>0.000097</td>\n",
              "      <td>0.000215</td>\n",
              "      <td>0.000023</td>\n",
              "      <td>...</td>\n",
              "      <td>1.263010e-15</td>\n",
              "      <td>6.809788e-05</td>\n",
              "      <td>1.078395e-05</td>\n",
              "      <td>2.430650e-17</td>\n",
              "      <td>3.696481e-03</td>\n",
              "      <td>5.409869e-05</td>\n",
              "      <td>0.000156</td>\n",
              "      <td>1.387250e-04</td>\n",
              "      <td>1.076919e-08</td>\n",
              "      <td>2.515312e-17</td>\n",
              "    </tr>\n",
              "    <tr>\n",
              "      <th>0032f4d6-6391-1f2c-14f6-73212fa9c0f8</th>\n",
              "      <td>4.928295e-03</td>\n",
              "      <td>0.002421</td>\n",
              "      <td>0.000004</td>\n",
              "      <td>2.779951e-04</td>\n",
              "      <td>0.000383</td>\n",
              "      <td>3.133308e-05</td>\n",
              "      <td>0.000107</td>\n",
              "      <td>0.010418</td>\n",
              "      <td>0.000431</td>\n",
              "      <td>0.000003</td>\n",
              "      <td>...</td>\n",
              "      <td>1.255588e-15</td>\n",
              "      <td>3.493577e-16</td>\n",
              "      <td>2.044994e-17</td>\n",
              "      <td>1.249953e-07</td>\n",
              "      <td>9.917759e-17</td>\n",
              "      <td>4.281519e-04</td>\n",
              "      <td>0.000020</td>\n",
              "      <td>2.206298e-17</td>\n",
              "      <td>2.936055e-17</td>\n",
              "      <td>1.773144e-17</td>\n",
              "    </tr>\n",
              "  </tbody>\n",
              "</table>\n",
              "<p>3 rows × 3477 columns</p>\n",
              "</div>"
            ],
            "text/plain": [
              "project_id                                    4         44        45    \\\n",
              "userCode                                                                 \n",
              "0015e266-4175-bd2b-f3c2-945e61ad0cb6  9.602127e-07  0.000022  0.000072   \n",
              "00306a7d-e425-653c-03cb-ce4a3a478dcb  2.001155e-04  0.000645  0.000115   \n",
              "0032f4d6-6391-1f2c-14f6-73212fa9c0f8  4.928295e-03  0.002421  0.000004   \n",
              "\n",
              "project_id                                    73        115           133   \\\n",
              "userCode                                                                     \n",
              "0015e266-4175-bd2b-f3c2-945e61ad0cb6  1.768465e-16  0.000001  2.140914e-17   \n",
              "00306a7d-e425-653c-03cb-ce4a3a478dcb  4.167887e-03  0.000428  1.254775e-04   \n",
              "0032f4d6-6391-1f2c-14f6-73212fa9c0f8  2.779951e-04  0.000383  3.133308e-05   \n",
              "\n",
              "project_id                                189       192       219       223   \\\n",
              "userCode                                                                       \n",
              "0015e266-4175-bd2b-f3c2-945e61ad0cb6  0.000078  0.000036  0.000106  0.000117   \n",
              "00306a7d-e425-653c-03cb-ce4a3a478dcb  0.000799  0.000097  0.000215  0.000023   \n",
              "0032f4d6-6391-1f2c-14f6-73212fa9c0f8  0.000107  0.010418  0.000431  0.000003   \n",
              "\n",
              "project_id                                ...               9483  \\\n",
              "userCode                                  ...                      \n",
              "0015e266-4175-bd2b-f3c2-945e61ad0cb6      ...       1.242429e-15   \n",
              "00306a7d-e425-653c-03cb-ce4a3a478dcb      ...       1.263010e-15   \n",
              "0032f4d6-6391-1f2c-14f6-73212fa9c0f8      ...       1.255588e-15   \n",
              "\n",
              "project_id                                    9484          9486  \\\n",
              "userCode                                                           \n",
              "0015e266-4175-bd2b-f3c2-945e61ad0cb6  1.147677e-04  7.290279e-18   \n",
              "00306a7d-e425-653c-03cb-ce4a3a478dcb  6.809788e-05  1.078395e-05   \n",
              "0032f4d6-6391-1f2c-14f6-73212fa9c0f8  3.493577e-16  2.044994e-17   \n",
              "\n",
              "project_id                                    9489          9491  \\\n",
              "userCode                                                           \n",
              "0015e266-4175-bd2b-f3c2-945e61ad0cb6  9.137139e-10  2.065618e-05   \n",
              "00306a7d-e425-653c-03cb-ce4a3a478dcb  2.430650e-17  3.696481e-03   \n",
              "0032f4d6-6391-1f2c-14f6-73212fa9c0f8  1.249953e-07  9.917759e-17   \n",
              "\n",
              "project_id                                    9492      9493          9494  \\\n",
              "userCode                                                                     \n",
              "0015e266-4175-bd2b-f3c2-945e61ad0cb6  3.023071e-07  0.000001  8.903326e-18   \n",
              "00306a7d-e425-653c-03cb-ce4a3a478dcb  5.409869e-05  0.000156  1.387250e-04   \n",
              "0032f4d6-6391-1f2c-14f6-73212fa9c0f8  4.281519e-04  0.000020  2.206298e-17   \n",
              "\n",
              "project_id                                    9496          9499  \n",
              "userCode                                                          \n",
              "0015e266-4175-bd2b-f3c2-945e61ad0cb6  1.620090e-17  3.136501e-06  \n",
              "00306a7d-e425-653c-03cb-ce4a3a478dcb  1.076919e-08  2.515312e-17  \n",
              "0032f4d6-6391-1f2c-14f6-73212fa9c0f8  2.936055e-17  1.773144e-17  \n",
              "\n",
              "[3 rows x 3477 columns]"
            ]
          },
          "metadata": {
            "tags": []
          },
          "execution_count": 18
        }
      ]
    },
    {
      "metadata": {
        "id": "tYmCpzyDf57H",
        "colab_type": "text"
      },
      "cell_type": "markdown",
      "source": [
        "#### Recommended items"
      ]
    },
    {
      "metadata": {
        "id": "Q0RZQ_K1f57J",
        "colab_type": "code",
        "colab": {}
      },
      "cell_type": "code",
      "source": [
        "def get_item_interacted(df, user_id):\n",
        "        # to ignore interacted itemset when recommend\n",
        "    \"\"\"\n",
        "    Args:\n",
        "    - userId = user id\n",
        "    Return:\n",
        "    - set of interacted itemsets\n",
        "    \"\"\"\n",
        "    interacted_projects = df[df.index == user_id][['project_id']]\n",
        "    return set(interacted_projects['project_id'].values)"
      ],
      "execution_count": 0,
      "outputs": []
    },
    {
      "metadata": {
        "id": "h9GHelIwf57N",
        "colab_type": "code",
        "colab": {},
        "outputId": "0bf65580-fe09-4813-bc46-c8030be905ca"
      },
      "cell_type": "code",
      "source": [
        "recommend_df = pd.DataFrame(columns = ['userCode', 'project_id'])\n",
        "recommend_df"
      ],
      "execution_count": 0,
      "outputs": [
        {
          "output_type": "execute_result",
          "data": {
            "text/html": [
              "<div>\n",
              "<style>\n",
              "    .dataframe thead tr:only-child th {\n",
              "        text-align: right;\n",
              "    }\n",
              "\n",
              "    .dataframe thead th {\n",
              "        text-align: left;\n",
              "    }\n",
              "\n",
              "    .dataframe tbody tr th {\n",
              "        vertical-align: top;\n",
              "    }\n",
              "</style>\n",
              "<table border=\"1\" class=\"dataframe\">\n",
              "  <thead>\n",
              "    <tr style=\"text-align: right;\">\n",
              "      <th></th>\n",
              "      <th>userCode</th>\n",
              "      <th>project_id</th>\n",
              "    </tr>\n",
              "  </thead>\n",
              "  <tbody>\n",
              "  </tbody>\n",
              "</table>\n",
              "</div>"
            ],
            "text/plain": [
              "Empty DataFrame\n",
              "Columns: [userCode, project_id]\n",
              "Index: []"
            ]
          },
          "metadata": {
            "tags": []
          },
          "execution_count": 20
        }
      ]
    },
    {
      "metadata": {
        "id": "jkK06Q-Kf57S",
        "colab_type": "code",
        "colab": {}
      },
      "cell_type": "code",
      "source": [
        "for i in user_list:\n",
        "    \n",
        "    user_id = i\n",
        "    items_to_ignore = get_item_interacted(df_train_indexed, user_id)\n",
        "    pred_df = result_df[result_df.index == user_id].reset_index()\n",
        "    pred_df = pd.melt(pred_df, id_vars=[\"userCode\"], var_name=\"project_id\", value_name=\"rating\")\n",
        "    pred_df = (pred_df[~pred_df['project_id'].isin(items_to_ignore)]\n",
        "                                             .sort_values(['rating'], ascending=False)\n",
        "                                             .head(7))\n",
        "    pred_df = pred_df[['userCode', 'project_id']]\n",
        "    recommend_df = pd.concat([recommend_df, pred_df])"
      ],
      "execution_count": 0,
      "outputs": []
    },
    {
      "metadata": {
        "id": "PwyHvzh6f57X",
        "colab_type": "code",
        "colab": {},
        "outputId": "89d93499-c579-4311-bfcb-fe6d2eff037b"
      },
      "cell_type": "code",
      "source": [
        "recommend_df.head(10)"
      ],
      "execution_count": 0,
      "outputs": [
        {
          "output_type": "execute_result",
          "data": {
            "text/html": [
              "<div>\n",
              "<style>\n",
              "    .dataframe thead tr:only-child th {\n",
              "        text-align: right;\n",
              "    }\n",
              "\n",
              "    .dataframe thead th {\n",
              "        text-align: left;\n",
              "    }\n",
              "\n",
              "    .dataframe tbody tr th {\n",
              "        vertical-align: top;\n",
              "    }\n",
              "</style>\n",
              "<table border=\"1\" class=\"dataframe\">\n",
              "  <thead>\n",
              "    <tr style=\"text-align: right;\">\n",
              "      <th></th>\n",
              "      <th>userCode</th>\n",
              "      <th>project_id</th>\n",
              "    </tr>\n",
              "  </thead>\n",
              "  <tbody>\n",
              "    <tr>\n",
              "      <th>1216</th>\n",
              "      <td>0015e266-4175-bd2b-f3c2-945e61ad0cb6</td>\n",
              "      <td>5396</td>\n",
              "    </tr>\n",
              "    <tr>\n",
              "      <th>109</th>\n",
              "      <td>0015e266-4175-bd2b-f3c2-945e61ad0cb6</td>\n",
              "      <td>2028</td>\n",
              "    </tr>\n",
              "    <tr>\n",
              "      <th>1182</th>\n",
              "      <td>0015e266-4175-bd2b-f3c2-945e61ad0cb6</td>\n",
              "      <td>5323</td>\n",
              "    </tr>\n",
              "    <tr>\n",
              "      <th>2319</th>\n",
              "      <td>0015e266-4175-bd2b-f3c2-945e61ad0cb6</td>\n",
              "      <td>7694</td>\n",
              "    </tr>\n",
              "    <tr>\n",
              "      <th>2455</th>\n",
              "      <td>0015e266-4175-bd2b-f3c2-945e61ad0cb6</td>\n",
              "      <td>8015</td>\n",
              "    </tr>\n",
              "    <tr>\n",
              "      <th>2953</th>\n",
              "      <td>0015e266-4175-bd2b-f3c2-945e61ad0cb6</td>\n",
              "      <td>8734</td>\n",
              "    </tr>\n",
              "    <tr>\n",
              "      <th>1765</th>\n",
              "      <td>0015e266-4175-bd2b-f3c2-945e61ad0cb6</td>\n",
              "      <td>6506</td>\n",
              "    </tr>\n",
              "    <tr>\n",
              "      <th>3121</th>\n",
              "      <td>00306a7d-e425-653c-03cb-ce4a3a478dcb</td>\n",
              "      <td>8997</td>\n",
              "    </tr>\n",
              "    <tr>\n",
              "      <th>1722</th>\n",
              "      <td>00306a7d-e425-653c-03cb-ce4a3a478dcb</td>\n",
              "      <td>6443</td>\n",
              "    </tr>\n",
              "    <tr>\n",
              "      <th>1273</th>\n",
              "      <td>00306a7d-e425-653c-03cb-ce4a3a478dcb</td>\n",
              "      <td>5500</td>\n",
              "    </tr>\n",
              "  </tbody>\n",
              "</table>\n",
              "</div>"
            ],
            "text/plain": [
              "                                  userCode project_id\n",
              "1216  0015e266-4175-bd2b-f3c2-945e61ad0cb6       5396\n",
              "109   0015e266-4175-bd2b-f3c2-945e61ad0cb6       2028\n",
              "1182  0015e266-4175-bd2b-f3c2-945e61ad0cb6       5323\n",
              "2319  0015e266-4175-bd2b-f3c2-945e61ad0cb6       7694\n",
              "2455  0015e266-4175-bd2b-f3c2-945e61ad0cb6       8015\n",
              "2953  0015e266-4175-bd2b-f3c2-945e61ad0cb6       8734\n",
              "1765  0015e266-4175-bd2b-f3c2-945e61ad0cb6       6506\n",
              "3121  00306a7d-e425-653c-03cb-ce4a3a478dcb       8997\n",
              "1722  00306a7d-e425-653c-03cb-ce4a3a478dcb       6443\n",
              "1273  00306a7d-e425-653c-03cb-ce4a3a478dcb       5500"
            ]
          },
          "metadata": {
            "tags": []
          },
          "execution_count": 28
        }
      ]
    },
    {
      "metadata": {
        "id": "A8S-Pwz4f57c",
        "colab_type": "code",
        "colab": {}
      },
      "cell_type": "code",
      "source": [
        ""
      ],
      "execution_count": 0,
      "outputs": []
    }
  ]
}